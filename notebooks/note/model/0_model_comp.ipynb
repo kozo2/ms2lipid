{
 "cells": [
  {
   "cell_type": "code",
   "execution_count": 1,
   "metadata": {},
   "outputs": [],
   "source": [
    "import pandas as pd"
   ]
  },
  {
   "cell_type": "markdown",
   "metadata": {},
   "source": [
    "pos"
   ]
  },
  {
   "cell_type": "code",
   "execution_count": 2,
   "metadata": {},
   "outputs": [
    {
     "name": "stdout",
     "output_type": "stream",
     "text": [
      "63\n"
     ]
    }
   ],
   "source": [
    "df_pos2x = pd.read_csv('../../data/basedata/df_pos_MCH.csv')\n",
    "\n",
    "from sklearn.model_selection import train_test_split\n",
    "columns_to_drop = ['Metabolitename', 'Ontology', 'dataset', 'AlignmentID', 'AverageMz']\n",
    "X = df_pos2x.drop(columns=columns_to_drop).astype(float).values\n",
    "y = df_pos2x['Ontology']\n",
    "print(len(y.unique()))\n",
    "\n",
    "X_train, X_test, y_train, y_test = train_test_split(X, y, test_size=0.2, random_state=42, stratify=y)"
   ]
  },
  {
   "cell_type": "markdown",
   "metadata": {},
   "source": [
    "kNN, RF, SVM, XGBoost, MLP"
   ]
  },
  {
   "cell_type": "code",
   "execution_count": 4,
   "metadata": {},
   "outputs": [],
   "source": [
    "from sklearn.neighbors import KNeighborsClassifier\n",
    "from sklearn.model_selection import GridSearchCV\n",
    "from sklearn.metrics import accuracy_score\n",
    "from sklearn.preprocessing import LabelEncoder\n",
    "import joblib\n",
    "\n",
    "\n",
    "label_encoder = LabelEncoder()\n",
    "y_train_encoded = label_encoder.fit_transform(y_train)\n",
    "y_test_encoded = label_encoder.transform(y_test)\n",
    "\n",
    "param_grid_knn = {'n_neighbors': [3,5,7,9,11,13,15]}\n",
    "grid_search_knn = GridSearchCV(KNeighborsClassifier(), param_grid_knn, cv=5, n_jobs=60)\n",
    "\n",
    "grid_search_knn.fit(X_train, y_train_encoded)\n",
    "print('Best parameters for kNN:', grid_search_knn.best_params_)\n",
    "\n",
    "y_pred_knn = grid_search_knn.predict(X_test)\n",
    "print('kNN Accuracy:', accuracy_score(y_test_encoded, y_pred_knn))\n",
    "\n",
    "best_knn_model = grid_search_knn.best_estimator_\n",
    "joblib.dump(best_knn_model, '../../data/model_comp/pos_pred_result/best_knn_model_pos.joblib')"
   ]
  },
  {
   "cell_type": "code",
   "execution_count": 5,
   "metadata": {},
   "outputs": [],
   "source": [
    "from sklearn.ensemble import RandomForestClassifier\n",
    "\n",
    "param_grid_rf = {\n",
    "    'n_estimators': [50, 100, 200],\n",
    "    'max_depth': [None, 10, 20, 30]\n",
    "}\n",
    "\n",
    "grid_search_rf = GridSearchCV(RandomForestClassifier(random_state=42), param_grid_rf, cv=5)\n",
    "grid_search_rf.fit(X_train, y_train_encoded)\n",
    "print('Best parameters for Random Forest:', grid_search_rf.best_params_)\n",
    "\n",
    "y_pred_rf = grid_search_rf.predict(X_test)\n",
    "print('Random Forest Accuracy:', accuracy_score(y_test_encoded, y_pred_rf))\n",
    "\n",
    "best_rf_model = grid_search_rf.best_estimator_\n",
    "joblib.dump(best_rf_model, '../../data/model_comp/pos_pred_result/best_rf_model_pos.joblib')"
   ]
  },
  {
   "cell_type": "code",
   "execution_count": 6,
   "metadata": {},
   "outputs": [],
   "source": [
    "from sklearn.svm import SVC\n",
    "\n",
    "param_grid_svm = {\n",
    "    'C': [0.1, 1, 10, 100],\n",
    "    'kernel': ['linear', 'rbf']\n",
    "}\n",
    "\n",
    "grid_search_svm = GridSearchCV(SVC(random_state=42), param_grid_svm, cv=5)\n",
    "grid_search_svm.fit(X_train, y_train_encoded)\n",
    "print('Best parameters for SVM:', grid_search_svm.best_params_)\n",
    "\n",
    "y_pred_svm = grid_search_svm.predict(X_test)\n",
    "print('SVM Accuracy:', accuracy_score(y_test_encoded, y_pred_svm))\n",
    "\n",
    "best_svm_model = grid_search_svm.best_estimator_\n",
    "joblib.dump(best_svm_model, '../../data/model_comp/pos_pred_result/best_svm_model_pos.joblib')"
   ]
  },
  {
   "cell_type": "code",
   "execution_count": 7,
   "metadata": {},
   "outputs": [],
   "source": [
    "import xgboost as xgb\n",
    "\n",
    "param_grid_xgb = {\n",
    "    'n_estimators': [50, 100, 200],\n",
    "    'max_depth': [3, 6, 9],\n",
    "    'learning_rate': [0.01, 0.1, 0.3]\n",
    "}\n",
    "\n",
    "grid_search_xgb = GridSearchCV(xgb.XGBClassifier(use_label_encoder=False, eval_metric='mlogloss', random_state=42), param_grid_xgb, cv=5)\n",
    "grid_search_xgb.fit(X_train, y_train_encoded)\n",
    "print('Best parameters for XGBoost:', grid_search_xgb.best_params_)\n",
    "\n",
    "y_pred_xgb = grid_search_xgb.predict(X_test)\n",
    "print('XGBoost Accuracy:', accuracy_score(y_test_encoded, y_pred_xgb))\n",
    "\n",
    "best_xgb_model = grid_search_xgb.best_estimator_\n",
    "joblib.dump(best_xgb_model, '../../data/model_comp/pos_pred_result/best_xgb_model_pos.joblib')"
   ]
  },
  {
   "cell_type": "code",
   "execution_count": 8,
   "metadata": {},
   "outputs": [],
   "source": [
    "from sklearn.neural_network import MLPClassifier\n",
    "\n",
    "param_grid_mlp = {\n",
    "    'hidden_layer_sizes': [(50,), (100,), (100, 50)],\n",
    "    'activation': ['tanh', 'relu'],\n",
    "    'solver': ['sgd', 'adam'],\n",
    "    'alpha': [0.0001, 0.001],\n",
    "    'learning_rate': ['constant', 'adaptive']\n",
    "}\n",
    "\n",
    "grid_search_mlp = GridSearchCV(MLPClassifier(max_iter=1000, random_state=42), param_grid_mlp, cv=5)\n",
    "grid_search_mlp.fit(X_train, y_train_encoded)\n",
    "print('Best parameters for MLP:', grid_search_mlp.best_params_)\n",
    "\n",
    "y_pred_mlp = grid_search_mlp.predict(X_test)\n",
    "print('MLP Accuracy:', accuracy_score(y_test_encoded, y_pred_mlp))\n",
    "\n",
    "best_mlp_model = grid_search_mlp.best_estimator_\n",
    "joblib.dump(best_mlp_model, '../../data/model_comp/pos_pred_result/best_mlp_model_pos.joblib')"
   ]
  },
  {
   "cell_type": "code",
   "execution_count": 21,
   "metadata": {},
   "outputs": [],
   "source": [
    "from sklearn.metrics import accuracy_score, precision_score, recall_score, f1_score\n",
    "\n",
    "def cal_score(y_test, y_pred_rf):\n",
    "    accuracy = accuracy_score(y_test, y_pred_rf)\n",
    "    precision = precision_score(y_test, y_pred_rf, average='macro', zero_division=0)\n",
    "    recall = recall_score(y_test, y_pred_rf, average='macro')\n",
    "    f1 = f1_score(y_test, y_pred_rf, average='macro')\n",
    "    list = [accuracy, precision, recall, f1]\n",
    "\n",
    "    print('Accuracy:', accuracy)\n",
    "    print('Precision:', precision)\n",
    "    print('Recall:', recall)\n",
    "    print('F1 Score:', f1)\n",
    "\n",
    "    return list"
   ]
  },
  {
   "cell_type": "code",
   "execution_count": 22,
   "metadata": {},
   "outputs": [
    {
     "name": "stdout",
     "output_type": "stream",
     "text": [
      "kNN\n",
      "Accuracy: 0.8732227488151659\n",
      "Precision: 0.827201275233229\n",
      "Recall: 0.6885202147399908\n",
      "F1 Score: 0.7220970680161969\n",
      "Random Forest\n",
      "Accuracy: 0.9259478672985783\n",
      "Precision: 0.8205742398137006\n",
      "Recall: 0.731809722718779\n",
      "F1 Score: 0.7627713562103623\n",
      "SVM\n",
      "Accuracy: 0.9342417061611374\n",
      "Precision: 0.9065703972592458\n",
      "Recall: 0.8825678092003171\n",
      "F1 Score: 0.8890054773268861\n",
      "XGBoost\n",
      "Accuracy: 0.9691943127962085\n",
      "Precision: 0.9201977738689365\n",
      "Recall: 0.8819468418728298\n",
      "F1 Score: 0.8944619601208434\n",
      "MLP\n",
      "Accuracy: 0.9354265402843602\n",
      "Precision: 0.9007847040270226\n",
      "Recall: 0.8478168306914614\n",
      "F1 Score: 0.8654859787888672\n"
     ]
    }
   ],
   "source": [
    "print('kNN')\n",
    "knn_result_list = cal_score(y_test_encoded, y_pred_knn)\n",
    "print('Random Forest')\n",
    "rf_result_list = cal_score(y_test_encoded, y_pred_rf)\n",
    "print('SVM')\n",
    "svm_result_list = cal_score(y_test_encoded, y_pred_svm)\n",
    "print('XGBoost')\n",
    "xgb_result_list = cal_score(y_test_encoded, y_pred_xgb)\n",
    "print('MLP')\n",
    "mlp_result_list = cal_score(y_test_encoded, y_pred_mlp)"
   ]
  },
  {
   "cell_type": "code",
   "execution_count": 23,
   "metadata": {},
   "outputs": [],
   "source": [
    "pos_result_list = [knn_result_list, rf_result_list, svm_result_list, xgb_result_list, mlp_result_list]"
   ]
  },
  {
   "cell_type": "code",
   "execution_count": 26,
   "metadata": {},
   "outputs": [],
   "source": [
    "import pickle\n",
    "with open('../../data/model_comp/pos_pred_result/pos_result_list.pkl', 'wb') as f:\n",
    "    pickle.dump(pos_result_list, f)"
   ]
  },
  {
   "cell_type": "code",
   "execution_count": 16,
   "metadata": {},
   "outputs": [],
   "source": [
    "import numpy as np\n",
    "joblib.dump(label_encoder, '../../data/model_comp/pos_pred_result/label_encoder_pos.pkl')\n",
    "\n",
    "np.save('../../data/model_comp/pos_pred_result/y_test_encoded_pos.npy', y_test_encoded)\n",
    "np.save('../../data/model_comp/pos_pred_result/y_pred_knn_pos.npy', y_pred_knn)\n",
    "np.save('../../data/model_comp/pos_pred_result/y_pred_rf_pos.npy', y_pred_rf)\n",
    "np.save('../../data/model_comp/pos_pred_result/y_pred_svm_pos.npy', y_pred_svm)\n",
    "np.save('../../data/model_comp/pos_pred_result/y_pred_xgb_pos.npy', y_pred_xgb)\n",
    "np.save('../../data/model_comp/pos_pred_result/y_pred_mlp_pos.npy', y_pred_mlp)"
   ]
  },
  {
   "cell_type": "markdown",
   "metadata": {},
   "source": [
    "neg"
   ]
  },
  {
   "cell_type": "code",
   "execution_count": 9,
   "metadata": {},
   "outputs": [],
   "source": [
    "df_neg2x = pd.read_csv('../../data/basedata/df_neg_MCH.csv')\n",
    "\n",
    "from sklearn.model_selection import train_test_split\n",
    "columns_to_drop = ['Metabolitename', 'Ontology', 'dataset', 'AlignmentID', 'AverageMz']\n",
    "X = df_neg2x.drop(columns=columns_to_drop).astype(float).values\n",
    "y = df_neg2x['Ontology']\n",
    "print(len(y.unique()))\n",
    "\n",
    "X_train, X_test, y_train, y_test = train_test_split(X, y, test_size=0.2, random_state=42, stratify=y)"
   ]
  },
  {
   "cell_type": "code",
   "execution_count": 10,
   "metadata": {},
   "outputs": [],
   "source": [
    "from sklearn.neighbors import KNeighborsClassifier\n",
    "from sklearn.model_selection import GridSearchCV\n",
    "from sklearn.metrics import accuracy_score\n",
    "from sklearn.preprocessing import LabelEncoder\n",
    "import joblib\n",
    "\n",
    "\n",
    "label_encoder = LabelEncoder()\n",
    "y_train_encoded = label_encoder.fit_transform(y_train)\n",
    "y_test_encoded = label_encoder.transform(y_test)\n",
    "\n",
    "param_grid_knn = {'n_neighbors': [3,5,7,9,11,13,15]}\n",
    "grid_search_knn = GridSearchCV(KNeighborsClassifier(), param_grid_knn, cv=5)\n",
    "\n",
    "grid_search_knn.fit(X_train, y_train_encoded)\n",
    "print('Best parameters for kNN:', grid_search_knn.best_params_)\n",
    "\n",
    "y_pred_knn = grid_search_knn.predict(X_test)\n",
    "print('kNN Accuracy:', accuracy_score(y_test_encoded, y_pred_knn))\n",
    "\n",
    "best_knn_model = grid_search_knn.best_estimator_\n",
    "joblib.dump(best_knn_model, '../../data/model_comp/neg_pred_result/best_knn_model_neg.joblib')"
   ]
  },
  {
   "cell_type": "code",
   "execution_count": 11,
   "metadata": {},
   "outputs": [],
   "source": [
    "from sklearn.ensemble import RandomForestClassifier\n",
    "\n",
    "param_grid_rf = {\n",
    "    'n_estimators': [50, 100, 200],\n",
    "    'max_depth': [None, 10, 20, 30]\n",
    "}\n",
    "\n",
    "grid_search_rf = GridSearchCV(RandomForestClassifier(random_state=42), param_grid_rf, cv=5)\n",
    "grid_search_rf.fit(X_train, y_train_encoded)\n",
    "print('Best parameters for Random Forest:', grid_search_rf.best_params_)\n",
    "\n",
    "y_pred_rf = grid_search_rf.predict(X_test)\n",
    "print('Random Forest Accuracy:', accuracy_score(y_test_encoded, y_pred_rf))\n",
    "\n",
    "best_rf_model = grid_search_rf.best_estimator_\n",
    "joblib.dump(best_rf_model, '../../data/model_comp/neg_pred_result/best_rf_model_neg.joblib')"
   ]
  },
  {
   "cell_type": "code",
   "execution_count": 12,
   "metadata": {},
   "outputs": [],
   "source": [
    "from sklearn.svm import SVC\n",
    "\n",
    "param_grid_svm = {\n",
    "    'C': [0.1, 1, 10, 100],\n",
    "    'kernel': ['linear', 'rbf']\n",
    "}\n",
    "\n",
    "grid_search_svm = GridSearchCV(SVC(random_state=42), param_grid_svm, cv=5)\n",
    "grid_search_svm.fit(X_train, y_train_encoded)\n",
    "print('Best parameters for SVM:', grid_search_svm.best_params_)\n",
    "\n",
    "y_pred_svm = grid_search_svm.predict(X_test)\n",
    "print('SVM Accuracy:', accuracy_score(y_test_encoded, y_pred_svm))\n",
    "\n",
    "best_svm_model = grid_search_svm.best_estimator_\n",
    "joblib.dump(best_svm_model, '../../data/model_comp/neg_pred_result/best_svm_model_neg.joblib')"
   ]
  },
  {
   "cell_type": "code",
   "execution_count": 13,
   "metadata": {},
   "outputs": [],
   "source": [
    "import xgboost as xgb\n",
    "\n",
    "param_grid_xgb = {\n",
    "    'n_estimators': [50, 100, 200],\n",
    "    'max_depth': [3, 6, 9],\n",
    "    'learning_rate': [0.01, 0.1, 0.3]\n",
    "}\n",
    "\n",
    "grid_search_xgb = GridSearchCV(xgb.XGBClassifier(use_label_encoder=False, eval_metric='mlogloss', random_state=42), param_grid_xgb, cv=5)\n",
    "grid_search_xgb.fit(X_train, y_train_encoded)\n",
    "print('Best parameters for XGBoost:', grid_search_xgb.best_params_)\n",
    "\n",
    "y_pred_xgb = grid_search_xgb.predict(X_test)\n",
    "print('XGBoost Accuracy:', accuracy_score(y_test_encoded, y_pred_xgb))\n",
    "\n",
    "best_xgb_model = grid_search_xgb.best_estimator_\n",
    "joblib.dump(best_xgb_model, '../../data/model_comp/neg_pred_result/best_xgb_model_neg.joblib')"
   ]
  },
  {
   "cell_type": "code",
   "execution_count": 14,
   "metadata": {},
   "outputs": [],
   "source": [
    "from sklearn.neural_network import MLPClassifier\n",
    "\n",
    "param_grid_mlp = {\n",
    "    'hidden_layer_sizes': [(50,), (100,), (100, 50)],\n",
    "    'activation': ['tanh', 'relu'],\n",
    "    'solver': ['sgd', 'adam'],\n",
    "    'alpha': [0.0001, 0.001],\n",
    "    'learning_rate': ['constant', 'adaptive']\n",
    "}\n",
    "\n",
    "grid_search_mlp = GridSearchCV(MLPClassifier(max_iter=1000, random_state=42), param_grid_mlp, cv=5)\n",
    "grid_search_mlp.fit(X_train, y_train_encoded)\n",
    "print('Best parameters for MLP:', grid_search_mlp.best_params_)\n",
    "\n",
    "y_pred_mlp = grid_search_mlp.predict(X_test)\n",
    "print('MLP Accuracy:', accuracy_score(y_test_encoded, y_pred_mlp))\n",
    "\n",
    "best_mlp_model = grid_search_mlp.best_estimator_\n",
    "joblib.dump(best_mlp_model, '../../data/model_comp/neg_pred_result/best_mlp_model_neg.joblib')"
   ]
  },
  {
   "cell_type": "code",
   "execution_count": null,
   "metadata": {},
   "outputs": [],
   "source": [
    "print('kNN')\n",
    "knn_result_list = cal_score(y_test_encoded, y_pred_knn)\n",
    "print('Random Forest')\n",
    "rf_result_list = cal_score(y_test_encoded, y_pred_rf)\n",
    "print('SVM')\n",
    "svm_result_list = cal_score(y_test_encoded, y_pred_svm)\n",
    "print('XGBoost')\n",
    "xgb_result_list = cal_score(y_test_encoded, y_pred_xgb)\n",
    "print('MLP')\n",
    "mlp_result_list = cal_score(y_test_encoded, y_pred_mlp)"
   ]
  },
  {
   "cell_type": "code",
   "execution_count": null,
   "metadata": {},
   "outputs": [],
   "source": [
    "neg_result_list = [knn_result_list, rf_result_list, svm_result_list, xgb_result_list, mlp_result_list]"
   ]
  },
  {
   "cell_type": "code",
   "execution_count": null,
   "metadata": {},
   "outputs": [],
   "source": [
    "import pickle\n",
    "with open('../../data/model_comp/neg_pred_result/neg_result_list.pkl', 'wb') as f:\n",
    "    pickle.dump(neg_result_list, f)"
   ]
  },
  {
   "cell_type": "code",
   "execution_count": null,
   "metadata": {},
   "outputs": [],
   "source": [
    "import numpy as np\n",
    "joblib.dump(label_encoder, '../../data/model_comp/neg_pred_result/label_encoder_neg.pkl')\n",
    "\n",
    "np.save('../../data/model_comp/neg_pred_result/y_test_encoded_neg.npy', y_test_encoded)\n",
    "np.save('../../data/model_comp/neg_pred_result/y_pred_knn_neg.npy', y_pred_knn)\n",
    "np.save('../../data/model_comp/neg_pred_result/y_pred_rf_neg.npy', y_pred_rf)\n",
    "np.save('../../data/model_comp/neg_pred_result/y_pred_svm_neg.npy', y_pred_svm)\n",
    "np.save('../../data/model_comp/neg_pred_result/y_pred_xgb_neg.npy', y_pred_xgb)\n",
    "np.save('../../data/model_comp/neg_pred_result/y_pred_mlp_neg.npy', y_pred_mlp)"
   ]
  }
 ],
 "metadata": {
  "kernelspec": {
   "display_name": "base",
   "language": "python",
   "name": "python3"
  },
  "language_info": {
   "codemirror_mode": {
    "name": "ipython",
    "version": 3
   },
   "file_extension": ".py",
   "mimetype": "text/x-python",
   "name": "python",
   "nbconvert_exporter": "python",
   "pygments_lexer": "ipython3",
   "version": "3.10.14"
  }
 },
 "nbformat": 4,
 "nbformat_minor": 2
}
