{
 "cells": [
  {
   "cell_type": "code",
   "execution_count": 1,
   "metadata": {},
   "outputs": [],
   "source": [
    "import pandas as pd\n",
    "import joblib\n",
    "from xgboost import XGBClassifier\n",
    "from sklearn.model_selection import train_test_split\n",
    "from sklearn.metrics import accuracy_score\n"
   ]
  },
  {
   "cell_type": "markdown",
   "metadata": {},
   "source": [
    "pos"
   ]
  },
  {
   "cell_type": "code",
   "execution_count": 2,
   "metadata": {},
   "outputs": [
    {
     "name": "stdout",
     "output_type": "stream",
     "text": [
      "XGBoost Accuracy -positive ion mode: 0.9716144293317563\n"
     ]
    }
   ],
   "source": [
    "df_pos2x = pd.read_csv('../../data/basedata/df_pos_MCH.csv')\n",
    "columns_to_drop = ['Metabolitename', 'Ontology', 'dataset', 'AlignmentID', 'AverageMz']\n",
    "X = df_pos2x.drop(columns=columns_to_drop).astype(float).values\n",
    "y = df_pos2x['Ontology']\n",
    "X_train, X_test_pos, y_train, y_test_pos = train_test_split(X, y, test_size=0.2, random_state=42, stratify=y)\n",
    "\n",
    "loaded_model_pos = joblib.load('../../data/model_comp/pos_pred_result/best_xgb_model_random_pos.joblib')\n",
    "label_encoder_pos = joblib.load('../../data/model_comp/pos_pred_result/label_encoder_pos_random.pkl')\n",
    "y_test_pos = label_encoder_pos.transform(y_test_pos)\n",
    "\n",
    "y_pred_pos = loaded_model_pos.predict(X_test_pos)\n",
    "print('XGBoost Accuracy -positive ion mode:', accuracy_score(y_test_pos, y_pred_pos))"
   ]
  },
  {
   "cell_type": "markdown",
   "metadata": {},
   "source": [
    "label shuffle"
   ]
  },
  {
   "cell_type": "code",
   "execution_count": 3,
   "metadata": {},
   "outputs": [
    {
     "name": "stdout",
     "output_type": "stream",
     "text": [
      "XGBoost Accuracy with label shuffling -positive ion mode: 0.01714961561206387\n"
     ]
    }
   ],
   "source": [
    "import numpy as np\n",
    "y_random = np.random.choice(df_pos2x['Ontology'].unique(), size=len(df_pos2x), replace=True)\n",
    "X_train, X_test, y_train_pos_random, y_test_pos_random = train_test_split(X, y_random, test_size=0.2, random_state=42, stratify=y_random)\n",
    "y_test_pos_random = label_encoder_pos.transform(y_test_pos_random)\n",
    "y_train_pos_random = label_encoder_pos.transform(y_train_pos_random)\n",
    "\n",
    "params_pos = loaded_model_pos.get_xgb_params()\n",
    "model_pos_ramdon = XGBClassifier(**params_pos)\n",
    "model_pos_ramdon.fit(X_train, y_train_pos_random)\n",
    "\n",
    "y_pred_pos_ranodm = model_pos_ramdon.predict(X_test)\n",
    "print('XGBoost Accuracy with label shuffling -positive ion mode:', accuracy_score(y_test_pos_random, y_pred_pos_ranodm))"
   ]
  },
  {
   "cell_type": "markdown",
   "metadata": {},
   "source": [
    "neg"
   ]
  },
  {
   "cell_type": "code",
   "execution_count": 4,
   "metadata": {},
   "outputs": [
    {
     "name": "stdout",
     "output_type": "stream",
     "text": [
      "XGBoost Accuracy -negative ion mode: 0.9755244755244755\n"
     ]
    }
   ],
   "source": [
    "df_neg2x = pd.read_csv('../../data/basedata/df_neg_MCH.csv')\n",
    "columns_to_drop = ['Metabolitename', 'Ontology', 'dataset', 'AlignmentID', 'AverageMz']\n",
    "X = df_neg2x.drop(columns=columns_to_drop).astype(float).values\n",
    "y = df_neg2x['Ontology']\n",
    "X_train, X_test_neg, y_train, y_test_neg = train_test_split(X, y, test_size=0.2, random_state=42, stratify=y)\n",
    "\n",
    "loaded_model_neg = joblib.load('../../data/model_comp/neg_pred_result/best_xgb_model_random_neg.joblib')\n",
    "label_encoder_neg = joblib.load('../../data/model_comp/neg_pred_result/label_encoder_neg_random.pkl')\n",
    "y_test_neg = label_encoder_neg.transform(y_test_neg)\n",
    "\n",
    "y_pred_neg = loaded_model_neg.predict(X_test_neg)\n",
    "print('XGBoost Accuracy -negative ion mode:', accuracy_score(y_test_neg, y_pred_neg))"
   ]
  },
  {
   "cell_type": "code",
   "execution_count": 5,
   "metadata": {},
   "outputs": [
    {
     "name": "stderr",
     "output_type": "stream",
     "text": [
      "/home/sakamoto/miniforge3/lib/python3.10/site-packages/xgboost/core.py:158: UserWarning: [04:21:42] WARNING: /workspace/src/learner.cc:740: \n",
      "Parameters: { \"use_label_encoder\" } are not used.\n",
      "\n",
      "  warnings.warn(smsg, UserWarning)\n"
     ]
    },
    {
     "name": "stdout",
     "output_type": "stream",
     "text": [
      "XGBoost Accuracy with label shuffling -negative ion mode: 0.015734265734265736\n"
     ]
    }
   ],
   "source": [
    "import numpy as np\n",
    "y_random = np.random.choice(df_neg2x['Ontology'].unique(), size=len(df_neg2x), replace=True)\n",
    "X_train, X_test, y_train_neg_random, y_test_neg_random = train_test_split(X, y_random, test_size=0.2, random_state=42, stratify=y_random)\n",
    "y_test_neg_random = label_encoder_neg.transform(y_test_neg_random)\n",
    "y_train_neg_random = label_encoder_neg.transform(y_train_neg_random)\n",
    "\n",
    "params_neg = loaded_model_neg.get_xgb_params()\n",
    "model_neg_ramdon = XGBClassifier(**params_neg)\n",
    "model_neg_ramdon.fit(X_train, y_train_neg_random)\n",
    "\n",
    "y_pred_neg_ranodm = model_neg_ramdon.predict(X_test)\n",
    "print('XGBoost Accuracy with label shuffling -negative ion mode:', accuracy_score(y_test_neg_random, y_pred_neg_ranodm))"
   ]
  }
 ],
 "metadata": {
  "kernelspec": {
   "display_name": "base",
   "language": "python",
   "name": "python3"
  },
  "language_info": {
   "codemirror_mode": {
    "name": "ipython",
    "version": 3
   },
   "file_extension": ".py",
   "mimetype": "text/x-python",
   "name": "python",
   "nbconvert_exporter": "python",
   "pygments_lexer": "ipython3",
   "version": "3.10.14"
  }
 },
 "nbformat": 4,
 "nbformat_minor": 2
}
