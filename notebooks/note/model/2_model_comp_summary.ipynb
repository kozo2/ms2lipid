{
 "cells": [
  {
   "cell_type": "code",
   "execution_count": 1,
   "metadata": {},
   "outputs": [],
   "source": [
    "import pickle\n",
    "import pandas as pd\n",
    "\n",
    "with open('../../data/model_comp/pos_pred_result/pos_result_list_random.pkl', 'rb') as f:\n",
    "    pos_result_list = pickle.load(f)\n",
    "\n",
    "with open('../../data/model_comp/neg_pred_result/neg_result_list_random.pkl', 'rb') as f:\n",
    "    neg_result_list = pickle.load(f)"
   ]
  },
  {
   "cell_type": "code",
   "execution_count": 2,
   "metadata": {},
   "outputs": [],
   "source": [
    "df_pos = pd.DataFrame(pos_result_list, columns=['Accuracy', 'Precision', 'Recall', 'F1'], index=['kNN', 'RF', 'SVM', 'XGB', 'NN']).\\\n",
    "    reset_index().rename(columns={'index':'ML'}).melt(id_vars='ML', var_name='score')\n",
    "\n",
    "df_neg = pd.DataFrame(neg_result_list, columns=['Accuracy', 'Precision', 'Recall', 'F1'], index=['kNN', 'RF', 'SVM', 'XGB', 'NN']).\\\n",
    "    reset_index().rename(columns={'index':'ML'}).melt(id_vars='ML', var_name='score')"
   ]
  },
  {
   "cell_type": "code",
   "execution_count": 4,
   "metadata": {},
   "outputs": [
    {
     "data": {
      "image/png": "[encoded data removed]",
      "text/plain": [
       "<Figure size 800x250 with 2 Axes>"
      ]
     },
     "metadata": {},
     "output_type": "display_data"
    }
   ],
   "source": [
    "import seaborn as sns\n",
    "import matplotlib.pyplot as plt\n",
    "import matplotlib.font_manager as fm\n",
    "\n",
    "arial_path = '../../arial.ttf'\n",
    "arial = fm.FontProperties(fname=arial_path, size=11)\n",
    "\n",
    "fig, axs = plt.subplots(1, 2, figsize=(8, 2.5)) \n",
    "\n",
    "color = ['black', 'yellow', 'green', 'blue', 'red']\n",
    "\n",
    "sns.barplot(data=df_pos, x='score', y='value', hue='ML', palette=color, ax=axs[0], edgecolor=\"0\")\n",
    "axs[0].set_title('Model performances (Positive ion mode)', fontproperties=arial, fontsize=12)\n",
    "axs[0].set_xlabel('')\n",
    "axs[0].set_ylabel('Score', fontproperties=arial)\n",
    "axs[0].spines['top'].set_visible(False)\n",
    "axs[0].spines['right'].set_visible(False)\n",
    "axs[0].get_legend().remove()\n",
    "for label in axs[0].get_xticklabels():\n",
    "    label.set_fontproperties(arial)\n",
    "for label in axs[0].get_yticklabels():\n",
    "    label.set_fontproperties(arial)\n",
    "\n",
    "sns.barplot(data=df_neg, x='score', y='value', hue='ML', palette=color, ax=axs[1], edgecolor=\"0\")\n",
    "axs[1].set_title('Model performances (Negative ion mode)', fontproperties=arial, fontsize=12)\n",
    "axs[1].set_xlabel('')\n",
    "axs[1].set_ylabel('Score', fontproperties=arial)\n",
    "axs[1].spines['top'].set_visible(False)\n",
    "axs[1].spines['right'].set_visible(False)\n",
    "axs[1].get_legend().remove()\n",
    "for label in axs[1].get_xticklabels():\n",
    "    label.set_fontproperties(arial)\n",
    "for label in axs[1].get_yticklabels():\n",
    "    label.set_fontproperties(arial)\n",
    "\n",
    "handles, labels = axs[0].get_legend_handles_labels()\n",
    "fig.legend(\n",
    "    handles, labels, \n",
    "    title='',\n",
    "    title_fontproperties=arial, \n",
    "    fontsize=10,\n",
    "    prop=arial,\n",
    "    bbox_to_anchor=(0.5, 0.05), \n",
    "    loc='upper center',     \n",
    "    ncol=5                   \n",
    "\n",
    "plt.tight_layout()\n",
    "plt.savefig('../../data/model_comp/model_performances.svg', dpi=300)\n",
    "plt.show()"
   ]
  },
  {
   "cell_type": "markdown",
   "metadata": {},
   "source": [
    "pred result"
   ]
  },
  {
   "cell_type": "code",
   "execution_count": 5,
   "metadata": {},
   "outputs": [
    {
     "name": "stdout",
     "output_type": "stream",
     "text": [
      "63\n",
      "69\n"
     ]
    }
   ],
   "source": [
    "df_pos2x = pd.read_csv('../../data/basedata/df_pos_MCH.csv')\n",
    "from sklearn.model_selection import train_test_split\n",
    "columns_to_drop = ['Metabolitename', 'Ontology', 'dataset', 'AlignmentID', 'AverageMz']\n",
    "X = df_pos2x.drop(columns=columns_to_drop).astype(float).values\n",
    "y = df_pos2x['Ontology']\n",
    "print(len(y.unique()))\n",
    "X_train, X_test_pos, y_train, y_test_pos = train_test_split(X, y, test_size=0.2, random_state=42, stratify=y)\n",
    "\n",
    "df_neg2x = pd.read_csv('../../data/basedata/df_neg_MCH.csv')\n",
    "from sklearn.model_selection import train_test_split\n",
    "X = df_neg2x.drop(columns=columns_to_drop).astype(float).values\n",
    "y = df_neg2x['Ontology']\n",
    "print(len(y.unique()))\n",
    "X_train, X_test_neg, y_train, y_test_neg = train_test_split(X, y, test_size=0.2, random_state=42, stratify=y)"
   ]
  },
  {
   "cell_type": "code",
   "execution_count": 6,
   "metadata": {},
   "outputs": [],
   "source": [
    "import joblib\n",
    "\n",
    "best_xgb_model_pos = joblib.load('../../data/model_comp/pos_pred_result/best_xgb_model_random_pos.joblib')\n",
    "best_xgb_model_neg = joblib.load('../../data/model_comp/neg_pred_result/best_xgb_model_random_neg.joblib')\n",
    "label_encoder_pos = joblib.load('../../data/model_comp/pos_pred_result/label_encoder_pos_random.pkl')\n",
    "number_to_class_pos = {index: label for index, label in enumerate(label_encoder_pos.classes_)}\n",
    "label_encoder_neg = joblib.load('../../data/model_comp/neg_pred_result/label_encoder_neg_random.pkl')\n",
    "number_to_class_neg = {index: label for index, label in enumerate(label_encoder_neg.classes_)}"
   ]
  },
  {
   "cell_type": "code",
   "execution_count": 7,
   "metadata": {},
   "outputs": [],
   "source": [
    "y_pred_prob_xgb_pos = best_xgb_model_pos.predict_proba(X_test_pos)\n",
    "y_pred_prob_xgb_neg = best_xgb_model_neg.predict_proba(X_test_neg)"
   ]
  },
  {
   "cell_type": "code",
   "execution_count": 9,
   "metadata": {},
   "outputs": [],
   "source": [
    "def create_pred_class(row):\n",
    "    classes = [f\"{col}:{round(value, 3)}\" for col, value in sorted(row.items(), key=lambda x: x[1], reverse=True) if value >= 0.01] #1%\n",
    "    return ','.join(classes)\n",
    "\n",
    "def check_ontology_in_pred_class(row):\n",
    "    ontology = row['correctclass']\n",
    "    predclass = row['predclass']\n",
    "    return ontology in predclass"
   ]
  },
  {
   "cell_type": "code",
   "execution_count": 10,
   "metadata": {},
   "outputs": [],
   "source": [
    "#pos\n",
    "df_pos_predres = pd.DataFrame(y_pred_prob_xgb_pos).rename(columns=number_to_class_pos)\n",
    "df_pos_predres['pred1st'] = df_pos_predres.idxmax(axis=1)\n",
    "df_pos_predres['predclass'] = df_pos_predres.drop('pred1st', axis=1).apply(create_pred_class, axis=1)\n",
    "df_pos_predres['prednumber'] = df_pos_predres['predclass'].apply(lambda x: len(x.split(',')))\n",
    "\n",
    "df_pos_result = df_pos_predres[['pred1st', 'predclass', 'prednumber']].\\\n",
    "    merge(pd.DataFrame(y_test_pos).reset_index(drop=True).rename(columns={'Ontology':'correctclass'}), left_index=True, right_index=True)\n",
    "\n",
    "df_pos_result['candidates'] = df_pos_result.apply(check_ontology_in_pred_class, axis=1)\n",
    "\n",
    "all_pos = len(df_pos_result)\n",
    "pred1st_pos = len(df_pos_result[df_pos_result['pred1st'] == df_pos_result['correctclass']])\n",
    "candidates_pos = len(df_pos_result[df_pos_result['candidates'] == True])\n",
    "false_pos = len(df_pos_result[df_pos_result['candidates'] == False])\n",
    "\n",
    "\n",
    "#neg\n",
    "df_neg_predres = pd.DataFrame(y_pred_prob_xgb_neg).rename(columns=number_to_class_neg)\n",
    "df_neg_predres['pred1st'] = df_neg_predres.idxmax(axis=1)\n",
    "df_neg_predres['predclass'] = df_neg_predres.drop('pred1st', axis=1).apply(create_pred_class, axis=1)\n",
    "df_neg_predres['prednumber'] = df_neg_predres['predclass'].apply(lambda x: len(x.split(',')))\n",
    "\n",
    "df_neg_result = df_neg_predres[['pred1st', 'predclass', 'prednumber']].\\\n",
    "    merge(pd.DataFrame(y_test_neg).reset_index(drop=True).rename(columns={'Ontology':'correctclass'}), left_index=True, right_index=True)\n",
    "\n",
    "df_neg_result['candidates'] = df_neg_result.apply(check_ontology_in_pred_class, axis=1)\n",
    "\n",
    "all_neg = len(df_neg_result)\n",
    "pred1st_neg = len(df_neg_result[df_neg_result['pred1st'] == df_neg_result['correctclass']])\n",
    "candidates_neg = len(df_neg_result[df_neg_result['candidates'] == True])\n",
    "false_neg = len(df_neg_result[df_neg_result['candidates'] == False])"
   ]
  },
  {
   "cell_type": "code",
   "execution_count": 24,
   "metadata": {},
   "outputs": [],
   "source": [
    "df_neg2x_test = df_neg2x[columns_to_drop].iloc[y_test_neg.index].reset_index().rename(columns={'index':'ID'})[['dataset', 'ID', 'Metabolitename', 'Ontology']]\n",
    "df_neg_test_res = pd.concat([df_neg2x_test, df_neg_result[['pred1st', 'predclass']]], axis=1)\n",
    "df_neg_test_res['ionmode'] = 'Negative'"
   ]
  },
  {
   "cell_type": "code",
   "execution_count": 25,
   "metadata": {},
   "outputs": [],
   "source": [
    "df_pos2x_test = df_pos2x[columns_to_drop].iloc[y_test_pos.index].reset_index().rename(columns={'index':'ID'})[['dataset', 'ID', 'Metabolitename', 'Ontology']]\n",
    "df_pos_test_res = pd.concat([df_pos2x_test, df_pos_result[['pred1st', 'predclass']]], axis=1)\n",
    "df_pos_test_res['ionmode'] = 'Positive'"
   ]
  },
  {
   "cell_type": "code",
   "execution_count": 30,
   "metadata": {},
   "outputs": [],
   "source": [
    "df_test_res = pd.concat([df_neg_test_res, df_pos_test_res], axis=0)\n",
    "df_test_res.to_csv('../../data/model_comp/test_result.csv', index=False)"
   ]
  },
  {
   "cell_type": "code",
   "execution_count": 27,
   "metadata": {},
   "outputs": [],
   "source": [
    "df_pos_result.set_index(y_test_pos.index).to_csv('../../data/model_comp/pos_pred_result/df_pos_result_random.csv')\n",
    "df_neg_result.set_index(y_test_neg.index).to_csv('../../data/model_comp/neg_pred_result/df_neg_result_random.csv')"
   ]
  },
  {
   "cell_type": "code",
   "execution_count": 66,
   "metadata": {},
   "outputs": [
    {
     "data": {
      "image/png": "[encoded data removed]",
      "text/plain": [
       "<Figure size 620x180 with 2 Axes>"
      ]
     },
     "metadata": {},
     "output_type": "display_data"
    }
   ],
   "source": [
    "import matplotlib.pyplot as plt\n",
    "#pos\n",
    "test_pred_1st_pos = round(pred1st_pos/all_pos * 100, 1)\n",
    "test_pred_candidate_pos = round(candidates_pos/all_pos * 100, 1)\n",
    "percentages_pos = [test_pred_1st_pos, test_pred_candidate_pos-test_pred_1st_pos, 100-test_pred_candidate_pos]\n",
    "percentages2_pos = [test_pred_1st_pos, round(test_pred_candidate_pos-test_pred_1st_pos, 1), ]\n",
    "categories = [\"Correct\", \"Listed in candidates\", \"Incorrect\"]\n",
    "\n",
    "#neg\n",
    "test_pred_1st_neg = round(pred1st_neg/all_neg * 100, 1)\n",
    "test_pred_candidate_neg = round(candidates_neg/all_neg * 100, 1)\n",
    "percentages_neg = [test_pred_1st_neg, test_pred_candidate_neg-test_pred_1st_neg, 100-test_pred_candidate_neg]\n",
    "percentages2_neg = [test_pred_1st_neg, round(test_pred_candidate_neg-test_pred_1st_neg, 1), ]\n",
    "\n",
    "#font\n",
    "arial_path = '../../arial.ttf'\n",
    "arial = fm.FontProperties(fname=arial_path, size=11)\n",
    "\n",
    "bar_width = 0.8\n",
    "color = ['blue', 'red', 'black']\n",
    "\n",
    "fig, axs = plt.subplots(2, 1, figsize=(6.2, 1.8)) \n",
    "plt.subplots_adjust(hspace=0)\n",
    "\n",
    "#plot1\n",
    "bar_centers = [percentages_pos[0]/2, percentages_pos[0] + percentages_pos[1]/2, percentages_pos[0] + percentages_pos[1] + percentages_pos[2]/2]\n",
    "bars = axs[0].barh(1, percentages_pos[0], height=bar_width, color=color[0], label='Correct')\n",
    "axs[0].barh(1, percentages_pos[1], left=percentages_pos[0], height=bar_width, color=color[1], label='Listed in candidates')\n",
    "axs[0].barh(1, percentages_pos[2], left=percentages_pos[0] + percentages_pos[1], height=bar_width, color=color[2], label='Incorrect')\n",
    "\n",
    "for i, (category, center, percentage) in enumerate(zip(categories, bar_centers, percentages2_pos)):\n",
    "    if i == 0:\n",
    "        axs[0].text(center + 0.7, 1, f'{percentage}%', ha='center', va='center', fontsize=11, color='white', fontproperties=arial)\n",
    "    elif i == 1:\n",
    "        axs[0].text(center + 0.7, 1 + 0.57, f'{percentage}%', ha='center', va='center', fontsize=11, color='black', fontproperties=arial)\n",
    "\n",
    "axs[0].set_yticks([])\n",
    "axs[0].set_xlim(0, 100)\n",
    "axs[0].legend().remove()\n",
    "axs[0].spines['top'].set_visible(False)\n",
    "axs[0].spines['right'].set_visible(False)\n",
    "axs[0].spines['left'].set_visible(False)\n",
    "axs[0].spines['bottom'].set_visible(False)\n",
    "axs[0].xaxis.set_ticks([])\n",
    "axs[0].set_ylabel('Positive ion mode', fontsize=12, rotation=0, fontproperties=arial)\n",
    "axs[0].yaxis.set_label_coords(-0.17, 0.25)  \n",
    "\n",
    "#plot2\n",
    "bar_centers = [percentages_neg[0]/2, percentages_neg[0] + percentages_neg[1]/2, percentages_neg[0] + percentages_neg[1] + percentages_neg[2]/2]\n",
    "bars = axs[1].barh(1, percentages_neg[0], height=bar_width, color=color[0], label='Correct')\n",
    "axs[1].barh(1, percentages_neg[1], left=percentages_neg[0], height=bar_width, color=color[1], label='Listed in candidates')\n",
    "axs[1].barh(1, percentages_neg[2], left=percentages_neg[0] + percentages_neg[1], height=bar_width, color=color[2], label='Incorrect')\n",
    "\n",
    "for i, (category, center, percentage) in enumerate(zip(categories, bar_centers, percentages2_neg)):\n",
    "    if i == 0:\n",
    "        axs[1].text(center + 0.7, 1, f'{percentage}%', ha='center', va='center', fontsize=11, color='white', fontproperties=arial)\n",
    "    elif i == 1:\n",
    "        axs[1].text(center + 0.7, 1 + 0.55, f'{percentage}%', ha='center', va='center', fontsize=11, color='black', fontproperties=arial)\n",
    "\n",
    "axs[1].set_xlabel('Correct prediction percentage (%)', fontsize=12, fontproperties=arial)\n",
    "axs[1].set_ylabel('Negative ion mode', fontsize=12, rotation=0, fontproperties=arial)\n",
    "axs[1].yaxis.set_label_coords(-0.18, 0.3)  \n",
    "axs[1].set_yticks([])\n",
    "axs[1].set_xlim(0, 100)\n",
    "axs[1].set_title('', fontsize=18)\n",
    "axs[1].legend().remove()\n",
    "\n",
    "axs[1].spines['top'].set_visible(False)\n",
    "axs[1].spines['right'].set_visible(False)\n",
    "axs[1].spines['left'].set_visible(False)\n",
    "\n",
    "for label in axs[1].get_xticklabels():\n",
    "    label.set_fontproperties(arial)\n",
    "\n",
    "handles, labels = axs[0].get_legend_handles_labels()\n",
    "fig.legend(\n",
    "    handles, labels, \n",
    "    title='',\n",
    "    title_fontproperties=arial, \n",
    "    fontsize=10,\n",
    "    prop=arial,\n",
    "    bbox_to_anchor=(1.15, 0.8),  \n",
    "    loc='upper center',         \n",
    "    ncol=1                     \n",
    ")\n",
    "\n",
    "plt.tight_layout()\n",
    "plt.savefig('../../data/model_comp/model_score.svg', dpi=300)\n",
    "plt.show()"
   ]
  },
  {
   "cell_type": "code",
   "execution_count": null,
   "metadata": {},
   "outputs": [],
   "source": []
  }
 ],
 "metadata": {
  "kernelspec": {
   "display_name": "base",
   "language": "python",
   "name": "python3"
  },
  "language_info": {
   "codemirror_mode": {
    "name": "ipython",
    "version": 3
   },
   "file_extension": ".py",
   "mimetype": "text/x-python",
   "name": "python",
   "nbconvert_exporter": "python",
   "pygments_lexer": "ipython3",
   "version": "3.10.14"
  }
 },
 "nbformat": 4,
 "nbformat_minor": 2
}
