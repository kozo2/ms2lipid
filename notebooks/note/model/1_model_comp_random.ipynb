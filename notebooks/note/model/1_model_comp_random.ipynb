{
 "cells": [
  {
   "cell_type": "code",
   "execution_count": 1,
   "metadata": {},
   "outputs": [],
   "source": [
    "import pandas as pd"
   ]
  },
  {
   "cell_type": "markdown",
   "metadata": {},
   "source": [
    "pos"
   ]
  },
  {
   "cell_type": "code",
   "execution_count": 3,
   "metadata": {},
   "outputs": [
    {
     "name": "stdout",
     "output_type": "stream",
     "text": [
      "63\n"
     ]
    }
   ],
   "source": [
    "df_pos2x = pd.read_csv('../../data/basedata/df_pos_MCH.csv')\n",
    "\n",
    "from sklearn.model_selection import train_test_split\n",
    "columns_to_drop = ['Metabolitename', 'Ontology', 'dataset', 'AlignmentID', 'AverageMz']\n",
    "X = df_pos2x.drop(columns=columns_to_drop).astype(float).values\n",
    "y = df_pos2x['Ontology']\n",
    "print(len(y.unique()))\n",
    "\n",
    "X_train, X_test, y_train, y_test = train_test_split(X, y, test_size=0.2, random_state=42, stratify=y)"
   ]
  },
  {
   "cell_type": "markdown",
   "metadata": {},
   "source": [
    "kNN, RF, SVM, XGBoost, MLP"
   ]
  },
  {
   "cell_type": "code",
   "execution_count": 10,
   "metadata": {},
   "outputs": [],
   "source": [
    "from sklearn.neighbors import KNeighborsClassifier\n",
    "from sklearn.model_selection import RandomizedSearchCV\n",
    "from sklearn.metrics import accuracy_score\n",
    "from sklearn.preprocessing import LabelEncoder\n",
    "from scipy.stats import randint as sp_randint\n",
    "import joblib\n",
    "\n",
    "label_encoder = LabelEncoder()\n",
    "y_train_encoded = label_encoder.fit_transform(y_train)\n",
    "y_test_encoded = label_encoder.transform(y_test)\n",
    "\n",
    "param_random_knn = {\n",
    "    'n_neighbors': sp_randint(3, 30),  \n",
    "    'weights': ['uniform', 'distance'], \n",
    "    'algorithm': ['auto', 'ball_tree', 'kd_tree', 'brute'], \n",
    "    'leaf_size': sp_randint(10, 50), \n",
    "    'p': [1, 2]\n",
    "}\n",
    "\n",
    "random_search_knn = RandomizedSearchCV(estimator=KNeighborsClassifier(), \n",
    "                                       param_distributions=param_random_knn, \n",
    "                                       n_iter=500, scoring='f1_macro', verbose=1,\n",
    "                                       cv=5, n_jobs=60, random_state=42)\n",
    "\n",
    "random_search_knn.fit(X_train, y_train_encoded)\n",
    "print('Best parameters for kNN:', random_search_knn.best_params_)\n",
    "\n",
    "y_pred_knn = random_search_knn.predict(X_test)\n",
    "print('kNN Accuracy:', accuracy_score(y_test_encoded, y_pred_knn))\n",
    "\n",
    "best_knn_model = random_search_knn.best_estimator_\n",
    "joblib.dump(best_knn_model, '../../data/model_comp/pos_pred_result/best_knn_model_random_pos.joblib')"
   ]
  },
  {
   "cell_type": "code",
   "execution_count": 11,
   "metadata": {},
   "outputs": [],
   "source": [
    "from sklearn.ensemble import RandomForestClassifier\n",
    "\n",
    "param_random_rf = {\n",
    "    'n_estimators': sp_randint(100, 1000),  \n",
    "    'max_depth': [None, 10, 20, 30, 40, 50, 60, 70, 80, 90, 100],  \n",
    "    'min_samples_split': sp_randint(2, 20), \n",
    "    'min_samples_leaf': sp_randint(1, 20),  \n",
    "    'bootstrap': [True, False] \n",
    "}\n",
    "\n",
    "random_search_rf = RandomizedSearchCV(estimator=RandomForestClassifier(random_state=42), \n",
    "                                    param_distributions=param_random_rf, \n",
    "                                    n_iter=500, scoring='f1_macro', verbose=True,\n",
    "                                    cv=5, n_jobs=60, random_state=42)\n",
    "\n",
    "random_search_rf.fit(X_train, y_train_encoded)\n",
    "print('Best parameters for Random Forest:', random_search_rf.best_params_)\n",
    "\n",
    "y_pred_rf = random_search_rf.predict(X_test)\n",
    "print('Random Forest Accuracy:', accuracy_score(y_test_encoded, y_pred_rf))\n",
    "\n",
    "best_rf_model = random_search_rf.best_estimator_\n",
    "joblib.dump(best_rf_model, '../../data/model_comp/pos_pred_result/best_rf_model_random_pos.joblib')"
   ]
  },
  {
   "cell_type": "code",
   "execution_count": 12,
   "metadata": {},
   "outputs": [],
   "source": [
    "from sklearn.svm import SVC\n",
    "from scipy.stats import uniform\n",
    "\n",
    "param_random_svm = {\n",
    "    'C': uniform(loc=0.1, scale=100),\n",
    "    'kernel': ['linear', 'rbf'],\n",
    "    'gamma': ['scale', 'auto'] + list(uniform(loc=0.001, scale=1).rvs(10)) \n",
    "}\n",
    "\n",
    "random_search_svm = RandomizedSearchCV(estimator=SVC(random_state=42), \n",
    "                                       param_distributions=param_random_svm, \n",
    "                                       n_iter=500, scoring='f1_macro', verbose=1,\n",
    "                                       cv=5, n_jobs=60, random_state=42)\n",
    "\n",
    "\n",
    "random_search_svm.fit(X_train, y_train_encoded)\n",
    "print('Best parameters for SVM:', random_search_svm.best_params_)\n",
    "\n",
    "y_pred_svm = random_search_svm.predict(X_test)\n",
    "print('SVM Accuracy:', accuracy_score(y_test_encoded, y_pred_svm))\n",
    "\n",
    "best_svm_model = random_search_svm.best_estimator_\n",
    "joblib.dump(best_svm_model, '../../data/model_comp/pos_pred_result/best_svm_model_random_pos.joblib')"
   ]
  },
  {
   "cell_type": "code",
   "execution_count": 13,
   "metadata": {},
   "outputs": [],
   "source": [
    "import xgboost as xgb\n",
    "from scipy.stats import uniform\n",
    "\n",
    "param_random_xgb = {\n",
    "    'n_estimators': sp_randint(50, 500),\n",
    "    'max_depth': sp_randint(3, 15), \n",
    "    'learning_rate': uniform(loc=0.01, scale=0.29)\n",
    "}\n",
    "\n",
    "random_search_xgb = RandomizedSearchCV(estimator=xgb.XGBClassifier(eval_metric='mlogloss', random_state=42), \n",
    "                                       param_distributions=param_random_xgb, \n",
    "                                       n_iter=500, scoring='f1_macro', verbose=1,\n",
    "                                       cv=5, n_jobs=60, random_state=42)\n",
    "\n",
    "random_search_xgb.fit(X_train, y_train_encoded)\n",
    "print('Best parameters for XGBoost:', random_search_xgb.best_params_)\n",
    "\n",
    "y_pred_xgb = random_search_xgb.predict(X_test)\n",
    "print('XGBoost Accuracy:', accuracy_score(y_test_encoded, y_pred_xgb))\n",
    "\n",
    "best_xgb_model = random_search_xgb.best_estimator_\n",
    "joblib.dump(best_xgb_model, '../../data/model_comp/pos_pred_result/best_xgb_model_random_pos.joblib')"
   ]
  },
  {
   "cell_type": "code",
   "execution_count": 14,
   "metadata": {},
   "outputs": [],
   "source": [
    "from sklearn.neural_network import MLPClassifier\n",
    "\n",
    "def generate_hidden_layer_sizes():\n",
    "    num_layers = sp_randint.rvs(1, 4)\n",
    "    layer_sizes = [sp_randint.rvs(10, 201) for _ in range(num_layers)] \n",
    "    return tuple(layer_sizes)\n",
    "\n",
    "param_random_mlp = {\n",
    "    'hidden_layer_sizes': [generate_hidden_layer_sizes() for _ in range(100)], \n",
    "    'activation': ['tanh', 'relu'],\n",
    "    'solver': ['sgd', 'adam'],\n",
    "    'alpha': uniform(loc=0.00001, scale=0.01),\n",
    "    'learning_rate': ['constant', 'adaptive']\n",
    "}\n",
    "\n",
    "random_search_mlp = RandomizedSearchCV(estimator=MLPClassifier(max_iter=3000, random_state=42), \n",
    "                                       param_distributions=param_random_mlp, \n",
    "                                       n_iter=500, scoring='f1_macro', verbose=1,\n",
    "                                       cv=5, n_jobs=60, random_state=42)\n",
    "\n",
    "random_search_mlp.fit(X_train, y_train_encoded)\n",
    "print('Best parameters for MLP:', random_search_mlp.best_params_)\n",
    "\n",
    "y_pred_mlp = random_search_mlp.predict(X_test)\n",
    "print('MLP Accuracy:', accuracy_score(y_test_encoded, y_pred_mlp))\n",
    "\n",
    "best_mlp_model = random_search_mlp.best_estimator_\n",
    "joblib.dump(best_mlp_model, '../../data/model_comp/pos_pred_result/best_mlp_model_random_pos.joblib')"
   ]
  },
  {
   "cell_type": "code",
   "execution_count": 15,
   "metadata": {},
   "outputs": [],
   "source": [
    "from sklearn.preprocessing import LabelEncoder\n",
    "import joblib\n",
    "\n",
    "label_encoder = LabelEncoder()\n",
    "y_train_encoded = label_encoder.fit_transform(y_train)\n",
    "y_test_encoded = label_encoder.transform(y_test)\n",
    "\n",
    "best_knn_model = joblib.load('../../data/model_comp/pos_pred_result/best_knn_model_random_pos.joblib')\n",
    "y_pred_knn = best_knn_model.predict(X_test)\n",
    "print('kNN Accuracy:', accuracy_score(y_test_encoded, y_pred_knn))\n",
    "\n",
    "best_rf_model = joblib.load('../../data/model_comp/pos_pred_result/best_rf_model_random_pos.joblib')\n",
    "y_pred_rf = best_rf_model.predict(X_test)\n",
    "print('rf Accuracy:', accuracy_score(y_test_encoded, y_pred_rf))\n",
    "\n",
    "best_svm_model = joblib.load('../../data/model_comp/pos_pred_result/best_svm_model_random_pos.joblib')\n",
    "y_pred_svm = best_svm_model.predict(X_test)\n",
    "print('svm Accuracy:', accuracy_score(y_test_encoded, y_pred_svm))\n",
    "\n",
    "best_xgb_model = joblib.load('../../data/model_comp/pos_pred_result/best_xgb_model_random_pos.joblib')\n",
    "y_pred_xgb = best_xgb_model.predict(X_test)\n",
    "print('xgb Accuracy:', accuracy_score(y_test_encoded, y_pred_xgb))\n",
    "\n",
    "best_mlp_model = joblib.load('../../data/model_comp/pos_pred_result/best_mlp_model_random_pos.joblib')\n",
    "y_pred_mlp = best_mlp_model.predict(X_test)\n",
    "print('mlp Accuracy:', accuracy_score(y_test_encoded, y_pred_mlp))"
   ]
  },
  {
   "cell_type": "code",
   "execution_count": 11,
   "metadata": {},
   "outputs": [],
   "source": [
    "from sklearn.metrics import accuracy_score, precision_score, recall_score, f1_score\n",
    "\n",
    "def cal_score(y_test, y_pred_rf):\n",
    "    accuracy = accuracy_score(y_test, y_pred_rf)\n",
    "    precision = precision_score(y_test, y_pred_rf, average='macro', zero_division=0)\n",
    "    recall = recall_score(y_test, y_pred_rf, average='macro')\n",
    "    f1 = f1_score(y_test, y_pred_rf, average='macro')\n",
    "    list = [accuracy, precision, recall, f1]\n",
    "\n",
    "    print('Accuracy:', accuracy)\n",
    "    print('Precision:', precision)\n",
    "    print('Recall:', recall)\n",
    "    print('F1 Score:', f1)\n",
    "\n",
    "    return list"
   ]
  },
  {
   "cell_type": "code",
   "execution_count": 12,
   "metadata": {},
   "outputs": [
    {
     "name": "stdout",
     "output_type": "stream",
     "text": [
      "kNN\n",
      "Accuracy: 0.9077468953282082\n",
      "Precision: 0.8879481749130694\n",
      "Recall: 0.8019469447711542\n",
      "F1 Score: 0.8281308868239396\n",
      "Random Forest\n",
      "Accuracy: 0.9373151981076286\n",
      "Precision: 0.8449819335904621\n",
      "Recall: 0.776629771791378\n",
      "F1 Score: 0.7993297184338356\n",
      "SVM\n",
      "Accuracy: 0.9319929036073329\n",
      "Precision: 0.9011837583930935\n",
      "Recall: 0.8734180910994636\n",
      "F1 Score: 0.8817973811371769\n",
      "XGBoost\n",
      "Accuracy: 0.9716144293317563\n",
      "Precision: 0.93245309051721\n",
      "Recall: 0.8955304885487574\n",
      "F1 Score: 0.9051529818034342\n",
      "MLP\n",
      "Accuracy: 0.9444115907746895\n",
      "Precision: 0.9084685589095505\n",
      "Recall: 0.8873986169457868\n",
      "F1 Score: 0.8944738987855485\n"
     ]
    }
   ],
   "source": [
    "print('kNN')\n",
    "knn_result_list = cal_score(y_test_encoded, y_pred_knn)\n",
    "print('Random Forest')\n",
    "rf_result_list = cal_score(y_test_encoded, y_pred_rf)\n",
    "print('SVM')\n",
    "svm_result_list = cal_score(y_test_encoded, y_pred_svm)\n",
    "print('XGBoost')\n",
    "xgb_result_list = cal_score(y_test_encoded, y_pred_xgb)\n",
    "print('MLP')\n",
    "mlp_result_list = cal_score(y_test_encoded, y_pred_mlp)"
   ]
  },
  {
   "cell_type": "code",
   "execution_count": 13,
   "metadata": {},
   "outputs": [],
   "source": [
    "pos_result_list = [knn_result_list, rf_result_list, svm_result_list, xgb_result_list, mlp_result_list]"
   ]
  },
  {
   "cell_type": "code",
   "execution_count": 14,
   "metadata": {},
   "outputs": [],
   "source": [
    "import pickle\n",
    "with open('../../data/model_comp/pos_pred_result/pos_result_list_random.pkl', 'wb') as f:\n",
    "    pickle.dump(pos_result_list, f)"
   ]
  },
  {
   "cell_type": "code",
   "execution_count": 15,
   "metadata": {},
   "outputs": [],
   "source": [
    "import numpy as np\n",
    "joblib.dump(label_encoder, '../../data/model_comp/pos_pred_result/label_encoder_pos_random.pkl')\n",
    "\n",
    "np.save('../../data/model_comp/pos_pred_result/y_test_encoded_pos_random.npy', y_test_encoded)\n",
    "np.save('../../data/model_comp/pos_pred_result/y_pred_knn_pos_random.npy', y_pred_knn)\n",
    "np.save('../../data/model_comp/pos_pred_result/y_pred_rf_pos_random.npy', y_pred_rf)\n",
    "np.save('../../data/model_comp/pos_pred_result/y_pred_svm_pos_random.npy', y_pred_svm)\n",
    "np.save('../../data/model_comp/pos_pred_result/y_pred_xgb_pos_random.npy', y_pred_xgb)\n",
    "np.save('../../data/model_comp/pos_pred_result/y_pred_mlp_pos_random.npy', y_pred_mlp)"
   ]
  },
  {
   "cell_type": "markdown",
   "metadata": {},
   "source": [
    "neg"
   ]
  },
  {
   "cell_type": "code",
   "execution_count": 16,
   "metadata": {},
   "outputs": [],
   "source": [
    "df_neg2x = pd.read_csv('../../data/basedata/df_neg_MCH.csv')\n",
    "\n",
    "from sklearn.model_selection import train_test_split\n",
    "columns_to_drop = ['Metabolitename', 'Ontology', 'dataset', 'AlignmentID', 'AverageMz']\n",
    "X = df_neg2x.drop(columns=columns_to_drop).astype(float).values\n",
    "y = df_neg2x['Ontology']\n",
    "print(len(y.unique()))\n",
    "\n",
    "X_train, X_test, y_train, y_test = train_test_split(X, y, test_size=0.2, random_state=42, stratify=y)"
   ]
  },
  {
   "cell_type": "code",
   "execution_count": 17,
   "metadata": {},
   "outputs": [],
   "source": [
    "from sklearn.neighbors import KNeighborsClassifier\n",
    "from sklearn.model_selection import RandomizedSearchCV\n",
    "from sklearn.metrics import accuracy_score\n",
    "from sklearn.preprocessing import LabelEncoder\n",
    "from scipy.stats import randint as sp_randint\n",
    "import joblib\n",
    "\n",
    "\n",
    "label_encoder = LabelEncoder()\n",
    "y_train_encoded = label_encoder.fit_transform(y_train)\n",
    "y_test_encoded = label_encoder.transform(y_test)\n",
    "\n",
    "\n",
    "param_random_knn = {\n",
    "    'n_neighbors': sp_randint(3, 30),  \n",
    "    'weights': ['uniform', 'distance'], \n",
    "    'algorithm': ['auto', 'ball_tree', 'kd_tree', 'brute'], \n",
    "    'leaf_size': sp_randint(10, 50), \n",
    "    'p': [1, 2]\n",
    "}\n",
    "\n",
    "random_search_knn = RandomizedSearchCV(estimator=KNeighborsClassifier(), \n",
    "                                       param_distributions=param_random_knn, \n",
    "                                       n_iter=500, scoring='f1_macro', verbose=1,\n",
    "                                       cv=5, n_jobs=60, random_state=42)\n",
    "\n",
    "random_search_knn.fit(X_train, y_train_encoded)\n",
    "print('Best parameters for kNN:', random_search_knn.best_params_)\n",
    "\n",
    "y_pred_knn = random_search_knn.predict(X_test)\n",
    "print('kNN Accuracy:', accuracy_score(y_test_encoded, y_pred_knn))\n",
    "\n",
    "best_knn_model = random_search_knn.best_estimator_\n",
    "joblib.dump(best_knn_model, '../../data/model_comp/neg_pred_result/best_knn_model_random_neg.joblib')"
   ]
  },
  {
   "cell_type": "code",
   "execution_count": 18,
   "metadata": {},
   "outputs": [],
   "source": [
    "from sklearn.ensemble import RandomForestClassifier\n",
    "\n",
    "param_random_rf = {\n",
    "    'n_estimators': sp_randint(100, 1000),  \n",
    "    'max_depth': [None, 10, 20, 30, 40, 50, 60, 70, 80, 90, 100],  \n",
    "    'min_samples_split': sp_randint(2, 20), \n",
    "    'min_samples_leaf': sp_randint(1, 20),  \n",
    "    'bootstrap': [True, False] \n",
    "}\n",
    "\n",
    "random_search_rf = RandomizedSearchCV(estimator=RandomForestClassifier(random_state=42), \n",
    "                                    param_distributions=param_random_rf, \n",
    "                                    n_iter=500, scoring='f1_macro', verbose=True,\n",
    "                                    cv=5, n_jobs=60, random_state=42)\n",
    "\n",
    "random_search_rf.fit(X_train, y_train_encoded)\n",
    "print('Best parameters for Random Forest:', random_search_rf.best_params_)\n",
    "\n",
    "y_pred_rf = random_search_rf.predict(X_test)\n",
    "print('Random Forest Accuracy:', accuracy_score(y_test_encoded, y_pred_rf))\n",
    "\n",
    "best_rf_model = random_search_rf.best_estimator_\n",
    "joblib.dump(best_rf_model, '../../data/model_comp/neg_pred_result/best_rf_model_random_neg.joblib')"
   ]
  },
  {
   "cell_type": "code",
   "execution_count": 19,
   "metadata": {},
   "outputs": [],
   "source": [
    "from sklearn.svm import SVC\n",
    "\n",
    "param_random_svm = {\n",
    "    'C': uniform(loc=0.1, scale=100),\n",
    "    'kernel': ['linear', 'rbf'],\n",
    "    'gamma': ['scale', 'auto'] + list(uniform(loc=0.001, scale=1).rvs(10)) \n",
    "}\n",
    "\n",
    "random_search_svm = RandomizedSearchCV(estimator=SVC(random_state=42), \n",
    "                                       param_distributions=param_random_svm, \n",
    "                                       n_iter=500, scoring='f1_macro', verbose=1,\n",
    "                                       cv=5, n_jobs=60, random_state=42)\n",
    "\n",
    "random_search_svm.fit(X_train, y_train_encoded)\n",
    "print('Best parameters for SVM:', random_search_svm.best_params_)\n",
    "\n",
    "y_pred_svm = random_search_svm.predict(X_test)\n",
    "print('SVM Accuracy:', accuracy_score(y_test_encoded, y_pred_svm))\n",
    "\n",
    "best_svm_model = random_search_svm.best_estimator_\n",
    "joblib.dump(best_svm_model, '../../data/model_comp/neg_pred_result/best_svm_model_random_neg.joblib')"
   ]
  },
  {
   "cell_type": "code",
   "execution_count": 20,
   "metadata": {},
   "outputs": [],
   "source": [
    "import xgboost as xgb\n",
    "\n",
    "param_random_xgb = {\n",
    "    'n_estimators': sp_randint(50, 500),\n",
    "    'max_depth': sp_randint(3, 15), \n",
    "    'learning_rate': uniform(loc=0.01, scale=0.29)\n",
    "}\n",
    "\n",
    "random_search_xgb = RandomizedSearchCV(estimator=xgb.XGBClassifier(use_label_encoder=False, eval_metric='mlogloss', random_state=42), \n",
    "                                       param_distributions=param_random_xgb, \n",
    "                                       n_iter=500, scoring='f1_macro', verbose=1,\n",
    "                                       cv=5, n_jobs=60, random_state=42)\n",
    "\n",
    "random_search_xgb.fit(X_train, y_train_encoded)\n",
    "print('Best parameters for XGBoost:', random_search_xgb.best_params_)\n",
    "\n",
    "y_pred_xgb = random_search_xgb.predict(X_test)\n",
    "print('XGBoost Accuracy:', accuracy_score(y_test_encoded, y_pred_xgb))\n",
    "\n",
    "best_xgb_model = random_search_xgb.best_estimator_\n",
    "joblib.dump(best_xgb_model, '../../data/model_comp/neg_pred_result/best_xgb_model_random_neg.joblib')"
   ]
  },
  {
   "cell_type": "code",
   "execution_count": 21,
   "metadata": {},
   "outputs": [],
   "source": [
    "from sklearn.neural_network import MLPClassifier\n",
    "\n",
    "param_random_mlp = {\n",
    "    'hidden_layer_sizes': [generate_hidden_layer_sizes() for _ in range(100)], \n",
    "    'activation': ['tanh', 'relu'],\n",
    "    'solver': ['sgd', 'adam'],\n",
    "    'alpha': uniform(loc=0.00001, scale=0.01),\n",
    "    'learning_rate': ['constant', 'adaptive']\n",
    "}\n",
    "\n",
    "random_search_mlp = RandomizedSearchCV(estimator=MLPClassifier(max_iter=1000, random_state=42), \n",
    "                                       param_distributions=param_random_mlp, \n",
    "                                       n_iter=500, scoring='f1_macro', verbose=1,\n",
    "                                       cv=5, n_jobs=60, random_state=42)\n",
    "\n",
    "random_search_mlp.fit(X_train, y_train_encoded)\n",
    "print('Best parameters for MLP:', random_search_mlp.best_params_)\n",
    "\n",
    "y_pred_mlp = random_search_mlp.predict(X_test)\n",
    "print('MLP Accuracy:', accuracy_score(y_test_encoded, y_pred_mlp))\n",
    "\n",
    "best_mlp_model = random_search_mlp.best_estimator_\n",
    "joblib.dump(best_mlp_model, '../../data/model_comp/neg_pred_result/best_mlp_model_random_neg.joblib')"
   ]
  },
  {
   "cell_type": "code",
   "execution_count": 22,
   "metadata": {},
   "outputs": [
    {
     "name": "stdout",
     "output_type": "stream",
     "text": [
      "kNN\n",
      "Accuracy: 0.925990675990676\n",
      "Precision: 0.8186401666241402\n",
      "Recall: 0.7742998633351145\n",
      "F1 Score: 0.7762772019020245\n",
      "Random Forest\n",
      "Accuracy: 0.9667832167832168\n",
      "Precision: 0.8993323645085642\n",
      "Recall: 0.8253045908392568\n",
      "F1 Score: 0.8500052792103635\n",
      "SVM\n",
      "Accuracy: 0.9621212121212122\n",
      "Precision: 0.8831005163794904\n",
      "Recall: 0.8392577089137998\n",
      "F1 Score: 0.8487249232203361\n",
      "XGBoost\n",
      "Accuracy: 0.9755244755244755\n",
      "Precision: 0.9328796201852226\n",
      "Recall: 0.8892637363935751\n",
      "F1 Score: 0.8952263126905086\n",
      "MLP\n",
      "Accuracy: 0.9662004662004662\n",
      "Precision: 0.8988951918165983\n",
      "Recall: 0.8527392807521416\n",
      "F1 Score: 0.8663300677146465\n"
     ]
    }
   ],
   "source": [
    "print('kNN')\n",
    "knn_result_list = cal_score(y_test_encoded, y_pred_knn)\n",
    "print('Random Forest')\n",
    "rf_result_list = cal_score(y_test_encoded, y_pred_rf)\n",
    "print('SVM')\n",
    "svm_result_list = cal_score(y_test_encoded, y_pred_svm)\n",
    "print('XGBoost')\n",
    "xgb_result_list = cal_score(y_test_encoded, y_pred_xgb)\n",
    "print('MLP')\n",
    "mlp_result_list = cal_score(y_test_encoded, y_pred_mlp)"
   ]
  },
  {
   "cell_type": "code",
   "execution_count": 23,
   "metadata": {},
   "outputs": [],
   "source": [
    "neg_result_list = [knn_result_list, rf_result_list, svm_result_list, xgb_result_list, mlp_result_list]"
   ]
  },
  {
   "cell_type": "code",
   "execution_count": 24,
   "metadata": {},
   "outputs": [],
   "source": [
    "import pickle\n",
    "with open('../../data/model_comp/neg_pred_result/neg_result_list_random.pkl', 'wb') as f:\n",
    "    pickle.dump(neg_result_list, f)"
   ]
  },
  {
   "cell_type": "code",
   "execution_count": 25,
   "metadata": {},
   "outputs": [],
   "source": [
    "import numpy as np\n",
    "joblib.dump(label_encoder, '../../data/model_comp/neg_pred_result/label_encoder_neg_random.pkl')\n",
    "\n",
    "np.save('../../data/model_comp/neg_pred_result/y_test_encoded_neg_random.npy', y_test_encoded)\n",
    "np.save('../../data/model_comp/neg_pred_result/y_pred_knn_neg_random.npy', y_pred_knn)\n",
    "np.save('../../data/model_comp/neg_pred_result/y_pred_rf_neg_random.npy', y_pred_rf)\n",
    "np.save('../../data/model_comp/neg_pred_result/y_pred_svm_neg_random.npy', y_pred_svm)\n",
    "np.save('../../data/model_comp/neg_pred_result/y_pred_xgb_neg_random.npy', y_pred_xgb)\n",
    "np.save('../../data/model_comp/neg_pred_result/y_pred_mlp_neg_random.npy', y_pred_mlp)"
   ]
  },
  {
   "cell_type": "code",
   "execution_count": null,
   "metadata": {},
   "outputs": [],
   "source": []
  }
 ],
 "metadata": {
  "kernelspec": {
   "display_name": "base",
   "language": "python",
   "name": "python3"
  },
  "language_info": {
   "codemirror_mode": {
    "name": "ipython",
    "version": 3
   },
   "file_extension": ".py",
   "mimetype": "text/x-python",
   "name": "python",
   "nbconvert_exporter": "python",
   "pygments_lexer": "ipython3",
   "version": "3.10.14"
  }
 },
 "nbformat": 4,
 "nbformat_minor": 2
}
