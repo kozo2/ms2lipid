{
 "cells": [
  {
   "cell_type": "code",
   "execution_count": 1,
   "metadata": {},
   "outputs": [
    {
     "name": "stderr",
     "output_type": "stream",
     "text": [
      "2024-10-05 06:55:18.981024: I tensorflow/core/util/port.cc:153] oneDNN custom operations are on. You may see slightly different numerical results due to floating-point round-off errors from different computation orders. To turn them off, set the environment variable `TF_ENABLE_ONEDNN_OPTS=0`.\n",
      "2024-10-05 06:55:19.002215: E external/local_xla/xla/stream_executor/cuda/cuda_fft.cc:485] Unable to register cuFFT factory: Attempting to register factory for plugin cuFFT when one has already been registered\n",
      "2024-10-05 06:55:19.024595: E external/local_xla/xla/stream_executor/cuda/cuda_dnn.cc:8454] Unable to register cuDNN factory: Attempting to register factory for plugin cuDNN when one has already been registered\n",
      "2024-10-05 06:55:19.030930: E external/local_xla/xla/stream_executor/cuda/cuda_blas.cc:1452] Unable to register cuBLAS factory: Attempting to register factory for plugin cuBLAS when one has already been registered\n",
      "2024-10-05 06:55:19.051990: I tensorflow/core/platform/cpu_feature_guard.cc:210] This TensorFlow binary is optimized to use available CPU instructions in performance-critical operations.\n",
      "To enable the following instructions: AVX2 AVX512F AVX512_VNNI AVX512_BF16 AVX512_FP16 AVX_VNNI AMX_TILE AMX_INT8 AMX_BF16 FMA, in other operations, rebuild TensorFlow with the appropriate compiler flags.\n",
      "2024-10-05 06:55:19.985781: W tensorflow/compiler/tf2tensorrt/utils/py_utils.cc:38] TF-TRT Warning: Could not find TensorRT\n"
     ]
    }
   ],
   "source": [
    "import sys\n",
    "import os\n",
    "\n",
    "module_path = os.path.abspath(os.path.join(os.getcwd(), '..', '..'))\n",
    "sys.path.insert(0, module_path)\n",
    "\n",
    "import note.base as base\n",
    "sys.path.pop(0)\n",
    "\n",
    "SEED = 42\n",
    "base.fix_seed(SEED)"
   ]
  },
  {
   "cell_type": "code",
   "execution_count": 2,
   "metadata": {},
   "outputs": [],
   "source": [
    "import pandas as pd"
   ]
  },
  {
   "cell_type": "code",
   "execution_count": 3,
   "metadata": {},
   "outputs": [],
   "source": [
    "import re\n",
    "import zipfile\n",
    "\n",
    "\n",
    "def make_ms_file(df_select, output_file_path):\n",
    "    df_select = df_select.reset_index(drop=True)\n",
    "    invalid_chars = r'[\\\\/:*?\"<>|]'\n",
    "\n",
    "    for i in range(len(df_select)):\n",
    "        formula = df_select['Formula'][i]\n",
    "        parentmass = df_select['AverageMz'][i]\n",
    "        ionization = df_select['Adducttype'][i]\n",
    "        \n",
    "        ms2_data = df_select['MSMSspectrum'][i]\n",
    "        elements = ms2_data.split()  \n",
    "        id = df_select.index.tolist()[i]\n",
    "        metabolite = re.sub(invalid_chars, '_', df_select['Metabolitename'][i])\n",
    "        ontology = re.sub(invalid_chars, '_', df_select['Ontology'][i])\n",
    "        name_ont = f\"{id}_{metabolite}_{ontology}\"\n",
    "\n",
    "        ms2_split_data = []\n",
    "        for element in elements:\n",
    "            parts = element.split(':')\n",
    "            ms2_split_data.append(f\"{parts[0]} {parts[1]}\")\n",
    "\n",
    "        output_file = f\"{output_file_path}/{name_ont}.ms\"\n",
    "        with open(output_file, 'w', newline='') as file:\n",
    "            \n",
    "            file.write(f\">compound {metabolite}_{ontology}\\n\")\n",
    "            file.write(f\">formula {formula}\\n\")\n",
    "            file.write(f\">parentmass {parentmass}\\n\")\n",
    "            file.write(f\">ionization {ionization}\\n\")\n",
    "            \n",
    "            file.write(\">ms2\\n\")\n",
    "            file.write('\\n'.join(ms2_split_data))\n",
    "\n",
    "def make_zipfile(folder_path, zip_filename):\n",
    "    with zipfile.ZipFile(zip_filename, 'w') as zipf:\n",
    "        for foldername, subfolders, filenames in os.walk(folder_path):\n",
    "            for filename in filenames:\n",
    "                if filename.endswith('.ms'):\n",
    "                    file_path = os.path.join(foldername, filename)\n",
    "                    arcname = os.path.relpath(file_path, folder_path)\n",
    "                    zipf.write(file_path, arcname)"
   ]
  },
  {
   "cell_type": "markdown",
   "metadata": {},
   "source": [
    "pos"
   ]
  },
  {
   "cell_type": "code",
   "execution_count": 206,
   "metadata": {},
   "outputs": [],
   "source": [
    "df_pos_p = pd.read_csv('../../data/canopus/tabledata_all_pos.csv').drop_duplicates()\n",
    "df_pos = pd.read_csv('../../data/basedata/df_pos.csv').drop(columns=['Unnamed: 0']).drop_duplicates()\n",
    "\n",
    "sel_columns = ['MSMSspectrum', 'Metabolitename', 'AlignmentID', 'indexid']\n",
    "columns = ['MSMSspectrum', 'Metabolitename', 'AlignmentID']\n",
    "df_pos = df_pos_p[sel_columns].merge(df_pos, on=columns, how='inner').drop_duplicates().sort_values('indexid', ascending=True)\n",
    "df_pos.to_csv('../../data/canopus/df_pos_indexid.csv', index=False)"
   ]
  },
  {
   "cell_type": "markdown",
   "metadata": {},
   "source": [
    "make \".ms\" file"
   ]
  },
  {
   "cell_type": "code",
   "execution_count": 4,
   "metadata": {},
   "outputs": [],
   "source": [
    "output_file_path = '../../data/canopus/ms2_spectrum_ms_pos'\n",
    "make_ms_file(df_pos, output_file_path)\n",
    "\n",
    "zip_filename = '../../data/canopus/ms2_spectrum_ms_pos.zip'\n",
    "make_zipfile(output_file_path, zip_filename)"
   ]
  },
  {
   "cell_type": "markdown",
   "metadata": {},
   "source": [
    "neg"
   ]
  },
  {
   "cell_type": "code",
   "execution_count": 260,
   "metadata": {},
   "outputs": [],
   "source": [
    "df_neg_p = pd.read_csv('../../data/canopus/tabledata_all_neg.csv').drop_duplicates()\n",
    "df_neg = pd.read_csv('../../data/basedata/df_neg.csv').drop(columns=['Unnamed: 0']).query('dataset != 77').drop_duplicates()\n",
    "\n",
    "sel_columns = ['MSMSspectrum', 'Metabolitename', 'AlignmentID', 'sampleid','indexid']\n",
    "columns = ['MSMSspectrum', 'Metabolitename', 'AlignmentID', 'sampleid']\n",
    "df_neg = df_neg_p[sel_columns].merge(df_neg, on=columns, how='inner').drop_duplicates().sort_values('indexid', ascending=True)\n",
    "df_neg.to_csv('../../data/canopus/df_neg_indexid.csv', index=False)"
   ]
  },
  {
   "cell_type": "code",
   "execution_count": 262,
   "metadata": {},
   "outputs": [],
   "source": [
    "output_file_path = '../../data/canopus/ms2_spectrum_ms_neg'\n",
    "make_ms_file(df_neg, output_file_path)\n",
    "\n",
    "zip_filename = '../../data/canopus/ms2_spectrum_ms_neg.zip'\n",
    "make_zipfile(output_file_path, zip_filename)"
   ]
  }
 ],
 "metadata": {
  "kernelspec": {
   "display_name": "base",
   "language": "python",
   "name": "python3"
  },
  "language_info": {
   "codemirror_mode": {
    "name": "ipython",
    "version": 3
   },
   "file_extension": ".py",
   "mimetype": "text/x-python",
   "name": "python",
   "nbconvert_exporter": "python",
   "pygments_lexer": "ipython3",
   "version": "3.10.14"
  }
 },
 "nbformat": 4,
 "nbformat_minor": 2
}
