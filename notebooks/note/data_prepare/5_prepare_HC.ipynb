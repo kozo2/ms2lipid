{
 "cells": [
  {
   "cell_type": "code",
   "execution_count": 2,
   "metadata": {},
   "outputs": [
    {
     "name": "stderr",
     "output_type": "stream",
     "text": [
      "2024-10-02 02:24:12.459060: I tensorflow/core/util/port.cc:153] oneDNN custom operations are on. You may see slightly different numerical results due to floating-point round-off errors from different computation orders. To turn them off, set the environment variable `TF_ENABLE_ONEDNN_OPTS=0`.\n",
      "2024-10-02 02:24:12.626750: E external/local_xla/xla/stream_executor/cuda/cuda_fft.cc:485] Unable to register cuFFT factory: Attempting to register factory for plugin cuFFT when one has already been registered\n",
      "2024-10-02 02:24:12.690011: E external/local_xla/xla/stream_executor/cuda/cuda_dnn.cc:8454] Unable to register cuDNN factory: Attempting to register factory for plugin cuDNN when one has already been registered\n",
      "2024-10-02 02:24:12.703746: E external/local_xla/xla/stream_executor/cuda/cuda_blas.cc:1452] Unable to register cuBLAS factory: Attempting to register factory for plugin cuBLAS when one has already been registered\n",
      "2024-10-02 02:24:12.783318: I tensorflow/core/platform/cpu_feature_guard.cc:210] This TensorFlow binary is optimized to use available CPU instructions in performance-critical operations.\n",
      "To enable the following instructions: AVX2 AVX512F AVX512_VNNI AVX512_BF16 AVX512_FP16 AVX_VNNI AMX_TILE AMX_INT8 AMX_BF16 FMA, in other operations, rebuild TensorFlow with the appropriate compiler flags.\n",
      "2024-10-02 02:24:13.459869: W tensorflow/compiler/tf2tensorrt/utils/py_utils.cc:38] TF-TRT Warning: Could not find TensorRT\n"
     ]
    }
   ],
   "source": [
    "import sys\n",
    "import os\n",
    "\n",
    "module_path = os.path.abspath(os.path.join(os.getcwd(), '..', '..'))\n",
    "sys.path.insert(0, module_path)\n",
    "\n",
    "import note.base as base\n",
    "sys.path.pop(0)\n",
    "\n",
    "SEED = 42\n",
    "base.fix_seed(SEED)"
   ]
  },
  {
   "cell_type": "code",
   "execution_count": 3,
   "metadata": {},
   "outputs": [],
   "source": [
    "import pandas as pd"
   ]
  },
  {
   "cell_type": "markdown",
   "metadata": {},
   "source": [
    "pos"
   ]
  },
  {
   "cell_type": "code",
   "execution_count": 4,
   "metadata": {},
   "outputs": [],
   "source": [
    "df_pos_height = pd.read_csv('../../data/HCdata/pos_Height_1_2024_03_29_19_43_37.txt', sep='\\t',header=4, delimiter=None)\\\n",
    "[['Alignment ID','Average Mz', 'Metabolite name', 'Ontology','MS/MS spectrum']].\\\n",
    "rename(columns={'Metabolite name':'Metabolitename', 'Alignment ID':'AlignmentID','Average Mz':'AverageMz', 'MS/MS spectrum':'MSMSspectrum'}).dropna(subset=['MSMSspectrum']).reset_index(drop=True)\n",
    "df_pos_height['dataset'] = 'HumanCohort'"
   ]
  },
  {
   "cell_type": "code",
   "execution_count": 25,
   "metadata": {},
   "outputs": [],
   "source": [
    "df_pos_exp_ = base.spectrum_tidy(df_pos_height)\n",
    "df_pos_neuloss_ = base.neutralloss_tidy(df_pos_height)\n",
    "df_pos_data = base.spectrum_neutralloss_table(df_pos_exp_, df_pos_neuloss_)"
   ]
  },
  {
   "cell_type": "markdown",
   "metadata": {},
   "source": [
    "neg"
   ]
  },
  {
   "cell_type": "code",
   "execution_count": 20,
   "metadata": {},
   "outputs": [],
   "source": [
    "df_neg_height = pd.read_csv('../../data/HCdata/neg_Height_1_2024_03_29_19_47_56.txt', sep='\\t',header=4, delimiter=None)\\\n",
    "[['Alignment ID','Average Mz', 'Metabolite name', 'Ontology','MS/MS spectrum']].\\\n",
    "rename(columns={'Metabolite name':'Metabolitename', 'Alignment ID':'AlignmentID','Average Mz':'AverageMz', 'MS/MS spectrum':'MSMSspectrum'}).dropna(subset=['MSMSspectrum']).reset_index(drop=True)\n",
    "df_neg_height['dataset'] = 'HumanCohort'"
   ]
  },
  {
   "cell_type": "code",
   "execution_count": 21,
   "metadata": {},
   "outputs": [],
   "source": [
    "df_neg_exp_ = base.spectrum_tidy(df_neg_height)\n",
    "df_neg_neuloss_ = base.neutralloss_tidy(df_neg_height)\n",
    "df_neg_data = base.spectrum_neutralloss_table(df_neg_exp_, df_neg_neuloss_)"
   ]
  },
  {
   "cell_type": "code",
   "execution_count": 26,
   "metadata": {},
   "outputs": [],
   "source": [
    "df_pos_data.to_csv('../../data/HCdata/df_HCtable_pos.csv', index=False) \n",
    "df_neg_data.to_csv('../../data/HCdata/df_HCtable_neg.csv', index=False)"
   ]
  },
  {
   "cell_type": "code",
   "execution_count": null,
   "metadata": {},
   "outputs": [],
   "source": []
  }
 ],
 "metadata": {
  "kernelspec": {
   "display_name": "base",
   "language": "python",
   "name": "python3"
  },
  "language_info": {
   "codemirror_mode": {
    "name": "ipython",
    "version": 3
   },
   "file_extension": ".py",
   "mimetype": "text/x-python",
   "name": "python",
   "nbconvert_exporter": "python",
   "pygments_lexer": "ipython3",
   "version": "3.10.14"
  }
 },
 "nbformat": 4,
 "nbformat_minor": 2
}
