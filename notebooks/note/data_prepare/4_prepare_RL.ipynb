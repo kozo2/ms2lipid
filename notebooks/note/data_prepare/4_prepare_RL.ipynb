{
 "cells": [
  {
   "cell_type": "code",
   "execution_count": 1,
   "metadata": {},
   "outputs": [
    {
     "data": {
      "text/plain": [
       "'/home/sakamoto/spectrum_re/note/data_prepare'"
      ]
     },
     "execution_count": 1,
     "metadata": {},
     "output_type": "execute_result"
    }
   ],
   "source": [
    "from pathlib import Path\n",
    "import os\n",
    "os.getcwd()"
   ]
  },
  {
   "cell_type": "code",
   "execution_count": 3,
   "metadata": {},
   "outputs": [
    {
     "name": "stderr",
     "output_type": "stream",
     "text": [
      "2024-07-30 11:07:08.360041: I tensorflow/core/util/port.cc:153] oneDNN custom operations are on. You may see slightly different numerical results due to floating-point round-off errors from different computation orders. To turn them off, set the environment variable `TF_ENABLE_ONEDNN_OPTS=0`.\n",
      "2024-07-30 11:07:08.380380: E external/local_xla/xla/stream_executor/cuda/cuda_fft.cc:485] Unable to register cuFFT factory: Attempting to register factory for plugin cuFFT when one has already been registered\n",
      "2024-07-30 11:07:08.402280: E external/local_xla/xla/stream_executor/cuda/cuda_dnn.cc:8454] Unable to register cuDNN factory: Attempting to register factory for plugin cuDNN when one has already been registered\n",
      "2024-07-30 11:07:08.408436: E external/local_xla/xla/stream_executor/cuda/cuda_blas.cc:1452] Unable to register cuBLAS factory: Attempting to register factory for plugin cuBLAS when one has already been registered\n",
      "2024-07-30 11:07:08.427693: I tensorflow/core/platform/cpu_feature_guard.cc:210] This TensorFlow binary is optimized to use available CPU instructions in performance-critical operations.\n",
      "To enable the following instructions: AVX2 AVX512F AVX512_VNNI AVX512_BF16 AVX512_FP16 AVX_VNNI AMX_TILE AMX_INT8 AMX_BF16 FMA, in other operations, rebuild TensorFlow with the appropriate compiler flags.\n",
      "2024-07-30 11:07:09.378169: W tensorflow/compiler/tf2tensorrt/utils/py_utils.cc:38] TF-TRT Warning: Could not find TensorRT\n"
     ]
    }
   ],
   "source": [
    "import sys\n",
    "\n",
    "module_path = os.path.abspath(os.path.join(os.getcwd(), '..', '..'))\n",
    "sys.path.insert(0, module_path)\n",
    "\n",
    "import note.base as base\n",
    "sys.path.pop(0)\n",
    "\n",
    "SEED = 42\n",
    "base.fix_seed(SEED)"
   ]
  },
  {
   "cell_type": "code",
   "execution_count": 2,
   "metadata": {},
   "outputs": [],
   "source": [
    "import zipfile\n",
    "\n",
    "zip_path = Path('../../data/RLdata/RIKEN_LIPIDOMICS_dataset.zip')\n",
    "extract_to = Path('../../data/RLdata/RIKEN_LIPIDOMICS_dataset')\n",
    "with zipfile.ZipFile(zip_path, 'r') as zip_ref:\n",
    "    zip_ref.extractall(extract_to)"
   ]
  },
  {
   "cell_type": "code",
   "execution_count": 4,
   "metadata": {},
   "outputs": [],
   "source": [
    "extract_to = Path('../../data/RLdata/RIKEN_LIPIDOMICS_dataset')\n",
    "for path in list(extract_to.rglob('*.xlsx')):\n",
    "    dataframe = base.loadDataframe_for_RL(str(path))\n",
    "    base.insertdata(dataframe, path='../../data/RLdata/ms2_rikenlipid.db')"
   ]
  },
  {
   "cell_type": "code",
   "execution_count": 5,
   "metadata": {},
   "outputs": [],
   "source": [
    "def get_fileid(path):\n",
    "    path_elements = path.split(\"/\")\n",
    "    file_name = path_elements[-1]\n",
    "    file_name_elements = file_name.split(\"_\")\n",
    "    return file_name_elements[0]"
   ]
  },
  {
   "cell_type": "code",
   "execution_count": 14,
   "metadata": {},
   "outputs": [],
   "source": [
    "import pandas as pd\n",
    "\n",
    "df = base.import_sqlite3_data('../../data/RLdata/ms2_rikenlipid.db').drop_duplicates().reset_index(drop=True)\n",
    "df['dataset'] = df['dataset'].str.replace('../../data/RLdata/RIKEN_LIPIDOMICS_dataset/dataset/', '', regex=False)\n",
    "df['id'] = df['dataset'].apply(get_fileid).astype('int')\n",
    "df = df[~df['Ontology'].str.contains('IS \\(')]\n",
    "df['Comment'] = df['Comment'].fillna('NC')\n",
    "df = df[~(df['Comment'].str.contains('IS \\(') | df['Comment'].str.contains('d') | df['Comment'].str.contains('two peaks'))].reset_index(drop=True)"
   ]
  },
  {
   "cell_type": "code",
   "execution_count": 18,
   "metadata": {},
   "outputs": [
    {
     "name": "stdout",
     "output_type": "stream",
     "text": [
      "79747 79747 40790 38957\n"
     ]
    }
   ],
   "source": [
    "df_pos = df[df['Adducttype'].str.contains('\\]\\+')  |  df['Adducttype'].str.contains('\\]2\\+')]\n",
    "df_neg = df[df['Adducttype'].str.contains('\\]\\-') |  df['Adducttype'].str.contains('\\]2\\-')]\n",
    "print(len(df), len(df_pos)+len(df_neg), len(df_neg), len(df_pos))"
   ]
  },
  {
   "cell_type": "code",
   "execution_count": 41,
   "metadata": {},
   "outputs": [],
   "source": [
    "df_neg2 = df_neg[['Metabolitename', 'Ontology', 'id', 'AlignmentID','AverageMz', 'MSMSspectrum']].rename(columns={'id':'dataset'}).dropna().drop_duplicates().reset_index(drop=True)\n",
    "df_pos2 = df_pos[['Metabolitename', 'Ontology', 'id', 'AlignmentID','AverageMz', 'MSMSspectrum']].rename(columns={'id':'dataset'}).dropna().drop_duplicates().reset_index(drop=True)"
   ]
  },
  {
   "cell_type": "code",
   "execution_count": 43,
   "metadata": {},
   "outputs": [],
   "source": [
    "df_neg_exp_ = base.spectrum_tidy(df_neg2)\n",
    "df_neg_neuloss_ = base.neutralloss_tidy(df_neg2)\n",
    "df_neg_data = base.spectrum_neutralloss_table(df_neg_exp_, df_neg_neuloss_)    \n",
    "df_neg_data['Ontology'] = df_neg_data['Ontology'].str.replace(r'-', '_')"
   ]
  },
  {
   "cell_type": "code",
   "execution_count": 46,
   "metadata": {},
   "outputs": [],
   "source": [
    "df_pos_exp_ = base.spectrum_tidy(df_pos2)\n",
    "df_pos_neuloss_ = base.neutralloss_tidy(df_pos2)\n",
    "df_pos_data = base.spectrum_neutralloss_table(df_pos_exp_, df_pos_neuloss_)    \n",
    "df_pos_data['Ontology'] = df_pos_data['Ontology'].str.replace(r'-', '_')"
   ]
  },
  {
   "cell_type": "code",
   "execution_count": 47,
   "metadata": {},
   "outputs": [],
   "source": [
    "df_pos_data.to_csv('../../data/RLdata/df_RLtable_pos.csv', index=False) \n",
    "df_neg_data.to_csv('../../data/RLdata/df_RLtable_neg.csv', index=False)"
   ]
  }
 ],
 "metadata": {
  "kernelspec": {
   "display_name": "base",
   "language": "python",
   "name": "python3"
  },
  "language_info": {
   "codemirror_mode": {
    "name": "ipython",
    "version": 3
   },
   "file_extension": ".py",
   "mimetype": "text/x-python",
   "name": "python",
   "nbconvert_exporter": "python",
   "pygments_lexer": "ipython3",
   "version": "3.10.14"
  }
 },
 "nbformat": 4,
 "nbformat_minor": 2
}
