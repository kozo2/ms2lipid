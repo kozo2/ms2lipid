{
 "cells": [
  {
   "cell_type": "code",
   "execution_count": 26,
   "metadata": {},
   "outputs": [
    {
     "data": {
      "text/plain": [
       "'/home/sakamoto/spectrum_re/note/data_prepare'"
      ]
     },
     "execution_count": 26,
     "metadata": {},
     "output_type": "execute_result"
    }
   ],
   "source": [
    "from pathlib import Path\n",
    "import os\n",
    "os.getcwd()"
   ]
  },
  {
   "cell_type": "code",
   "execution_count": 27,
   "metadata": {},
   "outputs": [],
   "source": [
    "import sys\n",
    "module_path = os.path.abspath(os.path.join(os.getcwd(), '..', '..'))\n",
    "sys.path.insert(0, module_path)\n",
    "\n",
    "import note.base as base\n",
    "sys.path.pop(0)\n",
    "\n",
    "SEED = 42\n",
    "base.fix_seed(SEED)"
   ]
  },
  {
   "cell_type": "code",
   "execution_count": 28,
   "metadata": {},
   "outputs": [],
   "source": [
    "import zipfile\n",
    "\n",
    "zip_path = Path('../../data/basedata/height_tabledata.zip')\n",
    "extract_to = Path('../../data/basedata/height_tabledata')\n",
    "with zipfile.ZipFile(zip_path, 'r') as zip_ref:\n",
    "    zip_ref.extractall(extract_to)"
   ]
  },
  {
   "cell_type": "code",
   "execution_count": 29,
   "metadata": {},
   "outputs": [],
   "source": [
    "extract_to = Path('../../data/basedata/height_tabledata')\n",
    "for path in list(extract_to.rglob('*.txt')):\n",
    "    dataframe = base.loadDataframe(str(path))\n",
    "    base.insertdata(dataframe, path='../../data/basedata/ms2_lipid_data.db')"
   ]
  },
  {
   "cell_type": "code",
   "execution_count": 30,
   "metadata": {},
   "outputs": [],
   "source": [
    "import pandas as pd\n",
    "\n",
    "df = base.import_sqlite3_data('../../data/basedata/ms2_lipid_data.db').drop_duplicates().reset_index(drop=True)\n",
    "df['dataset'] = pd.factorize(df['dataset'])[0]\n",
    "\n",
    "df.to_csv('../../data/basedata/ms2_lipiddata.csv', index=False)"
   ]
  },
  {
   "cell_type": "code",
   "execution_count": 7,
   "metadata": {},
   "outputs": [],
   "source": [
    "df = df[df['Comment'].str.lower() == \"ok\"] \n",
    "df = df[~df['Metabolitename'].str.contains('\\(d')]\n",
    "\n",
    "df.to_csv('../../data/basedata/df_filter_ok.csv')"
   ]
  },
  {
   "cell_type": "code",
   "execution_count": 8,
   "metadata": {},
   "outputs": [
    {
     "name": "stdout",
     "output_type": "stream",
     "text": [
      "18238 18238 8574 9664\n"
     ]
    }
   ],
   "source": [
    "df_pos = df[df['Adducttype'].str.contains('\\]\\+') | df['Adducttype'].str.contains('\\]2\\+')]\n",
    "df_neg = df[df['Adducttype'].str.contains('\\]\\-') | df['Adducttype'].str.contains('\\]2\\-')]\n",
    "print(len(df), len(df_pos)+len(df_neg), len(df_pos), len(df_neg))"
   ]
  },
  {
   "cell_type": "code",
   "execution_count": 8,
   "metadata": {},
   "outputs": [],
   "source": [
    "df_pos.to_csv('../../data/basedata/df_pos.csv')\n",
    "df_neg.to_csv('../../data/basedata/df_neg.csv')"
   ]
  },
  {
   "cell_type": "code",
   "execution_count": 9,
   "metadata": {},
   "outputs": [],
   "source": [
    "df_pos_exp_ = base.spectrum_tidy(df_pos)\n",
    "df_pos_neuloss_ = base.neutralloss_tidy(df_pos)\n",
    "df_pos_data = base.spectrum_neutralloss_table(df_pos_exp_, df_pos_neuloss_)#, df_pos_remainder_)\n",
    "\n",
    "df_pos_data_ = pd.merge(df_pos_data, df[['Metabolitename','Ontology','dataset','AlignmentID','AverageMz']],\\\n",
    "                        on=['Metabolitename','Ontology','dataset','AlignmentID','AverageMz'], how='left')\n",
    "df_pos_data_ = df_pos_data_[~df_pos_data_['Metabolitename'].str.contains(\"also known as\")]. \\\n",
    "               set_index(['Metabolitename','Ontology','dataset','AlignmentID','AverageMz'])"
   ]
  },
  {
   "cell_type": "code",
   "execution_count": 10,
   "metadata": {},
   "outputs": [],
   "source": [
    "df_neg_exp_ = base.spectrum_tidy(df_neg)\n",
    "df_neg_neuloss_ = base.neutralloss_tidy(df_neg)\n",
    "df_neg_data = base.spectrum_neutralloss_table(df_neg_exp_, df_neg_neuloss_)\n",
    "\n",
    "df_neg_data_ = pd.merge(df_neg_data, df[['Metabolitename','Ontology','dataset','AlignmentID','AverageMz']],\\\n",
    "                        on=['Metabolitename','Ontology','dataset','AlignmentID','AverageMz'], how='left')\n",
    "df_neg_data_ = df_neg_data_[~df_neg_data_['Metabolitename'].str.contains(\"also known as\")]. \\\n",
    "               set_index(['Metabolitename','Ontology','dataset','AlignmentID','AverageMz'])"
   ]
  },
  {
   "cell_type": "code",
   "execution_count": 11,
   "metadata": {},
   "outputs": [],
   "source": [
    "df_pos_data_.to_csv('../../data/basedata/df_pos_wide.csv')\n",
    "df_neg_data_.to_csv('../../data/basedata/df_neg_wide.csv')"
   ]
  }
 ],
 "metadata": {
  "kernelspec": {
   "display_name": "base",
   "language": "python",
   "name": "python3"
  },
  "language_info": {
   "codemirror_mode": {
    "name": "ipython",
    "version": 3
   },
   "file_extension": ".py",
   "mimetype": "text/x-python",
   "name": "python",
   "nbconvert_exporter": "python",
   "pygments_lexer": "ipython3",
   "version": "3.10.14"
  }
 },
 "nbformat": 4,
 "nbformat_minor": 2
}
