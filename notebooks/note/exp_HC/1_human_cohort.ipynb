{
 "cells": [
  {
   "cell_type": "code",
   "execution_count": 1,
   "metadata": {},
   "outputs": [
    {
     "name": "stdout",
     "output_type": "stream",
     "text": [
      "True\n"
     ]
    }
   ],
   "source": [
    "import torch\n",
    "print(torch.cuda.is_available())"
   ]
  },
  {
   "cell_type": "code",
   "execution_count": 2,
   "metadata": {},
   "outputs": [],
   "source": [
    "import pandas as pd\n",
    "import joblib\n",
    "import re"
   ]
  },
  {
   "cell_type": "code",
   "execution_count": 3,
   "metadata": {},
   "outputs": [],
   "source": [
    "def calculate_average_atomic_mass(molecular_formula):\n",
    "    # Define mass\n",
    "    average_atomic_masses = {'H': 1.007825, 'C': 12.000000, 'O':15.994915}\n",
    "    # Calculate atomic mass from molecular formula\n",
    "    elements_with_counts = re.findall(r'([A-Z][a-z]*)(\\d*)', molecular_formula)\n",
    "    element_counts = {element[0]: int(element[1]) if element[1] else 1 for element in elements_with_counts}\n",
    "    average_atomic_mass = sum(element_counts[element] * average_atomic_masses[element] for element in element_counts)\n",
    "    return average_atomic_mass\n",
    "    \n",
    "def cal_mod(averagemz):\n",
    "    num = ((averagemz % calculate_average_atomic_mass('CH2')) % calculate_average_atomic_mass('H2')) % (calculate_average_atomic_mass('H14') % calculate_average_atomic_mass('CH2')) \n",
    "    return num"
   ]
  },
  {
   "cell_type": "code",
   "execution_count": 4,
   "metadata": {},
   "outputs": [],
   "source": [
    "def create_pred_class(row):\n",
    "    classes = [f\"{col}:{round(value, 3)}\" for col, value in sorted(row.items(), key=lambda x: x[1], reverse=True) if value >= 0.01] #1%\n",
    "    return ','.join(classes)\n",
    "\n",
    "def check_ontology_in_pred_class(row):\n",
    "    ontology = row['Ontology']\n",
    "    predclass = row['predclass']\n",
    "    return ontology in predclass\n",
    "\n",
    "def cal_accscore(df, loaded_model, number_to_class):\n",
    "\n",
    "    X1_test = df.drop(columns=columns_to_drop).values\n",
    "\n",
    "    y_pred_test = loaded_model.predict_proba(X1_test)\n",
    "    df_predres = pd.DataFrame(y_pred_test).rename(columns=number_to_class)\n",
    "    df_predres['pred1st'] = df_predres.idxmax(axis=1)\n",
    "    df_predres['predclass'] = df_predres.drop('pred1st', axis=1).apply(create_pred_class, axis=1)\n",
    "    df_predres['prednumber'] = df_predres['predclass'].apply(lambda x: len(x.split(',')))\n",
    "\n",
    "    df_result = df_predres[['pred1st', 'predclass', 'prednumber']]\n",
    "\n",
    "    return df_result"
   ]
  },
  {
   "cell_type": "markdown",
   "metadata": {},
   "source": [
    "pos"
   ]
  },
  {
   "cell_type": "code",
   "execution_count": 15,
   "metadata": {},
   "outputs": [
    {
     "name": "stderr",
     "output_type": "stream",
     "text": [
      "/tmp/ipykernel_2337193/125874544.py:1: DtypeWarning: Columns (1) have mixed types. Specify dtype option on import or set low_memory=False.\n",
      "  df_pos = pd.read_csv('../../data/HCdata/df_HCtable_pos.csv')\n"
     ]
    }
   ],
   "source": [
    "df_pos = pd.read_csv('../../data/HCdata/df_HCtable_pos.csv')\n",
    "df_pos['MCHvalue'] = cal_mod(df_pos['AverageMz'])\n",
    "\n",
    "loaded_model_pos = joblib.load('../../data/model_comp/pos_pred_result/best_xgb_model_random_pos.joblib')\n",
    "label_encoder_pos = joblib.load('../../data/model_comp/pos_pred_result/label_encoder_pos_random.pkl')\n",
    "number_to_class_pos = {index: label for index, label in enumerate(label_encoder_pos.classes_)}\n",
    "df_feature_pos = pd.read_csv('../../data/model_comp/pos_pred_result/df_feature_pos.csv')\n",
    "\n",
    "columns_to_drop = ['Metabolitename', 'Ontology', 'dataset', 'AlignmentID', 'AverageMz']\n",
    "df_pos2 = df_pos.set_index(columns_to_drop)[df_feature_pos.feature].reset_index()"
   ]
  },
  {
   "cell_type": "code",
   "execution_count": 6,
   "metadata": {},
   "outputs": [],
   "source": [
    "df_pos_pred = cal_accscore(df_pos2, loaded_model_pos, number_to_class_pos)\n",
    "df_pos_result = df_pos_pred.merge(df_pos2[columns_to_drop], left_index=True, right_index=True)\n",
    "df_pos_result.to_csv('../../data/HCdata/df_pos_pred_res.csv', index=False)\n",
    "df_pos_result[~df_pos_result['Metabolitename'].str.contains('low score:')].to_csv('../../data/HCdata/df_pos_pred_class.csv', index=False)"
   ]
  },
  {
   "cell_type": "code",
   "execution_count": 35,
   "metadata": {},
   "outputs": [
    {
     "name": "stdout",
     "output_type": "stream",
     "text": [
      "common anotation: correct 65.42%, candidates: 86.87%\n"
     ]
    }
   ],
   "source": [
    "df_pos_result_con = df_pos_result[df_pos_result['Ontology'].isin(label_encoder_pos.classes_.tolist()) & \n",
    "                            ~df_pos_result['Metabolitename'].str.contains('low score:')]\n",
    "value_pred1st = (df_pos_result_con[df_pos_result_con['pred1st'] == df_pos_result_con['Ontology']].shape[0] / df_pos_result_con.shape[0])*100\n",
    "value_predclass = (df_pos_result_con.apply(check_ontology_in_pred_class, axis=1).sum() / df_pos_result_con.shape[0])*100\n",
    "\n",
    "print(f'common anotation: correct {value_pred1st:.2f}%, candidates: {value_predclass:.2f}%')"
   ]
  },
  {
   "cell_type": "markdown",
   "metadata": {},
   "source": [
    "neg"
   ]
  },
  {
   "cell_type": "code",
   "execution_count": 10,
   "metadata": {},
   "outputs": [
    {
     "name": "stderr",
     "output_type": "stream",
     "text": [
      "/tmp/ipykernel_2337193/278429093.py:1: DtypeWarning: Columns (1) have mixed types. Specify dtype option on import or set low_memory=False.\n",
      "  df_neg = pd.read_csv('../../data/HCdata/df_HCtable_neg.csv')\n"
     ]
    }
   ],
   "source": [
    "df_neg = pd.read_csv('../../data/HCdata/df_HCtable_neg.csv')\n",
    "df_neg['MCHvalue'] = cal_mod(df_neg['AverageMz'])\n",
    "\n",
    "loaded_model_neg = joblib.load('../../data/model_comp/neg_pred_result/best_xgb_model_random_neg.joblib')\n",
    "label_encoder_neg = joblib.load('../../data/model_comp/neg_pred_result/label_encoder_neg_random.pkl')\n",
    "number_to_class_neg = {index: label for index, label in enumerate(label_encoder_neg.classes_)}\n",
    "df_feature_neg = pd.read_csv('../../data/model_comp/neg_pred_result/df_feature_neg.csv')\n",
    "\n",
    "columns_to_drop = ['Metabolitename', 'Ontology', 'dataset', 'AlignmentID', 'AverageMz']\n",
    "df_neg2 = df_neg.set_index(columns_to_drop)[df_feature_neg.feature].reset_index()"
   ]
  },
  {
   "cell_type": "code",
   "execution_count": 14,
   "metadata": {},
   "outputs": [],
   "source": [
    "df_neg_pred = cal_accscore(df_neg2, loaded_model_neg, number_to_class_neg)\n",
    "df_neg_result = df_neg_pred.merge(df_neg2[columns_to_drop], left_index=True, right_index=True)\n",
    "df_neg_result.to_csv('../../data/HCdata/df_neg_pred_res.csv', index=False)\n",
    "df_neg_result[~df_neg_result['Metabolitename'].str.contains('low score:')].to_csv('../../data/HCdata/df_neg_pred_class.csv', index=False)"
   ]
  },
  {
   "cell_type": "code",
   "execution_count": 13,
   "metadata": {},
   "outputs": [
    {
     "name": "stdout",
     "output_type": "stream",
     "text": [
      "common anotation: correct 69.94%, candidates: 90.45%\n"
     ]
    }
   ],
   "source": [
    "df_neg_result_con = df_neg_result[df_neg_result['Ontology'].isin(label_encoder_neg.classes_.tolist()) & \n",
    "                            ~df_neg_result['Metabolitename'].str.contains('low score:')]\n",
    "value_pred1st = (df_neg_result_con[df_neg_result_con['pred1st'] == df_neg_result_con['Ontology']].shape[0] / df_neg_result_con.shape[0])*100\n",
    "value_predclass = (df_neg_result_con.apply(check_ontology_in_pred_class, axis=1).sum() / df_neg_result_con.shape[0])*100\n",
    "\n",
    "print(f'common anotation: correct {value_pred1st:.2f}%, candidates: {value_predclass:.2f}%')"
   ]
  }
 ],
 "metadata": {
  "kernelspec": {
   "display_name": "base",
   "language": "python",
   "name": "python3"
  },
  "language_info": {
   "codemirror_mode": {
    "name": "ipython",
    "version": 3
   },
   "file_extension": ".py",
   "mimetype": "text/x-python",
   "name": "python",
   "nbconvert_exporter": "python",
   "pygments_lexer": "ipython3",
   "version": "3.10.14"
  }
 },
 "nbformat": 4,
 "nbformat_minor": 2
}
