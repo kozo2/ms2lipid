{
 "cells": [
  {
   "cell_type": "code",
   "execution_count": 1,
   "id": "48c3f943-85e3-4a1e-8cdd-69b905dff111",
   "metadata": {},
   "outputs": [
    {
     "name": "stderr",
     "output_type": "stream",
     "text": [
      "2024-01-05 04:59:31.306233: I tensorflow/core/util/port.cc:113] oneDNN custom operations are on. You may see slightly different numerical results due to floating-point round-off errors from different computation orders. To turn them off, set the environment variable `TF_ENABLE_ONEDNN_OPTS=0`.\n",
      "2024-01-05 04:59:31.343761: E external/local_xla/xla/stream_executor/cuda/cuda_dnn.cc:9261] Unable to register cuDNN factory: Attempting to register factory for plugin cuDNN when one has already been registered\n",
      "2024-01-05 04:59:31.343796: E external/local_xla/xla/stream_executor/cuda/cuda_fft.cc:607] Unable to register cuFFT factory: Attempting to register factory for plugin cuFFT when one has already been registered\n",
      "2024-01-05 04:59:31.344820: E external/local_xla/xla/stream_executor/cuda/cuda_blas.cc:1515] Unable to register cuBLAS factory: Attempting to register factory for plugin cuBLAS when one has already been registered\n",
      "2024-01-05 04:59:31.351368: I tensorflow/core/platform/cpu_feature_guard.cc:182] This TensorFlow binary is optimized to use available CPU instructions in performance-critical operations.\n",
      "To enable the following instructions: AVX2 AVX512F AVX512_VNNI FMA, in other operations, rebuild TensorFlow with the appropriate compiler flags.\n",
      "2024-01-05 04:59:32.182917: W tensorflow/compiler/tf2tensorrt/utils/py_utils.cc:38] TF-TRT Warning: Could not find TensorRT\n"
     ]
    }
   ],
   "source": [
    "import pandas as pd\n",
    "import pickle\n",
    "import base\n",
    "import os"
   ]
  },
  {
   "cell_type": "code",
   "execution_count": 2,
   "id": "99a97a82",
   "metadata": {},
   "outputs": [],
   "source": [
    "SEED = 42\n",
    "base.fix_seed(SEED)\n",
    "\n",
    "desired_directory = '/home/jovyan/work/spectrum/'\n",
    "os.chdir(desired_directory)"
   ]
  },
  {
   "cell_type": "code",
   "execution_count": 3,
   "id": "5baa2371",
   "metadata": {},
   "outputs": [],
   "source": [
    "df_neg = pd.read_csv('Data/05_rikenlipidomics/neg/df_rikenripidomics_neg.csv')\n",
    "\n",
    "df_neg['dataset'] = df_neg['dataset'].str.replace('data/', '', regex=False)\n",
    "df_neg['div2'] = df_neg['AverageMz'].round().astype(int) % 2\n",
    "df_neg['modnum'] = base.cal_mod(df_neg['AverageMz'])\n",
    "\n",
    "df_neg_data2 = pd.read_csv('Data/02_basedata/neg/neg2.csv')\n",
    "df_neg2 = df_neg[df_neg['Ontology'].isin(df_neg_data2.Ontology.unique().tolist())]"
   ]
  },
  {
   "cell_type": "code",
   "execution_count": 4,
   "id": "b802f4af-c467-47aa-bbe2-e54501fb3dfd",
   "metadata": {},
   "outputs": [],
   "source": [
    "from keras.models import load_model\n",
    "loaded_negmodel = load_model(\"Data/03_model/neg/neg_class_model_3\")\n",
    "    \n",
    "with open('Data/03_model/neg/negmodelcolumn_all.pkl', 'rb') as file:\n",
    "    loaded_negcolumns = pickle.load(file)\n",
    "        \n",
    "with open('Data/03_model/neg/neg_replacement_dict_all.pkl', 'rb') as file:\n",
    "    replacement_dict = pickle.load(file)"
   ]
  },
  {
   "cell_type": "markdown",
   "id": "ffd2c1f6-176a-48b2-ba85-93978d6c2464",
   "metadata": {},
   "source": [
    "様々な条件のデータセットに適用"
   ]
  },
  {
   "cell_type": "code",
   "execution_count": 7,
   "id": "845959f9-07be-442b-9c9b-d65cef6f5c12",
   "metadata": {},
   "outputs": [
    {
     "name": "stdout",
     "output_type": "stream",
     "text": [
      "Negative ion mode: test Accuracy\n",
      "----\n",
      "117/117 [==============================] - 1s 5ms/step\n",
      "Different curator - 1st pred : 3065\n",
      "Different curator - candidate : 3226\n",
      "total: 3743\n",
      "----\n",
      "89/89 [==============================] - 0s 5ms/step\n",
      "Sciex 5600 - 1st pred : 2360\n",
      "Sciex 5600 - candidate : 2457\n",
      "total: 2847\n",
      "----\n",
      "18/18 [==============================] - 0s 4ms/step\n",
      "Different company total - 1st pred : 459\n",
      "Different company total - candidate : 524\n",
      "total: 569\n",
      "----\n",
      "2/2 [==============================] - 0s 5ms/step\n",
      "Waters - 1st pred : 19\n",
      "Waters - candidate : 31\n",
      "total: 36\n",
      "----\n",
      "4/4 [==============================] - 0s 4ms/step\n",
      "Thermo - 1st pred : 91\n",
      "Thermo - candidate : 94\n",
      "total: 97\n",
      "----\n",
      "8/8 [==============================] - 0s 4ms/step\n",
      "Agilent - 1st pred : 193\n",
      "Agilent - candidate : 230\n",
      "total: 254\n",
      "----\n",
      "6/6 [==============================] - 0s 4ms/step\n",
      "Bruker - 1st pred : 156\n",
      "Bruker - candidate : 169\n",
      "total: 182\n",
      "----\n",
      "3/3 [==============================] - 0s 4ms/step\n",
      "Sciex 6600-SWATH - 1st pred : 60\n",
      "Sciex 6600-SWATH - candidate : 65\n",
      "total: 70\n",
      "----\n"
     ]
    }
   ],
   "source": [
    "#id1から11までのデータ（キュレーター違い）\n",
    "dataset_fromid1to11 = df_neg2[df_neg2['id'].between(1, 11)][['dataset','id']].drop_duplicates()['dataset'].tolist()\n",
    "df_neg_data_sel1 = df_neg2[df_neg2['dataset'].isin(dataset_fromid1to11)]\n",
    "print('Negative ion mode: test Accuracy')\n",
    "print('----')\n",
    "pred1st1, predcandidate1, num1 = base.cal_accscore(df_neg_data_sel1,replacement_dict, loaded_negcolumns, loaded_negmodel)\n",
    "print('Different curator - 1st pred :', pred1st1)\n",
    "print('Different curator - candidate :', predcandidate1)\n",
    "print('total:', num1)\n",
    "print('----')\n",
    "\n",
    "#id18から28までのデータ（装置のバージョン違い）\n",
    "dataset_fromid18to28 = df_neg2[df_neg2['id'].between(18, 28)][['dataset','id']].drop_duplicates()['dataset'].tolist()\n",
    "df_neg_data_sel2 = df_neg2[df_neg2['dataset'].isin(dataset_fromid18to28)]\n",
    "pred1st2, predcandidate2, num2 = base.cal_accscore(df_neg_data_sel2,replacement_dict, loaded_negcolumns, loaded_negmodel)\n",
    "print('Sciex 5600 - 1st pred :', pred1st2)\n",
    "print('Sciex 5600 - candidate :', predcandidate2)\n",
    "print('total:', num2)\n",
    "print('----')\n",
    "\n",
    "#id78-80,83,84のデータ（装置の会社違い）\n",
    "dataset_fromidaround80 = df_neg2[df_neg2['id'].isin([78,79,80,83,84])][['dataset','id']].drop_duplicates()['dataset'].tolist()\n",
    "df_neg_data_sel3 = df_neg2[df_neg2['dataset'].isin(dataset_fromidaround80)]\n",
    "pred1st3, predcandidate3, num3 = base.cal_accscore(df_neg_data_sel3,replacement_dict, loaded_negcolumns, loaded_negmodel)\n",
    "print('Different company total - 1st pred :', pred1st3)\n",
    "print('Different company total - candidate :', predcandidate3)\n",
    "print('total:', num3)\n",
    "print('----')\n",
    "\n",
    "#Waters\n",
    "dataset_fromWaters = df_neg2[df_neg2['id'].isin([78])][['dataset','id']].drop_duplicates()['dataset'].tolist()\n",
    "df_neg_data_sel4 = df_neg2[df_neg2['dataset'].isin(dataset_fromWaters)]\n",
    "pred1st4, predcandidate4, num4 = base.cal_accscore(df_neg_data_sel4,replacement_dict, loaded_negcolumns, loaded_negmodel)\n",
    "print('Waters - 1st pred :', pred1st4)\n",
    "print('Waters - candidate :', predcandidate4)\n",
    "print('total:', num4)\n",
    "print('----')\n",
    "\n",
    "#Thermo\n",
    "dataset_fromThermo = df_neg2[df_neg2['id'].isin([79])][['dataset','id']].drop_duplicates()['dataset'].tolist()\n",
    "df_neg_data_sel5 = df_neg2[df_neg2['dataset'].isin(dataset_fromThermo)]\n",
    "pred1st5, predcandidate5, num5 = base.cal_accscore(df_neg_data_sel5,replacement_dict, loaded_negcolumns, loaded_negmodel)\n",
    "print('Thermo - 1st pred :', pred1st5)\n",
    "print('Thermo - candidate :', predcandidate5)\n",
    "print('total:', num5)\n",
    "print('----')\n",
    "\n",
    "#Agilent\n",
    "dataset_fromAgilent = df_neg2[df_neg2['id'].isin([80])][['dataset','id']].drop_duplicates()['dataset'].tolist()\n",
    "df_neg_data_sel6 = df_neg2[df_neg2['dataset'].isin(dataset_fromAgilent)]\n",
    "pred1st6, predcandidate6, num6 = base.cal_accscore(df_neg_data_sel6,replacement_dict, loaded_negcolumns, loaded_negmodel)\n",
    "print('Agilent - 1st pred :', pred1st6)\n",
    "print('Agilent - candidate :', predcandidate6)\n",
    "print('total:', num6)\n",
    "print('----')\n",
    "\n",
    "\n",
    "#Bruker\n",
    "dataset_fromBruker = df_neg2[df_neg2['id'].isin([83,84])][['dataset','id']].drop_duplicates()['dataset'].tolist()\n",
    "df_neg_data_sel7 = df_neg2[df_neg2['dataset'].isin(dataset_fromBruker)]\n",
    "pred1st7, predcandidate7, num7 = base.cal_accscore(df_neg_data_sel7,replacement_dict, loaded_negcolumns, loaded_negmodel)\n",
    "print('Bruker - 1st pred :', pred1st7)\n",
    "print('Bruker - candidate :', predcandidate7)\n",
    "print('total:', num7)\n",
    "print('----')\n",
    "\n",
    "\n",
    "#Sciex 6600-SWATH\n",
    "dataset_fromSWATH = df_neg2[df_neg2['id'].isin([81])][['dataset','id']].drop_duplicates()['dataset'].tolist()\n",
    "df_neg_data_sel8 = df_neg2[df_neg2['dataset'].isin(dataset_fromSWATH)]\n",
    "pred1st8, predcandidate8, num8 = base.cal_accscore(df_neg_data_sel8,replacement_dict, loaded_negcolumns, loaded_negmodel)\n",
    "print('Sciex 6600-SWATH - 1st pred :', pred1st8)\n",
    "print('Sciex 6600-SWATH - candidate :', predcandidate8)\n",
    "print('total:', num8)\n",
    "print('----')\n"
   ]
  },
  {
   "cell_type": "code",
   "execution_count": 8,
   "id": "03085193-3c72-4fe8-b92a-972f36db9e5f",
   "metadata": {},
   "outputs": [],
   "source": [
    "df_model_result = pd.read_csv('Data/03_model/neg/df_neg_model_pred_result.csv').rename(columns={'Unnamed: 0':'name', '0':'value'})"
   ]
  },
  {
   "cell_type": "code",
   "execution_count": 9,
   "id": "c14005db-f855-47b7-b367-1d4b8e5cb3c6",
   "metadata": {},
   "outputs": [],
   "source": [
    "data = [\n",
    "        ['Different curator(Sciex TripleTOF 6600)', len(df_neg_data_sel1), pred1st1, predcandidate1-pred1st1],\n",
    "        ['Different version(Sciex TripleTOF 5600+)', len(df_neg_data_sel2), pred1st2, predcandidate2-pred1st2],\n",
    "        ['Different marchine(total)', len(df_neg_data_sel3), pred1st3, predcandidate3-pred1st3],\n",
    "        ['Waters XevoG2 QTOF', len(df_neg_data_sel4), pred1st4, predcandidate4-pred1st4],\n",
    "        ['Thermo Q Exactive Plus', len(df_neg_data_sel5), pred1st5, predcandidate5-pred1st5],\n",
    "        ['Agilent 6546 QTOF', len(df_neg_data_sel6), pred1st6, predcandidate6-pred1st6],\n",
    "        ['Bruker timsTOF Pro', len(df_neg_data_sel7), pred1st7, predcandidate7-pred1st7],\n",
    "        ['Sciex TripleTOF 6600(SWATH)', len(df_neg_data_sel8), pred1st8, predcandidate8-pred1st8]]\n",
    "\n",
    "df_predresult = pd.DataFrame(data, columns=['Name', 'Sample number', '1st pred', 'Candidate'])\n",
    "df_predresult['Non predict'] = df_predresult['Sample number']-(df_predresult['1st pred']+df_predresult['Candidate'])"
   ]
  },
  {
   "cell_type": "code",
   "execution_count": 23,
   "id": "743e2dae",
   "metadata": {},
   "outputs": [],
   "source": [
    "df_predresult.to_csv('Data/03_model/neg/df_neg_model_pred_result.csv', index=False)"
   ]
  }
 ],
 "metadata": {
  "kernelspec": {
   "display_name": "Python 3 (ipykernel)",
   "language": "python",
   "name": "python3"
  },
  "language_info": {
   "codemirror_mode": {
    "name": "ipython",
    "version": 3
   },
   "file_extension": ".py",
   "mimetype": "text/x-python",
   "name": "python",
   "nbconvert_exporter": "python",
   "pygments_lexer": "ipython3",
   "version": "3.11.6"
  }
 },
 "nbformat": 4,
 "nbformat_minor": 5
}
