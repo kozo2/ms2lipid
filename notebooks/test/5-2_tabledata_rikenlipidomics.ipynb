{
 "cells": [
  {
   "cell_type": "code",
   "execution_count": 1,
   "metadata": {},
   "outputs": [
    {
     "name": "stdout",
     "output_type": "stream",
     "text": [
      "/home/jovyan/work/spectrum/c_final/v1\n"
     ]
    }
   ],
   "source": [
    "%cd .."
   ]
  },
  {
   "cell_type": "code",
   "execution_count": 2,
   "metadata": {},
   "outputs": [
    {
     "name": "stderr",
     "output_type": "stream",
     "text": [
      "2024-02-27 09:42:27.607265: I tensorflow/core/util/port.cc:113] oneDNN custom operations are on. You may see slightly different numerical results due to floating-point round-off errors from different computation orders. To turn them off, set the environment variable `TF_ENABLE_ONEDNN_OPTS=0`.\n",
      "2024-02-27 09:42:27.642146: E external/local_xla/xla/stream_executor/cuda/cuda_dnn.cc:9261] Unable to register cuDNN factory: Attempting to register factory for plugin cuDNN when one has already been registered\n",
      "2024-02-27 09:42:27.642185: E external/local_xla/xla/stream_executor/cuda/cuda_fft.cc:607] Unable to register cuFFT factory: Attempting to register factory for plugin cuFFT when one has already been registered\n",
      "2024-02-27 09:42:27.643035: E external/local_xla/xla/stream_executor/cuda/cuda_blas.cc:1515] Unable to register cuBLAS factory: Attempting to register factory for plugin cuBLAS when one has already been registered\n",
      "2024-02-27 09:42:27.648728: I tensorflow/core/platform/cpu_feature_guard.cc:182] This TensorFlow binary is optimized to use available CPU instructions in performance-critical operations.\n",
      "To enable the following instructions: AVX2 AVX512F AVX512_VNNI FMA, in other operations, rebuild TensorFlow with the appropriate compiler flags.\n",
      "2024-02-27 09:42:28.431583: W tensorflow/compiler/tf2tensorrt/utils/py_utils.cc:38] TF-TRT Warning: Could not find TensorRT\n"
     ]
    }
   ],
   "source": [
    "import pandas as pd\n",
    "import base\n",
    "import os"
   ]
  },
  {
   "cell_type": "code",
   "execution_count": 2,
   "metadata": {},
   "outputs": [],
   "source": [
    "SEED = 42\n",
    "base.fix_seed(SEED)\n",
    "\n",
    "desired_directory = '/home/jovyan/work/spectrum/'\n",
    "os.chdir(desired_directory)"
   ]
  },
  {
   "cell_type": "code",
   "execution_count": 65,
   "metadata": {},
   "outputs": [],
   "source": [
    "df = base.import_sqlite3_data('Data/01_sqlite_data/ms2_rikentest2.db')\n",
    "df['dataset'] = df['dataset'].str.replace('data/', '', regex=False)"
   ]
  },
  {
   "cell_type": "code",
   "execution_count": 67,
   "metadata": {},
   "outputs": [
    {
     "name": "stderr",
     "output_type": "stream",
     "text": [
      "/tmp/ipykernel_11811/2320284797.py:12: SettingWithCopyWarning: \n",
      "A value is trying to be set on a copy of a slice from a DataFrame.\n",
      "Try using .loc[row_indexer,col_indexer] = value instead\n",
      "\n",
      "See the caveats in the documentation: https://pandas.pydata.org/pandas-docs/stable/user_guide/indexing.html#returning-a-view-versus-a-copy\n",
      "  df['Comment'] = df['Comment'].fillna('NC')\n"
     ]
    }
   ],
   "source": [
    "df['id'] = df['dataset'].apply(base.get_fileid).astype('float')\n",
    "df = df[~df['Ontology'].str.contains('IS \\(')]\n",
    "\n",
    "df['Comment'] = df['Comment'].fillna('NC')\n",
    "df = df[~(df['Comment'].str.contains('IS \\(') | df['Comment'].str.contains('d') | df['Comment'].str.contains('two peaks'))]"
   ]
  },
  {
   "cell_type": "code",
   "execution_count": 70,
   "metadata": {},
   "outputs": [
    {
     "name": "stdout",
     "output_type": "stream",
     "text": [
      "18834 18834 9501 9333\n"
     ]
    }
   ],
   "source": [
    "#データをneg / posに分割\n",
    "df_pos = df[df['Adducttype'].str.contains('\\]\\+')  |  df['Adducttype'].str.contains('\\]2\\+')]\n",
    "df_neg = df[df['Adducttype'].str.contains('\\]\\-')]\n",
    "print(len(df), len(df_pos)+len(df_neg), len(df_neg), len(df_pos))"
   ]
  },
  {
   "cell_type": "code",
   "execution_count": 92,
   "metadata": {},
   "outputs": [],
   "source": [
    "df_neg_exp_ = base.spectrum_tidy_rl(df_neg)\n",
    "df_neg_neuloss_ = base.neutralloss_tidy_rl(df_neg)\n",
    "df_neg_data = base.spectrum_neutralloss_table_rl(df_neg_exp_, df_neg_neuloss_)    \n",
    "df_neg_data['Ontology'] = df_neg_data['Ontology'].str.replace(r'-', '_')"
   ]
  },
  {
   "cell_type": "code",
   "execution_count": 94,
   "metadata": {},
   "outputs": [],
   "source": [
    "df_pos = df_pos[~df_pos['MSMSspectrum'].isna()]"
   ]
  },
  {
   "cell_type": "code",
   "execution_count": 95,
   "metadata": {},
   "outputs": [],
   "source": [
    "df_pos_exp_ = base.spectrum_tidy_rl(df_pos)\n",
    "df_pos_neuloss_ = base.neutralloss_tidy_rl(df_pos)\n",
    "df_pos_data = base.spectrum_neutralloss_table_rl(df_pos_exp_, df_pos_neuloss_)    \n",
    "df_pos_data['Ontology'] = df_pos_data['Ontology'].str.replace(r'-', '_')"
   ]
  },
  {
   "cell_type": "code",
   "execution_count": 96,
   "metadata": {},
   "outputs": [],
   "source": [
    "df_pos_data.to_csv('data/05_rikenlipidomics/pos/df_rikenripidomics_pos.csv', index=False) \n",
    "df_neg_data.to_csv('data/05_rikenlipidomics/neg/df_rikenripidomics_neg.csv', index=False)"
   ]
  }
 ],
 "metadata": {
  "kernelspec": {
   "display_name": "Python 3 (ipykernel)",
   "language": "python",
   "name": "python3"
  },
  "language_info": {
   "codemirror_mode": {
    "name": "ipython",
    "version": 3
   },
   "file_extension": ".py",
   "mimetype": "text/x-python",
   "name": "python",
   "nbconvert_exporter": "python",
   "pygments_lexer": "ipython3",
   "version": "3.11.6"
  }
 },
 "nbformat": 4,
 "nbformat_minor": 4
}
