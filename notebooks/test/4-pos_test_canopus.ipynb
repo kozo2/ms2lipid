{
 "cells": [
  {
   "cell_type": "code",
   "execution_count": 1,
   "id": "f1c5859d",
   "metadata": {},
   "outputs": [
    {
     "name": "stdout",
     "output_type": "stream",
     "text": [
      "/home/jovyan/work/spectrum/c_final/v1\n"
     ]
    }
   ],
   "source": [
    "%cd .."
   ]
  },
  {
   "cell_type": "code",
   "execution_count": 2,
   "id": "50ae3848-8f64-492b-aa05-920260a9d854",
   "metadata": {},
   "outputs": [
    {
     "name": "stderr",
     "output_type": "stream",
     "text": [
      "2024-02-27 09:35:07.652503: I tensorflow/core/util/port.cc:113] oneDNN custom operations are on. You may see slightly different numerical results due to floating-point round-off errors from different computation orders. To turn them off, set the environment variable `TF_ENABLE_ONEDNN_OPTS=0`.\n",
      "2024-02-27 09:35:07.688165: E external/local_xla/xla/stream_executor/cuda/cuda_dnn.cc:9261] Unable to register cuDNN factory: Attempting to register factory for plugin cuDNN when one has already been registered\n",
      "2024-02-27 09:35:07.688194: E external/local_xla/xla/stream_executor/cuda/cuda_fft.cc:607] Unable to register cuFFT factory: Attempting to register factory for plugin cuFFT when one has already been registered\n",
      "2024-02-27 09:35:07.689038: E external/local_xla/xla/stream_executor/cuda/cuda_blas.cc:1515] Unable to register cuBLAS factory: Attempting to register factory for plugin cuBLAS when one has already been registered\n",
      "2024-02-27 09:35:07.695012: I tensorflow/core/platform/cpu_feature_guard.cc:182] This TensorFlow binary is optimized to use available CPU instructions in performance-critical operations.\n",
      "To enable the following instructions: AVX2 AVX512F AVX512_VNNI FMA, in other operations, rebuild TensorFlow with the appropriate compiler flags.\n",
      "2024-02-27 09:35:08.500893: W tensorflow/compiler/tf2tensorrt/utils/py_utils.cc:38] TF-TRT Warning: Could not find TensorRT\n"
     ]
    }
   ],
   "source": [
    "import pandas as pd\n",
    "import base\n",
    "import os\n",
    "import re"
   ]
  },
  {
   "cell_type": "code",
   "execution_count": 3,
   "id": "f374fb47",
   "metadata": {},
   "outputs": [],
   "source": [
    "SEED = 42\n",
    "base.fix_seed(SEED)\n",
    "\n",
    "desired_directory = '/home/jovyan/work/spectrum/'\n",
    "os.chdir(desired_directory)"
   ]
  },
  {
   "cell_type": "code",
   "execution_count": 4,
   "id": "758a2245-7a54-409d-b710-202ca0f8dc6c",
   "metadata": {
    "scrolled": true
   },
   "outputs": [],
   "source": [
    "df_pos_ok_data2 =  pd.read_csv('Data/02_basedata/pos/pos2.csv')"
   ]
  },
  {
   "cell_type": "code",
   "execution_count": 5,
   "id": "d30a6415-9bda-47eb-8251-6475febd0106",
   "metadata": {},
   "outputs": [],
   "source": [
    "df = pd.read_csv('Data/02_basedata/df.csv')\n",
    "df_pos = df[df['Adducttype'].str.contains('\\]\\+') | df['Adducttype'].str.contains('\\]2\\+')].drop('Unnamed: 0', axis=1)\n",
    "df_pos_select = df_pos.merge(df_pos_ok_data2[['Metabolitename', 'dataset', 'AlignmentID']].reset_index().rename(columns={'index':'index_ID'}),\n",
    "                             on=['Metabolitename', 'dataset', 'AlignmentID'])"
   ]
  },
  {
   "cell_type": "markdown",
   "id": "f5dd8b71-630a-4a11-97ef-4b039febe279",
   "metadata": {},
   "source": [
    "\".ms\" fileの作成"
   ]
  },
  {
   "cell_type": "code",
   "execution_count": 118,
   "id": "f844543c-a2a4-4679-b570-ac9e9f4fc844",
   "metadata": {},
   "outputs": [],
   "source": [
    "invalid_chars = r'[\\\\/:*?\"<>|]'\n",
    "\n",
    "for i in range(len(df_pos_select)):\n",
    "    compound = df_pos_select['Metabolitename'][i]\n",
    "    formula = df_pos_select['Formula'][i]\n",
    "    parentmass = df_pos_select['AverageMz'][i]\n",
    "    ionization = df_pos_select['Adducttype'][i]\n",
    "    \n",
    "    ms2_data = df_pos_select['MSMSspectrum'][i]\n",
    "    elements = ms2_data.split()  \n",
    "    id = df_pos_select.index.tolist()[i]\n",
    "    \n",
    "    metabolite = re.sub(invalid_chars, '_', df_pos_select['Metabolitename'][i])\n",
    "    ontology = re.sub(invalid_chars, '_', df_pos_select['Ontology'][i])\n",
    "    name_ont = f\"{id}_{metabolite}_{ontology}\"\n",
    "\n",
    "    ms2_split_data = []\n",
    "    for element in elements:\n",
    "        parts = element.split(':')\n",
    "        ms2_split_data.append(f\"{parts[0]} {parts[1]}\")\n",
    "\n",
    "    output_file = f\"Data/04_canopus/pos/ms2_spectrum_ms_pos3/{name_ont}.ms\"\n",
    "    with open(output_file, 'w', newline='') as file:\n",
    "        file.write(f\">compound {metabolite}_{ontology}\\n\")\n",
    "        file.write(f\">formula {formula}\\n\")\n",
    "        file.write(f\">parentmass {parentmass}\\n\")\n",
    "        file.write(f\">ionization {ionization}\\n\")\n",
    "        \n",
    "        file.write(\">ms2\\n\")\n",
    "        file.write('\\n'.join(ms2_split_data)) "
   ]
  },
  {
   "cell_type": "code",
   "execution_count": 119,
   "id": "30457c6c-a727-4265-a517-6f0f2295980b",
   "metadata": {},
   "outputs": [],
   "source": [
    "import zipfile\n",
    "import os\n",
    "import re\n",
    "\n",
    "folder_path = 'Data/04_canopus/pos/ms2_spectrum_ms_pos3'\n",
    "zip_filename = 'Data/04_canopus/pos/ms2_spectrum_ms_pos3.zip'\n",
    "\n",
    "with zipfile.ZipFile(zip_filename, 'w') as zipf:\n",
    "    for foldername, subfolders, filenames in os.walk(folder_path):\n",
    "        for filename in filenames:\n",
    "            if filename.endswith('.ms'):\n",
    "                file_path = os.path.join(foldername, filename)\n",
    "                arcname = os.path.relpath(file_path, folder_path)\n",
    "                zipf.write(file_path, arcname)"
   ]
  },
  {
   "cell_type": "markdown",
   "id": "47454126-52c4-48a2-92e7-15b87404649e",
   "metadata": {},
   "source": [
    "#### 読み込めた数:8400/8451"
   ]
  },
  {
   "cell_type": "markdown",
   "id": "bf4accc3-1d8c-4449-bc26-b2159e9e5fb5",
   "metadata": {},
   "source": [
    "canopus resultの読み込み"
   ]
  },
  {
   "cell_type": "code",
   "execution_count": 7,
   "id": "54b47c9d-f1ba-4d6a-98a7-1ad90c119f9c",
   "metadata": {
    "scrolled": true
   },
   "outputs": [
    {
     "name": "stderr",
     "output_type": "stream",
     "text": [
      "/tmp/ipykernel_4143220/2445995084.py:4: SettingWithCopyWarning: \n",
      "A value is trying to be set on a copy of a slice from a DataFrame.\n",
      "Try using .loc[row_indexer,col_indexer] = value instead\n",
      "\n",
      "See the caveats in the documentation: https://pandas.pydata.org/pandas-docs/stable/user_guide/indexing.html#returning-a-view-versus-a-copy\n",
      "  df_canopus_['index_id'] = df_canopus_['index_id'].astype(int)\n"
     ]
    }
   ],
   "source": [
    "df_canopus = pd.read_csv('Data/04_canopus/pos/canopus_compound_summary_pos2.tsv', sep=\"\\t\")\n",
    "df_canopus['index_id'] = df_canopus['id'].apply(lambda x: x.split(\"_\")[1])\n",
    "df_canopus_ = df_canopus[['id','ClassyFire#subclass','ClassyFire#level 5','index_id']]\n",
    "df_canopus_['index_id'] = df_canopus_['index_id'].astype(int)"
   ]
  },
  {
   "cell_type": "markdown",
   "id": "829fdbd4-d69c-400c-ac66-4f79cbb5549e",
   "metadata": {},
   "source": [
    "使うサブクラスの選択"
   ]
  },
  {
   "cell_type": "code",
   "execution_count": 9,
   "id": "06c2a487",
   "metadata": {},
   "outputs": [],
   "source": [
    "select_ont = pd.read_csv('Data/04_canopus/pos/subclass_ont_select_pos.csv')"
   ]
  },
  {
   "cell_type": "code",
   "execution_count": 10,
   "id": "a3458f9a-97b9-4213-81b6-8fb5822addd6",
   "metadata": {},
   "outputs": [],
   "source": [
    "df_ytest = pd.read_csv('Data/04_canopus/pos/df_pos_ytest.csv').rename(columns={'Unnamed: 0':'index_ID'})\n",
    "df_ytest = df_ytest[df_ytest['Ontology'].isin(select_ont.Ontology.tolist())].merge(select_ont, how='left', on='Ontology')"
   ]
  },
  {
   "cell_type": "code",
   "execution_count": 12,
   "id": "e7b7d394",
   "metadata": {},
   "outputs": [],
   "source": [
    "df_pos_select2 = df_pos_select.reset_index()[['index','index_ID']].rename(columns={'index':'index_id'}).astype(int)\n",
    "df_model_canopus = df_pos_select2.merge(df_ytest, how='right', on='index_ID').merge(df_canopus_, how='left', on='index_id').\\\n",
    "drop(columns='index_id').sort_values('index_ID')"
   ]
  },
  {
   "cell_type": "markdown",
   "id": "d5661560-8255-48f7-b00b-87ee3aa68b97",
   "metadata": {},
   "source": [
    "サブクラスごとの正答数を整理"
   ]
  },
  {
   "cell_type": "code",
   "execution_count": 14,
   "id": "9c1c3b6f",
   "metadata": {},
   "outputs": [],
   "source": [
    "subclasslist = ['Monoradylglycerols',\n",
    " 'Ceramides',\n",
    " 'Diradylglycerols',\n",
    " 'Glycerophosphocholines',\n",
    " 'Triradylglycerols',\n",
    " 'Phosphosphingolipids',\n",
    " 'Glycosphingolipids',\n",
    " 'Glycerophosphoethanolamines',\n",
    " 'Glycerophosphoglycerols']\n",
    "\n",
    "df_pos_cano_class_pred = pd.DataFrame(columns=['Subclass','total', 'canopus_export','canopus_corpred', 'canopus_midpred'])\n",
    "\n",
    "for i in subclasslist:\n",
    "    df_model_canopus_i = df_model_canopus[df_model_canopus['subclass'] == i]\n",
    "    export_number = len(df_model_canopus_i) - len(df_model_canopus_i[df_model_canopus_i['ClassyFire#subclass'].isna()])\n",
    "    correct_predictions = len(df_model_canopus_i[df_model_canopus_i['subclass'] == df_model_canopus_i['ClassyFire#subclass']])\n",
    "    mispred_number = export_number - correct_predictions\n",
    "    total_samples = len(df_model_canopus_i)\n",
    "\n",
    "    new_row = {'Subclass': i,\n",
    "               'total':total_samples,\n",
    "               'canopus_export': export_number,\n",
    "               'canopus_corpred': correct_predictions,\n",
    "               'canopus_midpred': mispred_number}\n",
    "    \n",
    "    df_pos_cano_class_pred = pd.concat([df_pos_cano_class_pred, pd.DataFrame([new_row])], ignore_index=True)\n",
    "    \n",
    "df_pos_cano_class_pred.to_csv('Data/04_canopus/pos/df_pos_canopus_subclass_pred.csv', index=False)"
   ]
  },
  {
   "cell_type": "markdown",
   "id": "b4122539-439c-454f-b4ae-111383bd98a2",
   "metadata": {},
   "source": [
    "モデルの予測結果と並べる"
   ]
  },
  {
   "cell_type": "code",
   "execution_count": 15,
   "id": "861bcb8f-5050-4f36-9264-08473f9e1241",
   "metadata": {},
   "outputs": [],
   "source": [
    "df_pos_model_subclass_pred = pd.read_csv('Data/04_canopus/pos/df_pos_subclass_pred.csv')"
   ]
  },
  {
   "cell_type": "markdown",
   "id": "930b124d",
   "metadata": {},
   "source": [
    "Nanを消して、モデルと比較"
   ]
  },
  {
   "cell_type": "code",
   "execution_count": 21,
   "id": "ec74bdb8",
   "metadata": {},
   "outputs": [],
   "source": [
    "df_pos_model_subclass_pred_ont = pd.read_csv('Data/04_canopus/pos/df_pos_subclass_pred_ont.csv')"
   ]
  },
  {
   "cell_type": "code",
   "execution_count": 22,
   "id": "dfa70027",
   "metadata": {},
   "outputs": [],
   "source": [
    "df = df_model_canopus[['index_ID','Ontology','subclass','ClassyFire#subclass', 'id']].rename(columns={'ClassyFire#subclass':'canopus_pred'}).dropna(subset=['canopus_pred']).\\\n",
    "merge(df_pos_model_subclass_pred_ont[['index_ID','pred_subclass','pred_1class']].rename(columns={'pred_subclass':'model_pred'}), how='inner', on='index_ID').\\\n",
    "    drop(columns=['Ontology','id','pred_1class'])"
   ]
  },
  {
   "cell_type": "code",
   "execution_count": 23,
   "id": "a1f17ec8",
   "metadata": {},
   "outputs": [],
   "source": [
    "df_model_canopus[['index_ID','Ontology','subclass','ClassyFire#subclass', 'id']].rename(columns={'ClassyFire#subclass':'canopus_pred'}).dropna(subset=['id']).\\\n",
    "merge(df_pos_model_subclass_pred_ont[['index_ID','pred_subclass','pred_1class']].rename(columns={'pred_subclass':'model_pred'}), how='inner', on='index_ID').\\\n",
    "reset_index().rename(columns={'index':'index_id','pred_1class':'model_predclass'})[['index_id','Ontology','subclass','canopus_pred','model_pred','model_predclass']].to_csv('Data/04_canopus/pos/pos_canopus_model_pred_subclass.csv', index=False)"
   ]
  },
  {
   "cell_type": "code",
   "execution_count": 25,
   "id": "4a2926a2",
   "metadata": {},
   "outputs": [
    {
     "name": "stderr",
     "output_type": "stream",
     "text": [
      "/opt/conda/lib/python3.11/site-packages/sklearn/metrics/_classification.py:1469: UndefinedMetricWarning: Precision and F-score are ill-defined and being set to 0.0 in labels with no predicted samples. Use `zero_division` parameter to control this behavior.\n",
      "  _warn_prf(average, modifier, msg_start, len(result))\n",
      "/opt/conda/lib/python3.11/site-packages/sklearn/metrics/_classification.py:1469: UndefinedMetricWarning: Recall and F-score are ill-defined and being set to 0.0 in labels with no true samples. Use `zero_division` parameter to control this behavior.\n",
      "  _warn_prf(average, modifier, msg_start, len(result))\n",
      "/opt/conda/lib/python3.11/site-packages/sklearn/metrics/_classification.py:1469: UndefinedMetricWarning: Precision and F-score are ill-defined and being set to 0.0 in labels with no predicted samples. Use `zero_division` parameter to control this behavior.\n",
      "  _warn_prf(average, modifier, msg_start, len(result))\n",
      "/opt/conda/lib/python3.11/site-packages/sklearn/metrics/_classification.py:1469: UndefinedMetricWarning: Recall and F-score are ill-defined and being set to 0.0 in labels with no true samples. Use `zero_division` parameter to control this behavior.\n",
      "  _warn_prf(average, modifier, msg_start, len(result))\n",
      "/opt/conda/lib/python3.11/site-packages/sklearn/metrics/_classification.py:1469: UndefinedMetricWarning: Precision and F-score are ill-defined and being set to 0.0 in labels with no predicted samples. Use `zero_division` parameter to control this behavior.\n",
      "  _warn_prf(average, modifier, msg_start, len(result))\n",
      "/opt/conda/lib/python3.11/site-packages/sklearn/metrics/_classification.py:1469: UndefinedMetricWarning: Recall and F-score are ill-defined and being set to 0.0 in labels with no true samples. Use `zero_division` parameter to control this behavior.\n",
      "  _warn_prf(average, modifier, msg_start, len(result))\n"
     ]
    }
   ],
   "source": [
    "from sklearn.metrics import classification_report\n",
    "\n",
    "canopus_report = classification_report(df['subclass'], df['canopus_pred'], output_dict=True)\n",
    "model_report = classification_report(df['subclass'], df['model_pred'], output_dict=True)\n",
    "\n",
    "excel_file = 'Data/04_canopus/classification_reports_pos.xlsx'\n",
    "with pd.ExcelWriter(excel_file, engine='openpyxl') as writer:\n",
    "    pd.DataFrame(canopus_report).transpose().to_excel(writer, sheet_name='Canopus Report')\n",
    "    pd.DataFrame(model_report).transpose().to_excel(writer, sheet_name='Model Report')"
   ]
  },
  {
   "cell_type": "markdown",
   "id": "31e832b3",
   "metadata": {},
   "source": [
    "canopusで予測できなかったものを含めて描画"
   ]
  },
  {
   "cell_type": "code",
   "execution_count": 29,
   "id": "751e7853",
   "metadata": {},
   "outputs": [],
   "source": [
    "df = df_model_canopus[['index_ID','Ontology','subclass','ClassyFire#subclass', 'id']].rename(columns={'ClassyFire#subclass':'canopus_pred'}).\\\n",
    "merge(df_pos_model_subclass_pred_ont[['index_ID','pred_subclass','pred_1class']].rename(columns={'pred_subclass':'model_pred'}), how='inner', on='index_ID').\\\n",
    "    drop(columns=['Ontology','id','pred_1class'])"
   ]
  },
  {
   "cell_type": "code",
   "execution_count": 34,
   "id": "3fe3c6f8",
   "metadata": {},
   "outputs": [],
   "source": [
    "subclasslist = ['Monoradylglycerols',\n",
    " 'Ceramides',\n",
    " 'Diradylglycerols',\n",
    " #'Glycerophosphocholines',\n",
    " 'Triradylglycerols',\n",
    " 'Phosphosphingolipids',\n",
    " 'Glycosphingolipids',\n",
    " 'Glycerophosphoethanolamines',\n",
    " 'Glycerophosphoglycerols']\n",
    "\n",
    "df_pos_cano_class_pred = pd.DataFrame(columns=['Subclass','total', 'model_correct','model_mis', 'canopus_correct','canopus_mis','canopus_nan'])\n",
    "\n",
    "for i in subclasslist:\n",
    "    dfi = df[df['subclass'] == i]\n",
    "    total = len(dfi)\n",
    "    model_correct = len(dfi[dfi['model_pred'] == i])\n",
    "    model_mis = len(dfi[dfi['model_pred'] != i])\n",
    "    canopus_correct = len(dfi[dfi['canopus_pred'] == i])\n",
    "    canopus_nan = len(dfi[dfi['canopus_pred'].isna()])\n",
    "    canopus_mis = total - canopus_correct - canopus_nan\n",
    "\n",
    "    new_row = {'Subclass': i,\n",
    "               'total':total,\n",
    "               'model_correct': model_correct,\n",
    "               'model_mis': model_mis,\n",
    "               'canopus_correct': canopus_correct,\n",
    "               'canopus_mis':canopus_mis,\n",
    "               'canopus_nan':canopus_nan}\n",
    "    \n",
    "    df_pos_cano_class_pred = pd.concat([df_pos_cano_class_pred, pd.DataFrame([new_row])], ignore_index=True)\n",
    "    \n",
    "df_pos_cano_class_pred.to_csv('Data/04_canopus/pos/df_pos_subclass_pred.csv', index=False)"
   ]
  },
  {
   "cell_type": "code",
   "execution_count": 38,
   "id": "2d60a7d0",
   "metadata": {},
   "outputs": [
    {
     "data": {
      "text/html": [
       "<div>\n",
       "<style scoped>\n",
       "    .dataframe tbody tr th:only-of-type {\n",
       "        vertical-align: middle;\n",
       "    }\n",
       "\n",
       "    .dataframe tbody tr th {\n",
       "        vertical-align: top;\n",
       "    }\n",
       "\n",
       "    .dataframe thead th {\n",
       "        text-align: right;\n",
       "    }\n",
       "</style>\n",
       "<table border=\"1\" class=\"dataframe\">\n",
       "  <thead>\n",
       "    <tr style=\"text-align: right;\">\n",
       "      <th></th>\n",
       "      <th>model_correct</th>\n",
       "      <th>model_mispred</th>\n",
       "      <th>canopus_correct</th>\n",
       "      <th>canopus_mispred</th>\n",
       "      <th>canopus_nonpred</th>\n",
       "    </tr>\n",
       "    <tr>\n",
       "      <th>class</th>\n",
       "      <th></th>\n",
       "      <th></th>\n",
       "      <th></th>\n",
       "      <th></th>\n",
       "      <th></th>\n",
       "    </tr>\n",
       "  </thead>\n",
       "  <tbody>\n",
       "    <tr>\n",
       "      <th>Monoradylglycerols</th>\n",
       "      <td>96.875</td>\n",
       "      <td>3.125</td>\n",
       "      <td>0.0</td>\n",
       "      <td>9.375</td>\n",
       "      <td>90.625</td>\n",
       "    </tr>\n",
       "    <tr>\n",
       "      <th>Ceramides</th>\n",
       "      <td>98.198198</td>\n",
       "      <td>1.801802</td>\n",
       "      <td>3.603604</td>\n",
       "      <td>0.900901</td>\n",
       "      <td>95.495495</td>\n",
       "    </tr>\n",
       "    <tr>\n",
       "      <th>Diradylglycerols</th>\n",
       "      <td>97.641509</td>\n",
       "      <td>2.358491</td>\n",
       "      <td>5.660377</td>\n",
       "      <td>1.415094</td>\n",
       "      <td>92.924528</td>\n",
       "    </tr>\n",
       "    <tr>\n",
       "      <th>Triradylglycerols</th>\n",
       "      <td>99.280576</td>\n",
       "      <td>0.719424</td>\n",
       "      <td>0.0</td>\n",
       "      <td>5.515588</td>\n",
       "      <td>94.484412</td>\n",
       "    </tr>\n",
       "    <tr>\n",
       "      <th>Phosphosphingolipids</th>\n",
       "      <td>98.809524</td>\n",
       "      <td>1.190476</td>\n",
       "      <td>19.047619</td>\n",
       "      <td>5.952381</td>\n",
       "      <td>75.0</td>\n",
       "    </tr>\n",
       "    <tr>\n",
       "      <th>Glycosphingolipids</th>\n",
       "      <td>99.038462</td>\n",
       "      <td>0.961538</td>\n",
       "      <td>7.692308</td>\n",
       "      <td>0.0</td>\n",
       "      <td>92.307692</td>\n",
       "    </tr>\n",
       "    <tr>\n",
       "      <th>Glycerophosphoethanolamines</th>\n",
       "      <td>94.782609</td>\n",
       "      <td>5.217391</td>\n",
       "      <td>0.869565</td>\n",
       "      <td>0.0</td>\n",
       "      <td>99.130435</td>\n",
       "    </tr>\n",
       "    <tr>\n",
       "      <th>Glycerophosphoglycerols</th>\n",
       "      <td>100.0</td>\n",
       "      <td>0.0</td>\n",
       "      <td>8.333333</td>\n",
       "      <td>0.0</td>\n",
       "      <td>91.666667</td>\n",
       "    </tr>\n",
       "  </tbody>\n",
       "</table>\n",
       "</div>"
      ],
      "text/plain": [
       "                            model_correct model_mispred canopus_correct  \\\n",
       "class                                                                     \n",
       "Monoradylglycerols                 96.875         3.125             0.0   \n",
       "Ceramides                       98.198198      1.801802        3.603604   \n",
       "Diradylglycerols                97.641509      2.358491        5.660377   \n",
       "Triradylglycerols               99.280576      0.719424             0.0   \n",
       "Phosphosphingolipids            98.809524      1.190476       19.047619   \n",
       "Glycosphingolipids              99.038462      0.961538        7.692308   \n",
       "Glycerophosphoethanolamines     94.782609      5.217391        0.869565   \n",
       "Glycerophosphoglycerols             100.0           0.0        8.333333   \n",
       "\n",
       "                            canopus_mispred canopus_nonpred  \n",
       "class                                                        \n",
       "Monoradylglycerols                    9.375          90.625  \n",
       "Ceramides                          0.900901       95.495495  \n",
       "Diradylglycerols                   1.415094       92.924528  \n",
       "Triradylglycerols                  5.515588       94.484412  \n",
       "Phosphosphingolipids               5.952381            75.0  \n",
       "Glycosphingolipids                      0.0       92.307692  \n",
       "Glycerophosphoethanolamines             0.0       99.130435  \n",
       "Glycerophosphoglycerols                 0.0       91.666667  "
      ]
     },
     "execution_count": 38,
     "metadata": {},
     "output_type": "execute_result"
    }
   ],
   "source": [
    "df_all = df_pos_cano_class_pred.rename(columns={'Subclass':'class'}).set_index('class')\n",
    "\n",
    "df_all_2 = pd.DataFrame()\n",
    "df_all_2['model_correct'] = (df_all['model_correct']/df_all['total'])*100\n",
    "df_all_2['model_mispred'] = 100-df_all_2['model_correct']\n",
    "\n",
    "df_all_2['canopus_correct'] = (df_all['canopus_correct']/df_all['total'])*100\n",
    "df_all_2['canopus_mispred'] = (df_all['canopus_mis']/df_all['total'])*100\n",
    "df_all_2['canopus_nonpred'] = (df_all['canopus_nan']/df_all['total'])*100\n",
    "df_all_2"
   ]
  },
  {
   "cell_type": "code",
   "execution_count": 42,
   "id": "d49935d5",
   "metadata": {},
   "outputs": [
    {
     "data": {
      "image/png": "[encoded data removed]",
      "text/plain": [
       "<Figure size 900x400 with 1 Axes>"
      ]
     },
     "metadata": {},
     "output_type": "display_data"
    }
   ],
   "source": [
    "import matplotlib.pyplot as plt\n",
    "import numpy as np\n",
    "\n",
    "df_all2 = df_all_2.reset_index().sort_values('class')\n",
    "\n",
    "# Create a bar chart for model data\n",
    "fig, ax = plt.subplots(figsize=(9, 4))\n",
    "\n",
    "width = 0.35  # Width of each bar\n",
    "\n",
    "y = np.arange(len(df_all2['class']))\n",
    "\n",
    "red = '#d50310'\n",
    "blue = '#007cb6'\n",
    "black = '#2f2f2f'\n",
    "custom_colors = [red, blue, black]\n",
    "\n",
    "# Plot model_1st_correct and model_mispredict bars\n",
    "ax.barh(y - width/2, df_all2['model_correct'], width, label='model_correct', color=custom_colors[0])\n",
    "ax.barh(y - width/2, df_all2['model_mispred'], width, label='model_mispred', color=custom_colors[1], left=df_all2['model_correct'])\n",
    "ax.barh(y + width/2, df_all2['canopus_correct'], width, label='canopus_correct', color=custom_colors[0])\n",
    "ax.barh(y + width/2, df_all2['canopus_mispred'], width, label='canopus_mispred', color=custom_colors[1], left=df_all2['canopus_correct'])\n",
    "ax.barh(y + width/2, df_all2['canopus_nonpred'], width, label='canopus_nonpred', color=custom_colors[2], left=df_all2['canopus_correct'] + df_all2['canopus_mispred'])\n",
    "\n",
    "#ax.set_ylabel('Class', fontsize=10)\n",
    "ax.set_xlabel('')\n",
    "ax.set_ylabel('')\n",
    "ax.set_title('Percentage of correct answers in subclass (Positive ion mode)', fontsize=10)\n",
    "ax.set_yticks(y)\n",
    "ax.set_yticklabels(df_all2['class'], fontsize=10)\n",
    "ax.legend(loc='upper left', bbox_to_anchor=(1.2, 1))\n",
    "\n",
    "bars1= df_all2[['model_correct','model_mispred']]\n",
    "bars2= df_all2[['canopus_correct','canopus_mispred', 'canopus_nonpred']]\n",
    "\n",
    "  \n",
    "for n in bars1:\n",
    "    for i, (cs, ab, pc, sn) in enumerate(zip(bars1.iloc[:, 0:].cumsum(1)[n],\n",
    "                                          bars1[n], bars1[n],df_all.sort_index()['total'])):\n",
    "        if pc > 5.0:  \n",
    "            plt.text(cs - ab / 2 + 0.5, i - width/2 + 0.04, str(np.round(pc, 1)) + '%',\n",
    "                     va='center', ha='center', rotation=0, fontsize=8, c='white')\n",
    "        plt.text(100 + 2, i, f'n={sn}', va='center', ha='left', fontsize=10, alpha=0.8, c='black')\n",
    "        #plt.text(100 + 2, i+0.2, f'{sn2}', va='center', ha='left', fontsize=8, alpha=0.8)\n",
    "\n",
    "for n in bars2:\n",
    "    for i, (cs, ab, pc) in enumerate(zip(bars2.iloc[:, 0:].cumsum(1)[n],\n",
    "                                          bars2[n], bars2[n])):\n",
    "        if pc > 5.0:  \n",
    "            plt.text(cs - ab / 2 + 0.5, i + width/2 + 0.04, str(np.round(pc, 1)) + '%',\n",
    "                     va='center', ha='center', rotation=0, fontsize=8, c='white')\n",
    "            \n",
    "\n",
    "for i in range(len(df_all2)):\n",
    "    plt.axhline(i, color='black', linewidth=0.7)\n",
    "\n",
    "ax.spines['top'].set_visible(False)\n",
    "ax.spines['right'].set_visible(False)\n",
    "\n",
    "plt.gca().invert_yaxis()\n",
    "\n",
    "#plt.legend().set_visible(False)\n",
    "plt.legend(bbox_to_anchor=(1.2, 1), loc=2, borderaxespad=0., ncol = 1)\n",
    "plt.yticks(size = 9)\n",
    "plt.tight_layout()\n",
    "plt.savefig('Data/svg/test/canopus/pos_canopus-vs-model_subclass.svg', format='svg', dpi=300, bbox_inches='tight')\n",
    "plt.show()"
   ]
  },
  {
   "cell_type": "code",
   "execution_count": null,
   "id": "64646f58",
   "metadata": {},
   "outputs": [],
   "source": []
  }
 ],
 "metadata": {
  "kernelspec": {
   "display_name": "Python 3 (ipykernel)",
   "language": "python",
   "name": "python3"
  },
  "language_info": {
   "codemirror_mode": {
    "name": "ipython",
    "version": 3
   },
   "file_extension": ".py",
   "mimetype": "text/x-python",
   "name": "python",
   "nbconvert_exporter": "python",
   "pygments_lexer": "ipython3",
   "version": "3.11.6"
  }
 },
 "nbformat": 4,
 "nbformat_minor": 5
}
