{
 "cells": [
  {
   "cell_type": "code",
   "execution_count": 1,
   "metadata": {},
   "outputs": [
    {
     "name": "stderr",
     "output_type": "stream",
     "text": [
      "2024-05-02 12:21:12.110408: I tensorflow/core/util/port.cc:113] oneDNN custom operations are on. You may see slightly different numerical results due to floating-point round-off errors from different computation orders. To turn them off, set the environment variable `TF_ENABLE_ONEDNN_OPTS=0`.\n",
      "2024-05-02 12:21:12.147503: E external/local_xla/xla/stream_executor/cuda/cuda_dnn.cc:9261] Unable to register cuDNN factory: Attempting to register factory for plugin cuDNN when one has already been registered\n",
      "2024-05-02 12:21:12.147541: E external/local_xla/xla/stream_executor/cuda/cuda_fft.cc:607] Unable to register cuFFT factory: Attempting to register factory for plugin cuFFT when one has already been registered\n",
      "2024-05-02 12:21:12.148625: E external/local_xla/xla/stream_executor/cuda/cuda_blas.cc:1515] Unable to register cuBLAS factory: Attempting to register factory for plugin cuBLAS when one has already been registered\n",
      "2024-05-02 12:21:12.155065: I tensorflow/core/platform/cpu_feature_guard.cc:182] This TensorFlow binary is optimized to use available CPU instructions in performance-critical operations.\n",
      "To enable the following instructions: AVX2 AVX512F AVX512_VNNI FMA, in other operations, rebuild TensorFlow with the appropriate compiler flags.\n",
      "2024-05-02 12:21:13.100050: W tensorflow/compiler/tf2tensorrt/utils/py_utils.cc:38] TF-TRT Warning: Could not find TensorRT\n"
     ]
    }
   ],
   "source": [
    "import os\n",
    "\n",
    "def import_from_directory(directory, module_name):\n",
    "    current_dir = os.getcwd()\n",
    "    os.chdir(directory)\n",
    "    module = __import__(module_name)\n",
    "    os.chdir(current_dir)\n",
    "    return module\n",
    "\n",
    "model_base = import_from_directory('/home/jovyan/work/spectrum/notebooks/src', 'model_base')"
   ]
  },
  {
   "cell_type": "code",
   "execution_count": 2,
   "metadata": {},
   "outputs": [],
   "source": [
    "SEED = 42\n",
    "model_base.set_seed(SEED)\n",
    "\n",
    "desired_directory = '/home/jovyan/work/spectrum/notebooks/'\n",
    "os.chdir(desired_directory)"
   ]
  },
  {
   "cell_type": "markdown",
   "metadata": {},
   "source": [
    "tabledataの作成"
   ]
  },
  {
   "cell_type": "code",
   "execution_count": 3,
   "metadata": {},
   "outputs": [],
   "source": [
    "import pandas as pd\n",
    "from keras.models import load_model\n",
    "from tensorflow.keras.utils import plot_model\n",
    "from tensorflow.keras.models import Sequential\n",
    "from tensorflow.keras.layers import Dense, Dropout\n",
    "import shap\n",
    "import numpy as np\n",
    "import matplotlib.pyplot as plt\n"
   ]
  },
  {
   "cell_type": "code",
   "execution_count": 4,
   "metadata": {},
   "outputs": [],
   "source": [
    "df = pd.read_csv('Data/tabledata_all.csv')\n",
    "df_neg = df[df['Adducttype'].str.contains('\\]\\-') | df['Adducttype'].str.contains('\\]2\\-')]\n",
    "df_neg2 = model_base.cal_df_sel_column(df_neg)\n",
    "df_neg_wide = model_base.cal_wide_df(df_neg2)"
   ]
  },
  {
   "cell_type": "code",
   "execution_count": 23,
   "metadata": {},
   "outputs": [],
   "source": [
    "columnlist_path = 'Data/model_data/neg/negmodelcolumn_all.pkl'\n",
    "replacement_dict_path = 'Data/model_data/neg/neg_replacement_dict_all.pkl'\n",
    "y_test_path = 'Data/model_data/neg/df_neg_ytest.csv'\n",
    "\n",
    "df_neg_wide2, X_train, X_test, X_eval, y_train, y_test, y_eval, train_d, test_d, y, replacement_dict = \\\n",
    "    model_base.train_test_split_from_df(df_neg_wide, columnlist_path, replacement_dict_path, y_test_path) #split data\n",
    "\n",
    "y_train_onehot, y_test_onehot, y_eval_onehot = model_base.replace_y_onthot(y, y_train, y_test, y_eval, replacement_dict) #onehot"
   ]
  },
  {
   "cell_type": "markdown",
   "metadata": {},
   "source": [
    "パラメーターチューニング"
   ]
  },
  {
   "cell_type": "code",
   "execution_count": 10,
   "metadata": {},
   "outputs": [
    {
     "data": {
      "text/plain": [
       "\"\\nmodel, early_stopping, tensorboard_callback =      model_base.prep_patam_tune('neg', X_train, y_train_onehot, X_eval, y_eval_onehot)\\n\\n# モデルの学習\\nhistory = model.fit(X_train, y_train_onehot,                  # トレーニングデータ\\n                    epochs=500,                        # トレーニングの回数\\n                    batch_size=30,                     # 勾配更新ごとのサンプル数\\n                    verbose=1,                         # 進行状況の表示（0：非表示、1,2：表示）\\n                    validation_data=(X_eval, y_eval_onehot),  # 評価用データ\\n                    callbacks=[early_stopping,tensorboard_callback]) \\n\\nmodel.save('models/neg_class_model')\\n\""
      ]
     },
     "execution_count": 10,
     "metadata": {},
     "output_type": "execute_result"
    }
   ],
   "source": [
    "model, early_stopping, tensorboard_callback =\\\n",
    "      model_base.prep_patam_tune('neg', X_train, y_train_onehot, X_eval, y_eval_onehot)\n",
    "\n",
    "# モデルの学習\n",
    "history = model.fit(X_train, y_train_onehot,                  # トレーニングデータ\n",
    "                    epochs=500,                        # トレーニングの回数\n",
    "                    batch_size=30,                     # 勾配更新ごとのサンプル数\n",
    "                    verbose=1,                         # 進行状況の表示（0：非表示、1,2：表示）\n",
    "                    validation_data=(X_eval, y_eval_onehot),  # 評価用データ\n",
    "                    callbacks=[early_stopping,tensorboard_callback]) \n",
    "\n",
    "model.save('models/neg_class_model')"
   ]
  },
  {
   "cell_type": "code",
   "execution_count": 31,
   "metadata": {},
   "outputs": [
    {
     "name": "stdout",
     "output_type": "stream",
     "text": [
      "Model: \"sequential_1\"\n",
      "_________________________________________________________________\n",
      " Layer (type)                Output Shape              Param #   \n",
      "=================================================================\n",
      " dense_6 (Dense)             (None, 2816)              5955840   \n",
      "                                                                 \n",
      " dropout (Dropout)           (None, 2816)              0         \n",
      "                                                                 \n",
      " dense_7 (Dense)             (None, 3968)              11177856  \n",
      "                                                                 \n",
      " dropout_1 (Dropout)         (None, 3968)              0         \n",
      "                                                                 \n",
      " dense_8 (Dense)             (None, 2176)              8636544   \n",
      "                                                                 \n",
      " dropout_2 (Dropout)         (None, 2176)              0         \n",
      "                                                                 \n",
      " dense_9 (Dense)             (None, 69)                150213    \n",
      "                                                                 \n",
      "=================================================================\n",
      "Total params: 25920453 (98.88 MB)\n",
      "Trainable params: 25920453 (98.88 MB)\n",
      "Non-trainable params: 0 (0.00 Byte)\n",
      "_________________________________________________________________\n"
     ]
    }
   ],
   "source": [
    "model.summary()"
   ]
  },
  {
   "cell_type": "code",
   "execution_count": 50,
   "metadata": {},
   "outputs": [
    {
     "name": "stdout",
     "output_type": "stream",
     "text": [
      "You must install pydot (`pip install pydot`) and install graphviz (see instructions at https://graphviz.gitlab.io/download/) for plot_model to work.\n"
     ]
    }
   ],
   "source": [
    "# モデルの定義\n",
    "model = Sequential()\n",
    "input_dim = 2114\n",
    "model.add(Dense(2816, input_shape=(input_dim,), activation='relu'))\n",
    "model.add(Dropout(0.4))\n",
    "model.add(Dense(3968, activation='relu'))\n",
    "model.add(Dropout(0.5))\n",
    "model.add(Dense(2176, activation='relu'))\n",
    "model.add(Dropout(0.5))\n",
    "model.add(Dense(69, activation='softmax'))\n",
    "\n",
    "# モデルの描画\n",
    "plot_model(model, to_file='Data/model_data/neg/neg_model_plot.png', show_shapes=True, show_layer_names=True)"
   ]
  },
  {
   "cell_type": "markdown",
   "metadata": {},
   "source": [
    "SHAP plot"
   ]
  },
  {
   "cell_type": "code",
   "execution_count": 42,
   "metadata": {},
   "outputs": [],
   "source": [
    "output_path = 'Data/model_data/neg/neg_df_feature.csv'\n",
    "df_feature = model_base.cal_df_feature(df_neg_wide, output_path)"
   ]
  },
  {
   "cell_type": "code",
   "execution_count": null,
   "metadata": {},
   "outputs": [],
   "source": [
    "neg_class_list = ['Cer_NS', 'EtherPC', 'EtherPE', 'LPC','LPE','PC', 'PE', 'PI', 'PS','SM']\n",
    "X_train_shap, y_train_shap, X_test_shap, y_test_shap =\\\n",
    "    model_base.cal_shap_values(neg_class_list, train_d, test_d)"
   ]
  },
  {
   "cell_type": "code",
   "execution_count": null,
   "metadata": {},
   "outputs": [],
   "source": [
    "explainer = shap.KernelExplainer(model.predict,X_train_shap)\n",
    "shap_values = explainer.shap_values(X_test_shap)\n",
    "np.save('Data/model_data/neg/neg_shapvalues.npy', shap_values)\n",
    "\n",
    "input_path = 'Data/model_data/neg/neg_shapvalues.npy'\n",
    "save_excle_path = 'Data/model_data/neg/shap_select10_neg.xlsx'\n",
    "\n",
    "top_feature_df =\\\n",
    "      model_base.cal_shap_results(input_path, df_feature, neg_class_list, y_test_shap, save_excle_path)"
   ]
  },
  {
   "cell_type": "code",
   "execution_count": null,
   "metadata": {},
   "outputs": [],
   "source": [
    "cl = plt.cm.tab20.colors\n",
    "cmap_neg= [cl[0], cl[2], cl[3], cl[4], cl[5], cl[6], cl[7], cl[12], cl[13], cl[8]]\n",
    "custom_legend_order =   ['Cer_NS', 'EtherPC', 'EtherPE', 'LPC','LPE', 'PC', 'PE', 'PI', 'PS', 'SM'] \n",
    "save_path = 'Data/model_data/neg/neg_shap.svg'\n",
    "model_base.plot_shap_results(top_feature_df, cmap_neg, custom_legend_order, save_path, title= 'SHAP summary plot (Negative ion mode model)')"
   ]
  },
  {
   "cell_type": "markdown",
   "metadata": {},
   "source": [
    "モデルの学習曲線"
   ]
  },
  {
   "cell_type": "code",
   "execution_count": 62,
   "metadata": {},
   "outputs": [
    {
     "data": {
      "image/png": "[encoded data removed]",
      "text/plain": [
       "<Figure size 800x500 with 1 Axes>"
      ]
     },
     "metadata": {},
     "output_type": "display_data"
    }
   ],
   "source": [
    "save_path = 'Data/model_data/neg/neg_learning_curve.svg'\n",
    "model_base.plot_learning_curve(history, save_path, title = 'Learning curves (Negative ion mode NN model)')"
   ]
  },
  {
   "cell_type": "markdown",
   "metadata": {},
   "source": [
    "Train, testにおける正答率"
   ]
  },
  {
   "cell_type": "code",
   "execution_count": 61,
   "metadata": {},
   "outputs": [],
   "source": [
    "model = load_model('models/neg_class_model')"
   ]
  },
  {
   "cell_type": "code",
   "execution_count": 54,
   "metadata": {},
   "outputs": [
    {
     "name": "stdout",
     "output_type": "stream",
     "text": [
      "164/164 [==============================] - 1s 5ms/step\n",
      "52/52 [==============================] - 0s 5ms/step\n",
      "Neural Network_train : 0.996937212863706\n",
      "Neural Network_test : 0.9608083282302511\n"
     ]
    }
   ],
   "source": [
    "y_pred_train, y_pred_train_max, y_train_acc, y_pred_test, y_pred_test_max, y_test_acc =\\\n",
    "    model_base.modelpred_summary_acc(model, X_train, y_train_onehot, X_test, y_test_onehot)"
   ]
  },
  {
   "cell_type": "markdown",
   "metadata": {},
   "source": [
    "予測結果のまとめ"
   ]
  },
  {
   "cell_type": "code",
   "execution_count": 55,
   "metadata": {},
   "outputs": [],
   "source": [
    "replacement_dict_reversed = {value: key for key, value in replacement_dict.items()}\n",
    "\n",
    "df_train_x = pd.concat([pd.DataFrame(y_train).reset_index(drop=True),pd.DataFrame(y_pred_train).rename(columns=replacement_dict_reversed)], axis=1).groupby('Ontology').mean()\n",
    "df_train_x = df_train_x.reindex(sorted(df_train_x.columns), axis=1)"
   ]
  },
  {
   "cell_type": "code",
   "execution_count": 63,
   "metadata": {},
   "outputs": [
    {
     "name": "stdout",
     "output_type": "stream",
     "text": [
      "train result\n",
      "1st pred : 0.996937212863706\n",
      "candidate : 0.9994257274119449\n",
      "1st pred num: 5208\n",
      "candidate num: 5221\n",
      "all num: 5224\n",
      "test result\n",
      "1st pred : 0.9608083282302511\n",
      "candidate : 0.9846907532149418\n",
      "1st pred num: 1569\n",
      "candidate num: 1608\n",
      "all num: 1633\n"
     ]
    }
   ],
   "source": [
    "print('train result')\n",
    "train_save_path = 'Data/model_data/neg/neg_df_train_predclass.csv'\n",
    "train_pred1st_num, train_candidate_num, train_all_num, train_df_predclass =\\\n",
    "    model_base.modelpred_summary_detail(df_neg_wide2, replacement_dict_reversed, y_train, y_pred_train, y_pred_train_max, y_train_acc, train_save_path)\n",
    "print('test result')\n",
    "test_save_path = 'Data/model_data/neg/neg_df_test_predclass.csv'\n",
    "test_pred1st_num, test_candidate_num, test_all_num, test_df_predclass =\\\n",
    "    model_base.modelpred_summary_detail(df_neg_wide2, replacement_dict_reversed, y_test, y_pred_test, y_pred_test_max, y_test_acc, test_save_path)\n",
    "\n",
    "df_model_result = pd.DataFrame(data=[train_pred1st_num,train_candidate_num, train_all_num, test_pred1st_num, test_candidate_num, test_all_num], \\\n",
    "                               index=['train_1st', 'train_candidate', 'train_number','test_1st', 'test_candidate','test_number'])\n",
    "df_model_result.to_csv('Data/model_data/neg/df_neg_model_pred_result.csv')"
   ]
  },
  {
   "cell_type": "code",
   "execution_count": 58,
   "metadata": {},
   "outputs": [
    {
     "data": {
      "image/png": "[encoded data removed]",
      "text/plain": [
       "<Figure size 800x60 with 1 Axes>"
      ]
     },
     "metadata": {},
     "output_type": "display_data"
    }
   ],
   "source": [
    "save_path = 'Data/model_data/neg/neg_testresult_percentage.svg'\n",
    "model_base.plot_bar_plot(test_pred1st_num, test_candidate_num, test_all_num, save_path)"
   ]
  },
  {
   "cell_type": "markdown",
   "metadata": {},
   "source": [
    "canopusとの比較用データの準備"
   ]
  },
  {
   "cell_type": "code",
   "execution_count": 60,
   "metadata": {},
   "outputs": [],
   "source": [
    "ont_df_path = 'Data/model_data/neg/subclass_ont_select_neg.csv'\n",
    "save_path = 'Data/model_data/neg/df_neg_subclass_pred.csv'\n",
    "subclasslist = ['Glycerophosphoethanolamines', 'Glycerophosphocholines',\n",
    " 'Ceramides', 'Glycerophosphoinositols', 'Glycerophosphoglycerols',\n",
    " 'Glycerophosphoserines', 'Phosphosphingolipids', 'Fatty acids and conjugates']\n",
    "model_base.conv_subclass(test_df_predclass, y_test, ont_df_path, save_path, subclasslist)"
   ]
  }
 ],
 "metadata": {
  "kernelspec": {
   "display_name": "Python 3 (ipykernel)",
   "language": "python",
   "name": "python3"
  },
  "language_info": {
   "codemirror_mode": {
    "name": "ipython",
    "version": 3
   },
   "file_extension": ".py",
   "mimetype": "text/x-python",
   "name": "python",
   "nbconvert_exporter": "python",
   "pygments_lexer": "ipython3",
   "version": "3.11.6"
  }
 },
 "nbformat": 4,
 "nbformat_minor": 4
}
