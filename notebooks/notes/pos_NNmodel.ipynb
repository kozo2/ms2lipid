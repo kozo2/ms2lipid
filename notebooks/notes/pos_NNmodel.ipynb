{
 "cells": [
  {
   "cell_type": "code",
   "execution_count": 1,
   "metadata": {},
   "outputs": [
    {
     "name": "stderr",
     "output_type": "stream",
     "text": [
      "2024-05-02 13:50:39.168291: I tensorflow/core/util/port.cc:113] oneDNN custom operations are on. You may see slightly different numerical results due to floating-point round-off errors from different computation orders. To turn them off, set the environment variable `TF_ENABLE_ONEDNN_OPTS=0`.\n",
      "2024-05-02 13:50:39.206130: E external/local_xla/xla/stream_executor/cuda/cuda_dnn.cc:9261] Unable to register cuDNN factory: Attempting to register factory for plugin cuDNN when one has already been registered\n",
      "2024-05-02 13:50:39.206163: E external/local_xla/xla/stream_executor/cuda/cuda_fft.cc:607] Unable to register cuFFT factory: Attempting to register factory for plugin cuFFT when one has already been registered\n",
      "2024-05-02 13:50:39.207244: E external/local_xla/xla/stream_executor/cuda/cuda_blas.cc:1515] Unable to register cuBLAS factory: Attempting to register factory for plugin cuBLAS when one has already been registered\n",
      "2024-05-02 13:50:39.213617: I tensorflow/core/platform/cpu_feature_guard.cc:182] This TensorFlow binary is optimized to use available CPU instructions in performance-critical operations.\n",
      "To enable the following instructions: AVX2 AVX512F AVX512_VNNI FMA, in other operations, rebuild TensorFlow with the appropriate compiler flags.\n",
      "2024-05-02 13:50:40.142501: W tensorflow/compiler/tf2tensorrt/utils/py_utils.cc:38] TF-TRT Warning: Could not find TensorRT\n"
     ]
    }
   ],
   "source": [
    "import os\n",
    "\n",
    "def import_from_directory(directory, module_name):\n",
    "    current_dir = os.getcwd()\n",
    "    os.chdir(directory)\n",
    "    module = __import__(module_name)\n",
    "    os.chdir(current_dir)\n",
    "    return module\n",
    "\n",
    "model_base = import_from_directory('/home/jovyan/work/spectrum/notebooks/src', 'model_base')"
   ]
  },
  {
   "cell_type": "code",
   "execution_count": 2,
   "metadata": {},
   "outputs": [],
   "source": [
    "SEED = 42\n",
    "model_base.set_seed(SEED)\n",
    "\n",
    "desired_directory = '/home/jovyan/work/spectrum/notebooks/'\n",
    "os.chdir(desired_directory)"
   ]
  },
  {
   "cell_type": "markdown",
   "metadata": {},
   "source": [
    "tabledataの作成"
   ]
  },
  {
   "cell_type": "code",
   "execution_count": 3,
   "metadata": {},
   "outputs": [],
   "source": [
    "import pandas as pd\n",
    "from keras.models import load_model\n",
    "from tensorflow.keras.utils import plot_model\n",
    "from tensorflow.keras.models import Sequential\n",
    "from tensorflow.keras.layers import Dense, Dropout\n",
    "import shap\n",
    "import numpy as np\n",
    "import matplotlib.pyplot as plt"
   ]
  },
  {
   "cell_type": "code",
   "execution_count": 4,
   "metadata": {},
   "outputs": [],
   "source": [
    "df = pd.read_csv('Data/tabledata_all.csv')\n",
    "df_pos = df[df['Adducttype'].str.contains('\\]\\+') | df['Adducttype'].str.contains('\\]2\\+')]\n",
    "df_pos2 = model_base.cal_df_sel_column(df_pos)\n",
    "df_pos_wide = model_base.cal_wide_df(df_pos2)"
   ]
  },
  {
   "cell_type": "code",
   "execution_count": 6,
   "metadata": {},
   "outputs": [],
   "source": [
    "columnlist_path = 'Data/model_data/pos/posmodelcolumn_all.pkl'\n",
    "replacement_dict_path = 'Data/model_data/pos/pos_replacement_dict_all.pkl'\n",
    "y_test_path = 'Data/model_data/pos/df_pos_ytest.csv'\n",
    "\n",
    "df_pos_wide2, X_train, X_test, X_eval, y_train, y_test, y_eval, train_d, test_d, y, replacement_dict = \\\n",
    "    model_base.train_test_split_from_df(df_pos_wide, columnlist_path, replacement_dict_path, y_test_path) #split data\n",
    "\n",
    "y_train_onehot, y_test_onehot, y_eval_onehot = model_base.replace_y_onthot(y, y_train, y_test, y_eval, replacement_dict) #onehot"
   ]
  },
  {
   "cell_type": "markdown",
   "metadata": {},
   "source": [
    "パラメーターチューニング"
   ]
  },
  {
   "cell_type": "code",
   "execution_count": 10,
   "metadata": {},
   "outputs": [],
   "source": [
    "model, early_stopping, tensorboard_callback =\\\n",
    "      model_base.prep_patam_tune('pos', X_train, y_train_onehot, X_eval, y_eval_onehot)\n",
    "\n",
    "# モデルの学習\n",
    "history = model.fit(X_train, y_train_onehot,                  # トレーニングデータ\n",
    "                    epochs=500,                        # トレーニングの回数\n",
    "                    batch_size=30,                     # 勾配更新ごとのサンプル数\n",
    "                    verbose=1,                         # 進行状況の表示（0：非表示、1,2：表示）\n",
    "                    validation_data=(X_eval, y_eval_onehot),  # 評価用データ\n",
    "                    callbacks=[early_stopping,tensorboard_callback]) \n",
    "\n",
    "model.save('models/pos_class_model')"
   ]
  },
  {
   "cell_type": "code",
   "execution_count": 8,
   "metadata": {},
   "outputs": [],
   "source": [
    "from datetime import datetime\n",
    "from keras.callbacks import EarlyStopping\n",
    "import keras"
   ]
  },
  {
   "cell_type": "code",
   "execution_count": 9,
   "metadata": {},
   "outputs": [],
   "source": [
    "early_stopping = EarlyStopping(patience=10, verbose=0) \n",
    "logdir=\"logs/fit/\" + datetime.now().strftime(\"%Y%m%d-%H%M%S\")\n",
    "tensorboard_callback = keras.callbacks.TensorBoard(log_dir=logdir)"
   ]
  },
  {
   "cell_type": "code",
   "execution_count": 10,
   "metadata": {},
   "outputs": [],
   "source": [
    "model = load_model('models/pos_class_model')"
   ]
  },
  {
   "cell_type": "code",
   "execution_count": 11,
   "metadata": {},
   "outputs": [
    {
     "name": "stdout",
     "output_type": "stream",
     "text": [
      "Epoch 1/500\n",
      "181/181 [==============================] - 7s 34ms/step - loss: 0.0377 - acc: 0.9891 - val_loss: 0.3174 - val_acc: 0.9386\n",
      "Epoch 2/500\n",
      "181/181 [==============================] - 6s 33ms/step - loss: 0.0187 - acc: 0.9928 - val_loss: 0.3040 - val_acc: 0.9438\n",
      "Epoch 3/500\n",
      "181/181 [==============================] - 6s 32ms/step - loss: 0.0171 - acc: 0.9941 - val_loss: 0.3112 - val_acc: 0.9460\n",
      "Epoch 4/500\n",
      "181/181 [==============================] - 6s 32ms/step - loss: 0.0144 - acc: 0.9956 - val_loss: 0.3447 - val_acc: 0.9416\n",
      "Epoch 5/500\n",
      "181/181 [==============================] - 6s 32ms/step - loss: 0.0119 - acc: 0.9957 - val_loss: 0.3346 - val_acc: 0.9438\n",
      "Epoch 6/500\n",
      "181/181 [==============================] - 6s 32ms/step - loss: 0.0153 - acc: 0.9957 - val_loss: 0.3246 - val_acc: 0.9460\n",
      "Epoch 7/500\n",
      "181/181 [==============================] - 6s 32ms/step - loss: 0.0111 - acc: 0.9965 - val_loss: 0.3545 - val_acc: 0.9408\n",
      "Epoch 8/500\n",
      "181/181 [==============================] - 6s 32ms/step - loss: 0.0129 - acc: 0.9959 - val_loss: 0.3514 - val_acc: 0.9438\n",
      "Epoch 9/500\n",
      "181/181 [==============================] - 6s 32ms/step - loss: 0.0086 - acc: 0.9978 - val_loss: 0.3638 - val_acc: 0.9453\n",
      "Epoch 10/500\n",
      "181/181 [==============================] - 6s 32ms/step - loss: 0.0139 - acc: 0.9950 - val_loss: 0.3792 - val_acc: 0.9445\n",
      "Epoch 11/500\n",
      "181/181 [==============================] - 6s 32ms/step - loss: 0.0136 - acc: 0.9952 - val_loss: 0.3587 - val_acc: 0.9430\n",
      "Epoch 12/500\n",
      "181/181 [==============================] - 6s 32ms/step - loss: 0.0110 - acc: 0.9967 - val_loss: 0.3740 - val_acc: 0.9438\n"
     ]
    }
   ],
   "source": [
    "history = model.fit(X_train, y_train_onehot,                  # トレーニングデータ\n",
    "                    epochs=500,                        # トレーニングの回数\n",
    "                    batch_size=30,                     # 勾配更新ごとのサンプル数\n",
    "                    verbose=1,                         # 進行状況の表示（0：非表示、1,2：表示）\n",
    "                    validation_data=(X_eval, y_eval_onehot),  # 評価用データ\n",
    "                    callbacks=[early_stopping,tensorboard_callback]) "
   ]
  },
  {
   "cell_type": "code",
   "execution_count": 12,
   "metadata": {},
   "outputs": [
    {
     "name": "stdout",
     "output_type": "stream",
     "text": [
      "Model: \"sequential_1\"\n",
      "_________________________________________________________________\n",
      " Layer (type)                Output Shape              Param #   \n",
      "=================================================================\n",
      " dense_6 (Dense)             (None, 1664)              3457792   \n",
      "                                                                 \n",
      " dropout (Dropout)           (None, 1664)              0         \n",
      "                                                                 \n",
      " dense_7 (Dense)             (None, 2304)              3836160   \n",
      "                                                                 \n",
      " dropout_1 (Dropout)         (None, 2304)              0         \n",
      "                                                                 \n",
      " dense_8 (Dense)             (None, 3072)              7080960   \n",
      "                                                                 \n",
      " dropout_2 (Dropout)         (None, 3072)              0         \n",
      "                                                                 \n",
      " dense_9 (Dense)             (None, 63)                193599    \n",
      "                                                                 \n",
      "=================================================================\n",
      "Total params: 14568511 (55.57 MB)\n",
      "Trainable params: 14568511 (55.57 MB)\n",
      "Non-trainable params: 0 (0.00 Byte)\n",
      "_________________________________________________________________\n"
     ]
    }
   ],
   "source": [
    "model.summary()"
   ]
  },
  {
   "cell_type": "code",
   "execution_count": 13,
   "metadata": {},
   "outputs": [
    {
     "name": "stdout",
     "output_type": "stream",
     "text": [
      "You must install pydot (`pip install pydot`) and install graphviz (see instructions at https://graphviz.gitlab.io/download/) for plot_model to work.\n"
     ]
    }
   ],
   "source": [
    "# モデルの定義\n",
    "model = Sequential()\n",
    "input_dim = 2114\n",
    "model.add(Dense(2816, input_shape=(input_dim,), activation='relu'))\n",
    "model.add(Dropout(0.4))\n",
    "model.add(Dense(3968, activation='relu'))\n",
    "model.add(Dropout(0.5))\n",
    "model.add(Dense(2176, activation='relu'))\n",
    "model.add(Dropout(0.5))\n",
    "model.add(Dense(69, activation='softmax'))\n",
    "\n",
    "# モデルの描画\n",
    "plot_model(model, to_file='Data/model_data/pos/pos_model_plot.png', show_shapes=True, show_layer_names=True)"
   ]
  },
  {
   "cell_type": "markdown",
   "metadata": {},
   "source": [
    "SHAP plot"
   ]
  },
  {
   "cell_type": "code",
   "execution_count": 14,
   "metadata": {},
   "outputs": [],
   "source": [
    "output_path = 'Data/model_data/pos/pos_df_feature.csv'\n",
    "df_feature = model_base.cal_df_feature(df_pos_wide, output_path)"
   ]
  },
  {
   "cell_type": "code",
   "execution_count": null,
   "metadata": {},
   "outputs": [],
   "source": [
    "pos_class_list = ['TG', 'DG', 'PC', 'CE', 'SM', 'PE', 'EtherDG', 'LPC', 'Cer_NS', 'EtherTG']\n",
    "X_train_shap, y_train_shap, X_test_shap, y_test_shap =\\\n",
    "    model_base.cal_shap_values(pos_class_list, train_d, test_d)"
   ]
  },
  {
   "cell_type": "code",
   "execution_count": null,
   "metadata": {},
   "outputs": [],
   "source": [
    "explainer = shap.KernelExplainer(model.predict,X_train_shap)\n",
    "shap_values = explainer.shap_values(X_test_shap)\n",
    "np.save('Data/model_data/pos/pos_shapvalues.npy', shap_values)\n",
    "\n",
    "input_path = 'Data/model_data/pos/pos_shapvalues.npy'\n",
    "save_excle_path = 'Data/model_shap/pos/shap_select10_pos.xlsx'\n",
    "\n",
    "top_feature_df =\\\n",
    "      model_base.cal_shap_results(input_path, df_feature, pos_class_list, y_test_shap, save_excle_path)"
   ]
  },
  {
   "cell_type": "code",
   "execution_count": null,
   "metadata": {},
   "outputs": [],
   "source": [
    "cl = plt.cm.tab20.colors\n",
    "cmap_pos = [cl[10], cl[0], cl[18], cl[16], cl[17], cl[4],  cl[6], cl[7], cl[19], cl[8]]\n",
    "custom_legend_order = ['CE', 'Cer_NS', 'DG','EtherDG', 'EtherTG', 'LPC',  'PC', 'PE', 'TG', 'SM']\n",
    "save_path = 'Data/model_data/pos/pos_shap.svg'\n",
    "model_base.plot_shap_results(top_feature_df, cmap_pos, custom_legend_order, save_path, title= 'SHAP summary plot (positive ion mode model)')"
   ]
  },
  {
   "cell_type": "markdown",
   "metadata": {},
   "source": [
    "モデルの学習曲線"
   ]
  },
  {
   "cell_type": "code",
   "execution_count": 15,
   "metadata": {},
   "outputs": [
    {
     "data": {
      "image/png": "[encoded data removed]",
      "text/plain": [
       "<Figure size 800x500 with 1 Axes>"
      ]
     },
     "metadata": {},
     "output_type": "display_data"
    }
   ],
   "source": [
    "save_path = 'Data/model_data/pos/pos_learning_curve.svg'\n",
    "model_base.plot_learning_curve(history, save_path, title = 'Learning curves (positive ion mode NN model)')"
   ]
  },
  {
   "cell_type": "markdown",
   "metadata": {},
   "source": [
    "train, testにおける正答率"
   ]
  },
  {
   "cell_type": "code",
   "execution_count": 2,
   "metadata": {},
   "outputs": [],
   "source": [
    "model = load_model('models/pos_class_model')"
   ]
  },
  {
   "cell_type": "code",
   "execution_count": 17,
   "metadata": {},
   "outputs": [
    {
     "name": "stdout",
     "output_type": "stream",
     "text": [
      "169/169 [==============================] - 1s 6ms/step\n",
      "53/53 [==============================] - 0s 6ms/step\n",
      "Neural Network_train : 0.9929733727810651\n",
      "Neural Network_test : 0.9491425192193969\n"
     ]
    }
   ],
   "source": [
    "y_pred_train, y_pred_train_max, y_train_acc, y_pred_test, y_pred_test_max, y_test_acc =\\\n",
    "    model_base.modelpred_summary_acc(model, X_train, y_train_onehot, X_test, y_test_onehot)"
   ]
  },
  {
   "cell_type": "markdown",
   "metadata": {},
   "source": [
    "予測結果のまとめ"
   ]
  },
  {
   "cell_type": "code",
   "execution_count": 18,
   "metadata": {},
   "outputs": [],
   "source": [
    "replacement_dict_reversed = {value: key for key, value in replacement_dict.items()}\n",
    "\n",
    "df_train_x = pd.concat([pd.DataFrame(y_train).reset_index(drop=True),pd.DataFrame(y_pred_train).rename(columns=replacement_dict_reversed)], axis=1).groupby('Ontology').mean()\n",
    "df_train_x = df_train_x.reindex(sorted(df_train_x.columns), axis=1)"
   ]
  },
  {
   "cell_type": "code",
   "execution_count": 19,
   "metadata": {},
   "outputs": [
    {
     "name": "stdout",
     "output_type": "stream",
     "text": [
      "train result\n",
      "1st pred : 0.9929733727810651\n",
      "candidate : 0.9990754437869822\n",
      "1st pred num: 5370\n",
      "candidate num: 5403\n",
      "all num: 5408\n",
      "test result\n",
      "1st pred : 0.9491425192193969\n",
      "candidate : 0.9822590183323477\n",
      "1st pred num: 1605\n",
      "candidate num: 1661\n",
      "all num: 1691\n"
     ]
    }
   ],
   "source": [
    "print('train result')\n",
    "train_save_path = 'Data/model_data/pos/pos_df_train_predclass.csv'\n",
    "train_pred1st_num, train_candidate_num, train_all_num, train_df_predclass =\\\n",
    "    model_base.modelpred_summary_detail(df_pos_wide2, replacement_dict_reversed, y_train, y_pred_train, y_pred_train_max, y_train_acc, train_save_path)\n",
    "print('test result')\n",
    "test_save_path = 'Data/model_data/pos/pos_df_test_predclass.csv'\n",
    "test_pred1st_num, test_candidate_num, test_all_num, test_df_predclass =\\\n",
    "    model_base.modelpred_summary_detail(df_pos_wide2, replacement_dict_reversed, y_test, y_pred_test, y_pred_test_max, y_test_acc, test_save_path)\n",
    "\n",
    "df_model_result = pd.DataFrame(data=[train_pred1st_num,train_candidate_num, train_all_num, test_pred1st_num, test_candidate_num, test_all_num], \\\n",
    "                               index=['train_1st', 'train_candidate', 'train_number','test_1st', 'test_candidate','test_number'])\n",
    "df_model_result.to_csv('Data/model_data/pos/df_pos_model_pred_result.csv')"
   ]
  },
  {
   "cell_type": "code",
   "execution_count": 20,
   "metadata": {},
   "outputs": [
    {
     "data": {
      "image/png": "[encoded data removed]",
      "text/plain": [
       "<Figure size 800x60 with 1 Axes>"
      ]
     },
     "metadata": {},
     "output_type": "display_data"
    }
   ],
   "source": [
    "save_path = 'Data/model_data/pos/pos_testresult_percentage.svg'\n",
    "model_base.plot_bar_plot(test_pred1st_num, test_candidate_num, test_all_num, save_path)"
   ]
  },
  {
   "cell_type": "markdown",
   "metadata": {},
   "source": [
    "canopusとの比較用データの準備"
   ]
  },
  {
   "cell_type": "code",
   "execution_count": 21,
   "metadata": {},
   "outputs": [],
   "source": [
    "ont_df_path = 'Data/model_data/pos/subclass_ont_select_pos.csv'\n",
    "save_path = 'Data/model_data/pos/df_pos_subclass_pred.csv'\n",
    "subclasslist = ['Monoradylglycerols', 'Ceramides', 'Diradylglycerols',\n",
    " 'Glycerophosphocholines', 'Triradylglycerols', 'Phosphosphingolipids',\n",
    " 'Glycosphingolipids', 'Glycerophosphoethanolamines', 'Glycerophosphoglycerols']\n",
    "model_base.conv_subclass(test_df_predclass, y_test, ont_df_path, save_path, subclasslist)\n"
   ]
  },
  {
   "cell_type": "code",
   "execution_count": null,
   "metadata": {},
   "outputs": [],
   "source": []
  }
 ],
 "metadata": {
  "kernelspec": {
   "display_name": "Python 3 (ipykernel)",
   "language": "python",
   "name": "python3"
  },
  "language_info": {
   "codemirror_mode": {
    "name": "ipython",
    "version": 3
   },
   "file_extension": ".py",
   "mimetype": "text/x-python",
   "name": "python",
   "nbconvert_exporter": "python",
   "pygments_lexer": "ipython3",
   "version": "3.11.6"
  }
 },
 "nbformat": 4,
 "nbformat_minor": 4
}
