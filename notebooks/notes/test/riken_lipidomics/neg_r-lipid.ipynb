{
 "cells": [
  {
   "cell_type": "code",
   "execution_count": 1,
   "metadata": {},
   "outputs": [
    {
     "name": "stderr",
     "output_type": "stream",
     "text": [
      "2024-05-07 04:59:27.415654: I tensorflow/core/util/port.cc:113] oneDNN custom operations are on. You may see slightly different numerical results due to floating-point round-off errors from different computation orders. To turn them off, set the environment variable `TF_ENABLE_ONEDNN_OPTS=0`.\n",
      "2024-05-07 04:59:27.453343: E external/local_xla/xla/stream_executor/cuda/cuda_dnn.cc:9261] Unable to register cuDNN factory: Attempting to register factory for plugin cuDNN when one has already been registered\n",
      "2024-05-07 04:59:27.453382: E external/local_xla/xla/stream_executor/cuda/cuda_fft.cc:607] Unable to register cuFFT factory: Attempting to register factory for plugin cuFFT when one has already been registered\n",
      "2024-05-07 04:59:27.454558: E external/local_xla/xla/stream_executor/cuda/cuda_blas.cc:1515] Unable to register cuBLAS factory: Attempting to register factory for plugin cuBLAS when one has already been registered\n",
      "2024-05-07 04:59:27.461204: I tensorflow/core/platform/cpu_feature_guard.cc:182] This TensorFlow binary is optimized to use available CPU instructions in performance-critical operations.\n",
      "To enable the following instructions: AVX2 AVX512F AVX512_VNNI FMA, in other operations, rebuild TensorFlow with the appropriate compiler flags.\n",
      "2024-05-07 04:59:28.371506: W tensorflow/compiler/tf2tensorrt/utils/py_utils.cc:38] TF-TRT Warning: Could not find TensorRT\n"
     ]
    }
   ],
   "source": [
    "import os\n",
    "\n",
    "def import_from_directory(directory, module_name):\n",
    "    current_dir = os.getcwd()\n",
    "    os.chdir(directory)\n",
    "    module = __import__(module_name)\n",
    "    os.chdir(current_dir)\n",
    "    return module\n",
    "\n",
    "test_base = import_from_directory('/home/jovyan/work/spectrum/notebooks/src', 'test_base')\n",
    "model_base = import_from_directory('/home/jovyan/work/spectrum/notebooks/src', 'model_base')"
   ]
  },
  {
   "cell_type": "code",
   "execution_count": 2,
   "metadata": {},
   "outputs": [],
   "source": [
    "SEED = 42\n",
    "model_base.set_seed(SEED)\n",
    "\n",
    "desired_directory = '/home/jovyan/work/spectrum/notebooks/'\n",
    "os.chdir(desired_directory)"
   ]
  },
  {
   "cell_type": "code",
   "execution_count": 3,
   "metadata": {},
   "outputs": [],
   "source": [
    "import pandas as pd"
   ]
  },
  {
   "cell_type": "code",
   "execution_count": 4,
   "metadata": {},
   "outputs": [],
   "source": [
    "df = pd.read_csv('Data/test_data/rikenlipid_data.csv')\n",
    "df['datasetID'] = df['dataset'].str.split('_').str[0]\n",
    "df_neg = df[df['Adducttype'].str.contains('\\]\\-')].reset_index(drop=True)"
   ]
  },
  {
   "cell_type": "code",
   "execution_count": 5,
   "metadata": {},
   "outputs": [],
   "source": [
    "df_neg2 = model_base.cal_df_sel_column(df_neg).drop_duplicates().reset_index(drop=True)\n",
    "df_neg_wide = model_base.cal_wide_df(df_neg2)\n",
    "df_neg_wide['Ontology'] = df_neg_wide['Ontology'].str.replace(r'-', '_')"
   ]
  },
  {
   "cell_type": "code",
   "execution_count": 6,
   "metadata": {},
   "outputs": [
    {
     "name": "stdout",
     "output_type": "stream",
     "text": [
      "250/250 [==============================] - 1s 5ms/step\n"
     ]
    }
   ],
   "source": [
    "column_path = 'Data/model_data/neg/negmodelcolumn_all.pkl'\n",
    "replacement_dict_path = 'Data/model_data/neg/neg_replacement_dict_all.pkl'\n",
    "model_path = \"models/neg_class_model\"\n",
    "\n",
    "pred1st, predcandidate, num, df_test_predclass = test_base.cal_accscore(df_neg_wide, replacement_dict_path, column_path, model_path)"
   ]
  },
  {
   "cell_type": "code",
   "execution_count": 7,
   "metadata": {},
   "outputs": [
    {
     "name": "stdout",
     "output_type": "stream",
     "text": [
      "test Accuracy in Different curator\n",
      "119/119 [==============================] - 1s 5ms/step\n",
      "1st pred : 3056\n",
      "candidate : 3394\n",
      "total: 3790\n",
      "----\n",
      "test Accuracy in Waters\n",
      "2/2 [==============================] - 0s 9ms/step\n",
      "1st pred : 13\n",
      "candidate : 34\n",
      "total: 46\n",
      "----\n",
      "test Accuracy in Thermo\n",
      "4/4 [==============================] - 0s 5ms/step\n",
      "1st pred : 95\n",
      "candidate : 96\n",
      "total: 98\n",
      "----\n",
      "test Accuracy in Agilent\n",
      "9/9 [==============================] - 0s 6ms/step\n",
      "1st pred : 186\n",
      "candidate : 248\n",
      "total: 265\n",
      "----\n",
      "test Accuracy in Bruker\n",
      "7/7 [==============================] - 0s 6ms/step\n",
      "1st pred : 151\n",
      "candidate : 191\n",
      "total: 195\n",
      "----\n",
      "test Accuracy in Sciex 6600-SWATH\n",
      "3/3 [==============================] - 0s 6ms/step\n",
      "1st pred : 66\n",
      "candidate : 74\n",
      "total: 77\n",
      "----\n"
     ]
    }
   ],
   "source": [
    "pred1st1, predcandidate1, num1, df_test_predclass1 = test_base.make_pred_summary(df_neg_wide, replacement_dict_path, column_path, model_path, (1, 11), type='btw', title = 'test Accuracy in Different curator')\n",
    "pred1st2, predcandidate2, num2, df_test_predclass2 = test_base.make_pred_summary(df_neg_wide, replacement_dict_path, column_path, model_path, [78],  title = 'test Accuracy in Waters')\n",
    "pred1st3, predcandidate3, num3, df_test_predclass3 = test_base.make_pred_summary(df_neg_wide, replacement_dict_path, column_path, model_path, [79],  title = 'test Accuracy in Thermo')\n",
    "pred1st4, predcandidate4, num4, df_test_predclass4 = test_base.make_pred_summary(df_neg_wide, replacement_dict_path, column_path, model_path, [80],  title = 'test Accuracy in Agilent')\n",
    "pred1st5, predcandidate5, num5, df_test_predclass5 = test_base.make_pred_summary(df_neg_wide, replacement_dict_path, column_path, model_path, [83, 84],  title = 'test Accuracy in Bruker')\n",
    "pred1st6, predcandidate6, num6, df_test_predclass6 = test_base.make_pred_summary(df_neg_wide, replacement_dict_path, column_path, model_path, [81],  title = 'test Accuracy in Sciex 6600-SWATH')"
   ]
  },
  {
   "cell_type": "code",
   "execution_count": 10,
   "metadata": {},
   "outputs": [],
   "source": [
    "data = [['Different curator(Sciex TripleTOF 6600)', num1, pred1st1, predcandidate1-pred1st1],\n",
    "        ['Waters XevoG2 QTOF', num2, pred1st2, predcandidate2-pred1st2],\n",
    "        ['Thermo Q Exactive Plus', num3, pred1st3, predcandidate3-pred1st3],\n",
    "        ['Agilent 6546 QTOF', num4, pred1st4, predcandidate4-pred1st4],\n",
    "        ['Bruker timsTOF Pro', num5, pred1st5, predcandidate5-pred1st5],\n",
    "        ['Sciex TripleTOF 6600(SWATH)', num6, pred1st6, predcandidate6-pred1st6]]\n",
    "\n",
    "df_predresult = pd.DataFrame(data, columns=['Name', 'Sample number', '1st pred', 'Candidate'])\n",
    "df_predresult['Non predict'] = df_predresult['Sample number']-(df_predresult['1st pred']+df_predresult['Candidate'])\n",
    "\n",
    "df_predresult.to_csv('Data/test_data/neg/rikenlipid_df_neg_model_pred_result.csv', index=False)"
   ]
  }
 ],
 "metadata": {
  "kernelspec": {
   "display_name": "base",
   "language": "python",
   "name": "python3"
  },
  "language_info": {
   "codemirror_mode": {
    "name": "ipython",
    "version": 3
   },
   "file_extension": ".py",
   "mimetype": "text/x-python",
   "name": "python",
   "nbconvert_exporter": "python",
   "pygments_lexer": "ipython3",
   "version": "3.11.6"
  }
 },
 "nbformat": 4,
 "nbformat_minor": 2
}
