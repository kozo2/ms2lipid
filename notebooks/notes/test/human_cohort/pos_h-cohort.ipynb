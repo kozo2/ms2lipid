{
 "cells": [
  {
   "cell_type": "code",
   "execution_count": 1,
   "metadata": {},
   "outputs": [
    {
     "name": "stderr",
     "output_type": "stream",
     "text": [
      "2024-05-10 10:04:46.508214: I tensorflow/core/util/port.cc:113] oneDNN custom operations are on. You may see slightly different numerical results due to floating-point round-off errors from different computation orders. To turn them off, set the environment variable `TF_ENABLE_ONEDNN_OPTS=0`.\n",
      "2024-05-10 10:04:46.547554: E external/local_xla/xla/stream_executor/cuda/cuda_dnn.cc:9261] Unable to register cuDNN factory: Attempting to register factory for plugin cuDNN when one has already been registered\n",
      "2024-05-10 10:04:46.547592: E external/local_xla/xla/stream_executor/cuda/cuda_fft.cc:607] Unable to register cuFFT factory: Attempting to register factory for plugin cuFFT when one has already been registered\n",
      "2024-05-10 10:04:46.548727: E external/local_xla/xla/stream_executor/cuda/cuda_blas.cc:1515] Unable to register cuBLAS factory: Attempting to register factory for plugin cuBLAS when one has already been registered\n",
      "2024-05-10 10:04:46.555476: I tensorflow/core/platform/cpu_feature_guard.cc:182] This TensorFlow binary is optimized to use available CPU instructions in performance-critical operations.\n",
      "To enable the following instructions: AVX2 AVX512F AVX512_VNNI FMA, in other operations, rebuild TensorFlow with the appropriate compiler flags.\n",
      "2024-05-10 10:04:47.472889: W tensorflow/compiler/tf2tensorrt/utils/py_utils.cc:38] TF-TRT Warning: Could not find TensorRT\n"
     ]
    }
   ],
   "source": [
    "import os\n",
    "\n",
    "def import_from_directory(directory, module_name):\n",
    "    current_dir = os.getcwd()\n",
    "    os.chdir(directory)\n",
    "    module = __import__(module_name)\n",
    "    os.chdir(current_dir)\n",
    "    return module\n",
    "\n",
    "test_base = import_from_directory('/home/jovyan/work/spectrum/notebooks/src', 'test_base')\n",
    "model_base = import_from_directory('/home/jovyan/work/spectrum/notebooks/src', 'model_base')"
   ]
  },
  {
   "cell_type": "code",
   "execution_count": 2,
   "metadata": {},
   "outputs": [],
   "source": [
    "SEED = 42\n",
    "model_base.set_seed(SEED)\n",
    "\n",
    "desired_directory = '/home/jovyan/work/spectrum/notebooks/'\n",
    "os.chdir(desired_directory)"
   ]
  },
  {
   "cell_type": "code",
   "execution_count": 3,
   "metadata": {},
   "outputs": [],
   "source": [
    "import pandas as pd"
   ]
  },
  {
   "cell_type": "code",
   "execution_count": 7,
   "metadata": {},
   "outputs": [],
   "source": [
    "data_path = 'Data/test_data/humancohort_data.xlsx'\n",
    "df_pos = pd.read_excel(data_path, sheet_name='positive', header = 4)[['Alignment ID','Average Mz', 'Metabolite name', 'Adduct type', 'MS/MS assigned','Ontology', 'INCHIKEY', 'SMILES', 'MS/MS spectrum']]\n",
    "df_pos2 = df_pos[~df_pos['MS/MS spectrum'].isna()].reset_index(drop=True).\\\n",
    "    rename(columns={'Metabolite name':'Metabolitename', 'Alignment ID':'AlignmentID','Average Mz':'AverageMz', 'MS/MS spectrum':'MSMSspectrum', 'Adduct type':'Adducttype'})\n",
    "df_pos2['datasetID'] = 1"
   ]
  },
  {
   "cell_type": "code",
   "execution_count": 8,
   "metadata": {},
   "outputs": [],
   "source": [
    "df_pos3 = model_base.cal_df_sel_column(df_pos2)\n",
    "df_pos_wide = model_base.cal_wide_df(df_pos3)"
   ]
  },
  {
   "cell_type": "code",
   "execution_count": 9,
   "metadata": {},
   "outputs": [
    {
     "name": "stdout",
     "output_type": "stream",
     "text": [
      "576/576 [==============================] - 4s 6ms/step\n"
     ]
    }
   ],
   "source": [
    "column_path = 'Data/model_data/pos/posmodelcolumn_all.pkl'\n",
    "replacement_dict_path = 'Data/model_data/pos/pos_replacement_dict_all.pkl'\n",
    "model_path = \"models/pos_class_model\"\n",
    "\n",
    "replacement_dict, loaded_columns, loaded_model =\\\n",
    "        test_base.load_models(df_pos_wide, replacement_dict_path, column_path, model_path)\n",
    "\n",
    "df_pos_wide2, columns_to_drop, replacement_dict_reversed, replacement_dict_reversed_df =\\\n",
    "        test_base.pred_data_adj(df_pos_wide, replacement_dict, loaded_columns)\n",
    "\n",
    "df_test_predclass, df_test_predclass_v, df_pos_wide2, y_test_acc_, y_pred_test_max_ =\\\n",
    "        test_base.pred_data_by_model(df_pos_wide2, replacement_dict, replacement_dict_reversed, replacement_dict_reversed_df, loaded_model, columns_to_drop)"
   ]
  },
  {
   "cell_type": "code",
   "execution_count": null,
   "metadata": {},
   "outputs": [],
   "source": [
    "df_pos_wide_s = df_pos_wide[['Metabolitename','Ontology', 'AverageMz', 'Adducttype','ID']].reset_index().rename(columns={'index':'idx'})\n",
    "\n",
    "df_test_predclass_v2 = df_pos_wide_s.merge(df_test_predclass_v, on='idx', how='inner')\n",
    "df_test_predclass_v2 = df_test_predclass_v2.dropna()\n",
    "df_test_predclass_v2 = df_test_predclass_v2[~df_test_predclass_v2['Metabolitename'].str.contains(\"w/o MS2\")] #w/o MS2|low score"
   ]
  },
  {
   "cell_type": "code",
   "execution_count": null,
   "metadata": {},
   "outputs": [],
   "source": [
    "df_test_predclass_v2['pred_class_list'] = test_base.make_pred_class_list_column(df_test_predclass_v2)\n",
    "df_test_predclass_v2['TF'] = df_test_predclass_v2.apply(test_base.check_ontology_in_pred_class, axis=1)"
   ]
  },
  {
   "cell_type": "markdown",
   "metadata": {},
   "source": [
    "GDCAE"
   ]
  },
  {
   "cell_type": "code",
   "execution_count": 11,
   "metadata": {},
   "outputs": [],
   "source": [
    "import matplotlib.pyplot as plt"
   ]
  },
  {
   "cell_type": "code",
   "execution_count": 10,
   "metadata": {},
   "outputs": [],
   "source": [
    "def extract_x(row):\n",
    "    return row['ID'].split('_')[1] if '_' in row['ID'] else None\n",
    "\n",
    "def plot_spectrum(df_wide, Alignmnentid = '8864'):\n",
    "    \n",
    "    df_wide.index = df_wide.apply(extract_x, axis=1)\n",
    "    columns_to_drop = [ 'Metabolitename','Ontology', 'AverageMz', 'Adducttype','ID', 'EOvalue',\t'MCHvalue']\n",
    "    df_wide = df_wide.drop(columns=columns_to_drop).astype(float)\n",
    "    df1= pd.DataFrame(df_wide.loc[Alignmnentid]).reset_index().rename(columns={'index':'mz',Alignmnentid:'exp'}).astype('float')\n",
    "\n",
    "    fig, axs = plt.subplots(1, 1, figsize=(4, 3))\n",
    "\n",
    "    axs.plot(df1['mz'], df1['exp'], color='black')\n",
    "    axs.set_xlabel('m/z', fontsize=12)\n",
    "    axs.set_ylabel('Intensity', fontsize=12)\n",
    "    axs.set_title('Alignment ID: ' + str(Alignmnentid), fontsize=12)\n",
    "    axs.set_xlim(0, 1250)\n",
    "\n",
    "    plt.show()"
   ]
  },
  {
   "cell_type": "code",
   "execution_count": 12,
   "metadata": {},
   "outputs": [
    {
     "data": {
      "image/png": "[encoded data removed]",
      "text/plain": [
       "<Figure size 400x300 with 1 Axes>"
      ]
     },
     "metadata": {},
     "output_type": "display_data"
    }
   ],
   "source": [
    "plot_spectrum(df_pos_wide, Alignmnentid = '16944')"
   ]
  }
 ],
 "metadata": {
  "kernelspec": {
   "display_name": "base",
   "language": "python",
   "name": "python3"
  },
  "language_info": {
   "codemirror_mode": {
    "name": "ipython",
    "version": 3
   },
   "file_extension": ".py",
   "mimetype": "text/x-python",
   "name": "python",
   "nbconvert_exporter": "python",
   "pygments_lexer": "ipython3",
   "version": "3.11.6"
  }
 },
 "nbformat": 4,
 "nbformat_minor": 2
}
