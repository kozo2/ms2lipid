{
 "cells": [
  {
   "cell_type": "code",
   "execution_count": 1,
   "metadata": {},
   "outputs": [
    {
     "name": "stdout",
     "output_type": "stream",
     "text": [
      "/home/jovyan/work/spectrum/c_final/v1\n"
     ]
    }
   ],
   "source": [
    "%cd .."
   ]
  },
  {
   "cell_type": "code",
   "execution_count": 2,
   "metadata": {},
   "outputs": [
    {
     "name": "stderr",
     "output_type": "stream",
     "text": [
      "2024-02-27 09:02:56.465367: I tensorflow/core/util/port.cc:113] oneDNN custom operations are on. You may see slightly different numerical results due to floating-point round-off errors from different computation orders. To turn them off, set the environment variable `TF_ENABLE_ONEDNN_OPTS=0`.\n",
      "2024-02-27 09:02:56.502350: E external/local_xla/xla/stream_executor/cuda/cuda_dnn.cc:9261] Unable to register cuDNN factory: Attempting to register factory for plugin cuDNN when one has already been registered\n",
      "2024-02-27 09:02:56.502384: E external/local_xla/xla/stream_executor/cuda/cuda_fft.cc:607] Unable to register cuFFT factory: Attempting to register factory for plugin cuFFT when one has already been registered\n",
      "2024-02-27 09:02:56.503299: E external/local_xla/xla/stream_executor/cuda/cuda_blas.cc:1515] Unable to register cuBLAS factory: Attempting to register factory for plugin cuBLAS when one has already been registered\n",
      "2024-02-27 09:02:56.509347: I tensorflow/core/platform/cpu_feature_guard.cc:182] This TensorFlow binary is optimized to use available CPU instructions in performance-critical operations.\n",
      "To enable the following instructions: AVX2 AVX512F AVX512_VNNI FMA, in other operations, rebuild TensorFlow with the appropriate compiler flags.\n",
      "2024-02-27 09:02:57.413228: W tensorflow/compiler/tf2tensorrt/utils/py_utils.cc:38] TF-TRT Warning: Could not find TensorRT\n"
     ]
    }
   ],
   "source": [
    "import pandas as pd\n",
    "import numpy as np\n",
    "import pickle\n",
    "import matplotlib.pyplot as plt\n",
    "import base\n",
    "import os\n",
    "\n",
    "from sklearn.svm import SVC\n",
    "from sklearn.model_selection import train_test_split\n",
    "from sklearn.neighbors import KNeighborsClassifier\n",
    "from sklearn.ensemble import RandomForestClassifier\n",
    "from sklearn.metrics import precision_score, recall_score, f1_score, accuracy_score\n",
    "\n",
    "from keras.utils import to_categorical\n",
    "from keras.models import load_model"
   ]
  },
  {
   "cell_type": "code",
   "execution_count": 3,
   "metadata": {},
   "outputs": [],
   "source": [
    "SEED = 42\n",
    "base.fix_seed(SEED)\n",
    "\n",
    "desired_directory = '/home/jovyan/work/spectrum/'\n",
    "os.chdir(desired_directory)"
   ]
  },
  {
   "cell_type": "code",
   "execution_count": 4,
   "metadata": {},
   "outputs": [],
   "source": [
    "df_neg_data2x = pd.read_csv('Data/02_basedata/neg/neg2.csv')"
   ]
  },
  {
   "cell_type": "code",
   "execution_count": 5,
   "metadata": {},
   "outputs": [],
   "source": [
    "## train/test/eval\n",
    "columns_to_drop = ['Metabolitename', 'Ontology', 'dataset', 'AlignmentID', 'AverageMz']\n",
    "X = df_neg_data2x.drop(columns=columns_to_drop).astype(float).values\n",
    "y = df_neg_data2x['Ontology']\n",
    "X_train, X_test, y_train, y_test = train_test_split(X, y, test_size=0.2, random_state=42)\n",
    "X_train, X_eval, y_train, y_eval = train_test_split(X_train, y_train, test_size=0.2, random_state=42, stratify=y_train)\n",
    "train_d, test_d = train_test_split(df_neg_data2x, test_size=0.2, random_state=42)"
   ]
  },
  {
   "cell_type": "code",
   "execution_count": 6,
   "metadata": {},
   "outputs": [],
   "source": [
    "with open('Data/03_model/neg/neg_replacement_dict_all.pkl', 'rb') as file:\n",
    "    replacement_dict = pickle.load(file)\n",
    "\n",
    "model = load_model(\"c_final/v1/model/neg_class_model_3\")"
   ]
  },
  {
   "cell_type": "code",
   "execution_count": 7,
   "metadata": {},
   "outputs": [],
   "source": [
    "# データの前処理：ラベルの置換\n",
    "y_train_replaced0 = y_train.replace(replacement_dict).to_numpy().astype('int64')\n",
    "y_test_replaced0 = y_test.replace(replacement_dict).to_numpy().astype('int64')\n",
    "y_eval_replaced0 = y_eval.replace(replacement_dict).to_numpy().astype('int64')\n",
    "\n",
    "ontlist = pd.DataFrame(y_train)['Ontology'].drop_duplicates().tolist()\n",
    "\n",
    "y_train_onehot = to_categorical(y_train_replaced0, len(ontlist))\n",
    "y_test_onehot = to_categorical(y_test_replaced0, len(ontlist))\n",
    "y_eval_onehot = to_categorical(y_eval_replaced0, len(ontlist))"
   ]
  },
  {
   "cell_type": "code",
   "execution_count": 8,
   "metadata": {},
   "outputs": [
    {
     "name": "stderr",
     "output_type": "stream",
     "text": [
      "/opt/conda/lib/python3.11/site-packages/sklearn/metrics/_classification.py:1469: UndefinedMetricWarning: Precision is ill-defined and being set to 0.0 in labels with no predicted samples. Use `zero_division` parameter to control this behavior.\n",
      "  _warn_prf(average, modifier, msg_start, len(result))\n",
      "/opt/conda/lib/python3.11/site-packages/sklearn/metrics/_classification.py:1469: UndefinedMetricWarning: Recall is ill-defined and being set to 0.0 in labels with no true samples. Use `zero_division` parameter to control this behavior.\n",
      "  _warn_prf(average, modifier, msg_start, len(result))\n",
      "/opt/conda/lib/python3.11/site-packages/sklearn/metrics/_classification.py:1469: UndefinedMetricWarning: Precision is ill-defined and being set to 0.0 in labels with no predicted samples. Use `zero_division` parameter to control this behavior.\n",
      "  _warn_prf(average, modifier, msg_start, len(result))\n",
      "/opt/conda/lib/python3.11/site-packages/sklearn/metrics/_classification.py:1469: UndefinedMetricWarning: Recall is ill-defined and being set to 0.0 in labels with no true samples. Use `zero_division` parameter to control this behavior.\n",
      "  _warn_prf(average, modifier, msg_start, len(result))\n",
      "/opt/conda/lib/python3.11/site-packages/sklearn/metrics/_classification.py:1469: UndefinedMetricWarning: Precision is ill-defined and being set to 0.0 in labels with no predicted samples. Use `zero_division` parameter to control this behavior.\n",
      "  _warn_prf(average, modifier, msg_start, len(result))\n"
     ]
    },
    {
     "name": "stdout",
     "output_type": "stream",
     "text": [
      "52/52 [==============================] - 0s 5ms/step\n"
     ]
    },
    {
     "name": "stderr",
     "output_type": "stream",
     "text": [
      "/opt/conda/lib/python3.11/site-packages/sklearn/metrics/_classification.py:1469: UndefinedMetricWarning: Precision is ill-defined and being set to 0.0 in labels with no predicted samples. Use `zero_division` parameter to control this behavior.\n",
      "  _warn_prf(average, modifier, msg_start, len(result))\n",
      "/opt/conda/lib/python3.11/site-packages/sklearn/metrics/_classification.py:1469: UndefinedMetricWarning: Recall is ill-defined and being set to 0.0 in labels with no true samples. Use `zero_division` parameter to control this behavior.\n",
      "  _warn_prf(average, modifier, msg_start, len(result))\n"
     ]
    }
   ],
   "source": [
    "\n",
    "#SVM\n",
    "svm_model = SVC(kernel='rbf', probability=True)\n",
    "svm_model.fit(X_train, y_train_replaced0)\n",
    "svm_y_pred = svm_model.predict(X_test)\n",
    "svm_accuracy = accuracy_score(y_test_replaced0, svm_y_pred)\n",
    "svm_precision = precision_score(y_test_replaced0, svm_y_pred, average='macro') \n",
    "svm_recall = recall_score(y_test_replaced0, svm_y_pred, average='macro')\n",
    "svm_f1 = f1_score(y_test_replaced0, svm_y_pred, average='macro') \n",
    "\n",
    "# k近傍法\n",
    "knn_model = KNeighborsClassifier()\n",
    "knn_model.fit(X_train, y_train_replaced0)\n",
    "knn_y_pred = knn_model.predict(X_test)\n",
    "knn_accuracy = accuracy_score(y_test_replaced0, knn_y_pred)\n",
    "knn_precision = precision_score(y_test_replaced0, knn_y_pred, average='macro') \n",
    "knn_recall = recall_score(y_test_replaced0, knn_y_pred, average='macro')\n",
    "knn_f1 = f1_score(y_test_replaced0, knn_y_pred, average='macro') \n",
    "\n",
    "# Random Forest\n",
    "rf_model = RandomForestClassifier()\n",
    "rf_model.fit(X_train, y_train_replaced0)\n",
    "rf_y_pred = rf_model.predict(X_test)\n",
    "rf_accuracy = accuracy_score(y_test_replaced0, rf_y_pred)\n",
    "rf_precision = precision_score(y_test_replaced0, rf_y_pred, average='macro') \n",
    "rf_recall = recall_score(y_test_replaced0, rf_y_pred, average='macro')\n",
    "rf_f1 = f1_score(y_test_replaced0, rf_y_pred, average='macro') \n",
    "\n",
    "##NN\n",
    "y_pred_test = model.predict(X_test)\n",
    "y_pred_test_max = np.argmax(y_pred_test, axis=1)\n",
    "_, y_test_acc = np.where(y_test_onehot > 0) \n",
    "\n",
    "nn_accuracy = accuracy_score(y_test_acc, y_pred_test_max)\n",
    "nn_precision = precision_score(y_test_acc, y_pred_test_max, average='macro')\n",
    "nn_recall = recall_score(y_test_acc, y_pred_test_max, average='macro')\n",
    "nn_f1 = f1_score(y_test_acc, y_pred_test_max, average='macro')\n"
   ]
  },
  {
   "cell_type": "code",
   "execution_count": 9,
   "metadata": {},
   "outputs": [
    {
     "data": {
      "image/png": "[encoded data removed]",
      "text/plain": [
       "<Figure size 600x500 with 1 Axes>"
      ]
     },
     "metadata": {},
     "output_type": "display_data"
    }
   ],
   "source": [
    "fig, ax = plt.subplots(figsize=(6, 5))\n",
    "\n",
    "x_labels = ['Accuracy', 'Precision', 'Recall', 'F1 score']\n",
    "x_datas = np.arange(len(x_labels))  # X軸の位置を設定\n",
    "\n",
    "# 各評価パラメータの値をリストにまとめる\n",
    "SVM = [svm_accuracy, svm_precision, svm_recall, svm_f1]\n",
    "KNN = [knn_accuracy, knn_precision, knn_recall, knn_f1]\n",
    "RF = [rf_accuracy, rf_precision, rf_recall, rf_f1]\n",
    "NN = [nn_accuracy, nn_precision, nn_recall, nn_f1]\n",
    "\n",
    "# 棒グラフを描画\n",
    "bar_width = 0.15  # 棒の幅\n",
    "index = np.arange(len(x_labels))  # X軸の位置\n",
    "\n",
    "colors = ['tab:blue', 'tab:orange', 'tab:green', 'tab:red'] #, 'tab:purple']\n",
    "\n",
    "plt.bar(index - 1.5 * bar_width, SVM, bar_width, label='SVM', align='center', color=colors[0], alpha=0.5)\n",
    "plt.bar(index - bar_width/2, KNN, bar_width, label='KNN', align='center', color=colors[1], alpha=0.5)\n",
    "plt.bar(index + bar_width/2, RF, bar_width, label='Random Forest', align='center', color=colors[2], alpha=0.5)\n",
    "plt.bar(index + 1.5 * bar_width, NN, bar_width, label='Neural Network', align='center', color=colors[3], alpha=0.9)\n",
    "# X軸のラベルとタイトルを設定\n",
    "plt.xlabel(' ', fontsize=12)\n",
    "plt.ylabel('Score', fontsize=12)\n",
    "plt.xticks(index, x_labels, fontsize=12)\n",
    "plt.title('Evaluation of learning methods (Negative ion mode)', fontsize=13)\n",
    "\n",
    "# 凡例を表示\n",
    "plt.legend(bbox_to_anchor=(1.05, 1.0), loc='upper left')\n",
    "plt.ylim([0, 1])\n",
    "\n",
    "#plt.savefig('Data/svg/model/method/neg_method_f1score.svg', format='svg', dpi=300, bbox_inches='tight')\n",
    "plt.show()"
   ]
  }
 ],
 "metadata": {
  "kernelspec": {
   "display_name": "Python 3 (ipykernel)",
   "language": "python",
   "name": "python3"
  },
  "language_info": {
   "codemirror_mode": {
    "name": "ipython",
    "version": 3
   },
   "file_extension": ".py",
   "mimetype": "text/x-python",
   "name": "python",
   "nbconvert_exporter": "python",
   "pygments_lexer": "ipython3",
   "version": "3.11.6"
  }
 },
 "nbformat": 4,
 "nbformat_minor": 4
}
