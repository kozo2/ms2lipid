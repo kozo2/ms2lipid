{
 "cells": [
  {
   "cell_type": "code",
   "execution_count": 1,
   "id": "091b9b0c",
   "metadata": {},
   "outputs": [
    {
     "name": "stdout",
     "output_type": "stream",
     "text": [
      "/home/jovyan/work/spectrum/c_final/v1\n"
     ]
    }
   ],
   "source": [
    "%cd .."
   ]
  },
  {
   "cell_type": "code",
   "execution_count": 2,
   "id": "94317d60-79fe-4250-b040-2a10cc3de902",
   "metadata": {},
   "outputs": [
    {
     "name": "stderr",
     "output_type": "stream",
     "text": [
      "2024-02-27 08:50:59.184078: I tensorflow/core/util/port.cc:113] oneDNN custom operations are on. You may see slightly different numerical results due to floating-point round-off errors from different computation orders. To turn them off, set the environment variable `TF_ENABLE_ONEDNN_OPTS=0`.\n",
      "2024-02-27 08:50:59.219121: E external/local_xla/xla/stream_executor/cuda/cuda_dnn.cc:9261] Unable to register cuDNN factory: Attempting to register factory for plugin cuDNN when one has already been registered\n",
      "2024-02-27 08:50:59.219154: E external/local_xla/xla/stream_executor/cuda/cuda_fft.cc:607] Unable to register cuFFT factory: Attempting to register factory for plugin cuFFT when one has already been registered\n",
      "2024-02-27 08:50:59.220012: E external/local_xla/xla/stream_executor/cuda/cuda_blas.cc:1515] Unable to register cuBLAS factory: Attempting to register factory for plugin cuBLAS when one has already been registered\n",
      "2024-02-27 08:50:59.225752: I tensorflow/core/platform/cpu_feature_guard.cc:182] This TensorFlow binary is optimized to use available CPU instructions in performance-critical operations.\n",
      "To enable the following instructions: AVX2 AVX512F AVX512_VNNI FMA, in other operations, rebuild TensorFlow with the appropriate compiler flags.\n",
      "2024-02-27 08:51:00.013337: W tensorflow/compiler/tf2tensorrt/utils/py_utils.cc:38] TF-TRT Warning: Could not find TensorRT\n"
     ]
    }
   ],
   "source": [
    "import pandas as pd\n",
    "import base\n",
    "import os"
   ]
  },
  {
   "cell_type": "code",
   "execution_count": 3,
   "id": "fb488ea2",
   "metadata": {},
   "outputs": [],
   "source": [
    "SEED = 42\n",
    "base.fix_seed(SEED)\n",
    "\n",
    "desired_directory = '/home/jovyan/work/spectrum/'\n",
    "os.chdir(desired_directory)"
   ]
  },
  {
   "cell_type": "code",
   "execution_count": 3,
   "id": "c9fcdcf7",
   "metadata": {},
   "outputs": [],
   "source": [
    "df = base.import_sqlite3_data('Data/01_sqlite_data/ms2_lipid2.db')"
   ]
  },
  {
   "cell_type": "code",
   "execution_count": 16,
   "id": "b312d8e5",
   "metadata": {},
   "outputs": [
    {
     "data": {
      "text/plain": [
       "dataset\n",
       "_Pos.txt    50677\n",
       "_Neg.txt    31778\n",
       "Name: count, dtype: int64"
      ]
     },
     "execution_count": 16,
     "metadata": {},
     "output_type": "execute_result"
    }
   ],
   "source": [
    "df['dataset'].str[-8:].value_counts()"
   ]
  },
  {
   "cell_type": "code",
   "execution_count": 18,
   "id": "2a4cfc49",
   "metadata": {},
   "outputs": [
    {
     "data": {
      "text/plain": [
       "82"
      ]
     },
     "execution_count": 18,
     "metadata": {},
     "output_type": "execute_result"
    }
   ],
   "source": [
    "len(df['dataset'].str[:-8].unique())"
   ]
  },
  {
   "cell_type": "code",
   "execution_count": 5,
   "id": "1a15f9d9-cc4a-42fd-bfe9-38a2501e31f8",
   "metadata": {},
   "outputs": [],
   "source": [
    "df = base.import_sqlite3_data('Data/01_sqlite_data/ms2_lipid2.db')\n",
    "df = df[df['Comment'].str.lower() == \"ok\"]\n",
    "df = df[~df['Metabolitename'].str.contains('\\(d')]"
   ]
  },
  {
   "cell_type": "code",
   "execution_count": 6,
   "id": "ebfccbec-9ae1-425e-bc6c-cd69c08c3ce0",
   "metadata": {},
   "outputs": [
    {
     "name": "stdout",
     "output_type": "stream",
     "text": [
      "39864 39864 19726 20138\n"
     ]
    }
   ],
   "source": [
    "df_pos = df[df['Adducttype'].str.contains('\\]\\+') | df['Adducttype'].str.contains('\\]2\\+')]\n",
    "df_neg = df[df['Adducttype'].str.contains('\\]\\-') | df['Adducttype'].str.contains('\\]2\\-')]\n",
    "print(len(df), len(df_pos)+len(df_neg), len(df_pos), len(df_neg))"
   ]
  },
  {
   "cell_type": "code",
   "execution_count": 7,
   "id": "25bdb985",
   "metadata": {},
   "outputs": [],
   "source": [
    "df_pos.to_csv('Data/02_basedata/pos/df_pos.csv' )\n",
    "df_neg.to_csv('Data/02_basedata/neg/df_neg.csv')"
   ]
  },
  {
   "cell_type": "markdown",
   "id": "d4b2071e",
   "metadata": {},
   "source": [
    "converted horizontally"
   ]
  },
  {
   "cell_type": "code",
   "execution_count": 9,
   "id": "7e8e2e6f-318e-4870-ac87-ab7ddcf05181",
   "metadata": {},
   "outputs": [],
   "source": [
    "df_pos_exp_ = base.spectrum_tidy(df_pos)\n",
    "df_pos_neuloss_ = base.neutralloss_tidy(df_pos)\n",
    "df_pos_data = base.spectrum_neutralloss_table(df_pos_exp_, df_pos_neuloss_)#, df_pos_remainder_)\n",
    "\n",
    "df_pos_data_ = pd.merge(df_pos_data, df[['Metabolitename','Ontology','dataset','AlignmentID','AverageMz']],\\\n",
    "                        on=['Metabolitename','Ontology','dataset','AlignmentID','AverageMz'], how='left')\n",
    "df_pos_data_ = df_pos_data_[~df_pos_data_['Metabolitename'].str.contains(\"also known as\")]. \\\n",
    "               set_index(['Metabolitename','Ontology','dataset','AlignmentID','AverageMz'])"
   ]
  },
  {
   "cell_type": "code",
   "execution_count": 11,
   "id": "1311e515-f5de-426b-b7b6-9bcb844dcdad",
   "metadata": {
    "scrolled": true
   },
   "outputs": [],
   "source": [
    "df_neg_exp_ = base.spectrum_tidy(df_neg)\n",
    "df_neg_neuloss_ = base.neutralloss_tidy(df_neg)\n",
    "df_neg_data = base.spectrum_neutralloss_table(df_neg_exp_, df_neg_neuloss_)\n",
    "\n",
    "df_neg_data_ = pd.merge(df_neg_data, df[['Metabolitename','Ontology','dataset','AlignmentID','AverageMz']],\\\n",
    "                        on=['Metabolitename','Ontology','dataset','AlignmentID','AverageMz'], how='left')\n",
    "df_neg_data_ = df_neg_data_[~df_neg_data_['Metabolitename'].str.contains(\"also known as\")]. \\\n",
    "               set_index(['Metabolitename','Ontology','dataset','AlignmentID','AverageMz'])"
   ]
  },
  {
   "cell_type": "code",
   "execution_count": 11,
   "id": "e8b9d177-83d7-4e61-bb21-3d40a9b466ad",
   "metadata": {},
   "outputs": [],
   "source": [
    "df_pos_data_.to_csv('Data/02_basedata/pos/df_pos_data_.csv')\n",
    "df_neg_data_.to_csv('Data/02_basedata/neg/df_neg_data_.csv')\n",
    "df.to_csv('Data/02_basedata/df.csv')"
   ]
  }
 ],
 "metadata": {
  "kernelspec": {
   "display_name": "Python 3 (ipykernel)",
   "language": "python",
   "name": "python3"
  },
  "language_info": {
   "codemirror_mode": {
    "name": "ipython",
    "version": 3
   },
   "file_extension": ".py",
   "mimetype": "text/x-python",
   "name": "python",
   "nbconvert_exporter": "python",
   "pygments_lexer": "ipython3",
   "version": "3.11.6"
  }
 },
 "nbformat": 4,
 "nbformat_minor": 5
}
