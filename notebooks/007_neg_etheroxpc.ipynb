{
 "cells": [
  {
   "cell_type": "code",
   "execution_count": 1,
   "id": "a0ccc130",
   "metadata": {},
   "outputs": [
    {
     "name": "stderr",
     "output_type": "stream",
     "text": [
      "2024-01-05 06:27:52.832322: I tensorflow/core/util/port.cc:113] oneDNN custom operations are on. You may see slightly different numerical results due to floating-point round-off errors from different computation orders. To turn them off, set the environment variable `TF_ENABLE_ONEDNN_OPTS=0`.\n",
      "2024-01-05 06:27:52.869543: E external/local_xla/xla/stream_executor/cuda/cuda_dnn.cc:9261] Unable to register cuDNN factory: Attempting to register factory for plugin cuDNN when one has already been registered\n",
      "2024-01-05 06:27:52.869582: E external/local_xla/xla/stream_executor/cuda/cuda_fft.cc:607] Unable to register cuFFT factory: Attempting to register factory for plugin cuFFT when one has already been registered\n",
      "2024-01-05 06:27:52.870593: E external/local_xla/xla/stream_executor/cuda/cuda_blas.cc:1515] Unable to register cuBLAS factory: Attempting to register factory for plugin cuBLAS when one has already been registered\n",
      "2024-01-05 06:27:52.876975: I tensorflow/core/platform/cpu_feature_guard.cc:182] This TensorFlow binary is optimized to use available CPU instructions in performance-critical operations.\n",
      "To enable the following instructions: AVX2 AVX512F AVX512_VNNI FMA, in other operations, rebuild TensorFlow with the appropriate compiler flags.\n",
      "2024-01-05 06:27:53.704949: W tensorflow/compiler/tf2tensorrt/utils/py_utils.cc:38] TF-TRT Warning: Could not find TensorRT\n"
     ]
    }
   ],
   "source": [
    "import pandas as pd\n",
    "import base\n",
    "import os\n",
    "import pickle\n",
    "from keras.models import load_model\n",
    "import numpy as np"
   ]
  },
  {
   "cell_type": "code",
   "execution_count": 2,
   "id": "8cd6de0f",
   "metadata": {},
   "outputs": [],
   "source": [
    "SEED = 42\n",
    "base.fix_seed(SEED)\n",
    "\n",
    "desired_directory = '/home/jovyan/work/spectrum/'\n",
    "os.chdir(desired_directory)"
   ]
  },
  {
   "cell_type": "code",
   "execution_count": 3,
   "id": "38589403-fe1e-4342-85cd-56028457430d",
   "metadata": {},
   "outputs": [],
   "source": [
    "from keras.models import load_model\n",
    "loaded_negmodel = load_model(\"Data/03_model/neg/neg_class_model_3\")\n",
    "    \n",
    "with open('Data/03_model/neg/negmodelcolumn_all.pkl', 'rb') as file:\n",
    "    loaded_negcolumns = pickle.load(file)\n",
    "        \n",
    "with open('Data/03_model/neg/neg_replacement_dict_all.pkl', 'rb') as file:\n",
    "    replacement_dict = pickle.load(file)"
   ]
  },
  {
   "cell_type": "code",
   "execution_count": 4,
   "id": "1c7ea2c7-9a84-4855-8fd3-8593009b0060",
   "metadata": {},
   "outputs": [],
   "source": [
    "df_neg = pd.read_csv('Data/02_basedata/neg/df_neg.csv')[['Ontology','Metabolitename','MSMSspectrum','AverageMz']].reset_index().rename(columns={'index':'ID'})"
   ]
  },
  {
   "cell_type": "code",
   "execution_count": 5,
   "id": "2d09dbcd-59fe-4d01-ab29-aefa7ec16694",
   "metadata": {},
   "outputs": [],
   "source": [
    "df_rep = pd.DataFrame(list(replacement_dict.items()), columns=['Ontology', 'Value'])"
   ]
  },
  {
   "cell_type": "markdown",
   "id": "d2d80f2e-cbf3-4d3a-9dbf-876298098146",
   "metadata": {},
   "source": [
    "モデルに入っていないが、データとして持っている脂質クラス"
   ]
  },
  {
   "cell_type": "code",
   "execution_count": 6,
   "id": "7a00e48e-5fb7-4c85-a238-1a2a72982d23",
   "metadata": {},
   "outputs": [
    {
     "data": {
      "text/plain": [
       "['FA',\n",
       " 'Others',\n",
       " 'NGcGM3',\n",
       " 'MLCL',\n",
       " 'DGMG',\n",
       " 'Cer_BDS',\n",
       " 'SHex',\n",
       " 'AHexCAS',\n",
       " 'AHexSTS',\n",
       " 'ADGGA',\n",
       " 'LNAPS',\n",
       " 'DGGA',\n",
       " 'EtherOxPC',\n",
       " 'AHexBRS',\n",
       " 'MGMG',\n",
       " 'DGDG',\n",
       " 'DCAE',\n",
       " 'SMGDG',\n",
       " 'GD2',\n",
       " 'GQ1b']"
      ]
     },
     "execution_count": 6,
     "metadata": {},
     "output_type": "execute_result"
    }
   ],
   "source": [
    "df_neg[~df_neg['Ontology'].isin(df_rep.Ontology.tolist())].Ontology.drop_duplicates().tolist()"
   ]
  },
  {
   "cell_type": "code",
   "execution_count": 24,
   "id": "e98285a9",
   "metadata": {},
   "outputs": [],
   "source": [
    "df_neg2 = df_neg[df_neg['Ontology'].isin(['EtherOxPC','EtherPC'])]"
   ]
  },
  {
   "cell_type": "code",
   "execution_count": 51,
   "id": "a30cd1d2-f70d-46c0-b117-f469d952bcb0",
   "metadata": {},
   "outputs": [],
   "source": [
    "df_neg_exp_ = base.spectrum_tidy_f(df_neg2)\n",
    "df_neg_neuloss_ = base.neutralloss_tidy_f(df_neg2)\n",
    "df_neg_data = base.spectrum_neutralloss_table_f(df_neg_exp_, df_neg_neuloss_)\n",
    "\n",
    "df_neg_data['div2'] = df_neg_data['AverageMz'].round().astype(int) % 2\n",
    "df_neg_data['modnum'] = base.cal_mod(df_neg_data['AverageMz'])"
   ]
  },
  {
   "cell_type": "code",
   "execution_count": 26,
   "id": "51f6a893-1720-43e2-8960-8b43785a8b59",
   "metadata": {},
   "outputs": [
    {
     "name": "stdout",
     "output_type": "stream",
     "text": [
      " 1/14 [=>............................] - ETA: 0s"
     ]
    },
    {
     "name": "stdout",
     "output_type": "stream",
     "text": [
      "14/14 [==============================] - 0s 6ms/step\n"
     ]
    }
   ],
   "source": [
    "columns_to_drop = ['ID', 'AverageMz', 'Metabolitename', 'Ontology']\n",
    "df_neg_data.columns = df_neg_data.columns.astype('str')\n",
    "X1_test = df_neg_data[loaded_negcolumns]\n",
    "y_pred_test = loaded_negmodel.predict(X1_test)"
   ]
  },
  {
   "cell_type": "code",
   "execution_count": 27,
   "id": "0a959ce2-9668-43f6-9f01-f0a751627230",
   "metadata": {},
   "outputs": [],
   "source": [
    "replacement_dict_reversed = {value: key for key, value in replacement_dict.items()}\n",
    "\n",
    "df_replacement_dict_reversed = pd.DataFrame(columns=['replaced_num', 'replaced_name'])\n",
    "for replacement, original in replacement_dict_reversed.items():\n",
    "    df_replacement_dict_reversed = pd.concat([df_replacement_dict_reversed, pd.DataFrame({'replaced_num': [replacement], 'replaced_name': [original]})], ignore_index=True)"
   ]
  },
  {
   "cell_type": "code",
   "execution_count": 67,
   "id": "0e5d3233-59ef-49bd-a367-5bfb15b643fb",
   "metadata": {},
   "outputs": [],
   "source": [
    "df_pred_test = pd.DataFrame(y_pred_test).rename(columns=df_replacement_dict_reversed['replaced_name'])\n",
    "df_pred_test.index = df_neg2.ID\n",
    "\n",
    "y_pred_test_max = np.argmax(y_pred_test, axis=1)\n",
    "y_pred_test_max_ = np.vectorize(base.apply_replacement)(y_pred_test_max, replacement_dict_reversed)\n",
    "\n",
    "df_pred_test['pred_1class'] = y_pred_test_max_\n",
    "df_pred_test['pred_class'] = df_pred_test.drop('pred_1class', axis=1).apply(base.create_pred_class, axis=1)\n",
    "df_pred_test['pred_number'] = df_pred_test['pred_class'].apply(lambda x: len(x.split(',')))"
   ]
  },
  {
   "cell_type": "code",
   "execution_count": 68,
   "id": "7ae972bc-157d-4a73-9543-30a6c5be1512",
   "metadata": {},
   "outputs": [],
   "source": [
    "df_pred_result = df_pred_test[['pred_1class','pred_class','pred_number']].reset_index()"
   ]
  },
  {
   "cell_type": "code",
   "execution_count": 69,
   "id": "74ec7e1a-b959-402d-aece-2c3f37fbba7d",
   "metadata": {
    "scrolled": true
   },
   "outputs": [
    {
     "data": {
      "text/html": [
       "<div>\n",
       "<style scoped>\n",
       "    .dataframe tbody tr th:only-of-type {\n",
       "        vertical-align: middle;\n",
       "    }\n",
       "\n",
       "    .dataframe tbody tr th {\n",
       "        vertical-align: top;\n",
       "    }\n",
       "\n",
       "    .dataframe thead th {\n",
       "        text-align: right;\n",
       "    }\n",
       "</style>\n",
       "<table border=\"1\" class=\"dataframe\">\n",
       "  <thead>\n",
       "    <tr style=\"text-align: right;\">\n",
       "      <th></th>\n",
       "      <th>ID</th>\n",
       "      <th>pred_1class</th>\n",
       "      <th>pred_class</th>\n",
       "      <th>pred_number</th>\n",
       "      <th>Metabolitename</th>\n",
       "      <th>Ontology</th>\n",
       "    </tr>\n",
       "  </thead>\n",
       "  <tbody>\n",
       "    <tr>\n",
       "      <th>262</th>\n",
       "      <td>5366</td>\n",
       "      <td>EtherPC</td>\n",
       "      <td>EtherPC:1.0</td>\n",
       "      <td>1</td>\n",
       "      <td>PC O-33:1;1O|PC O-18:0_15:1;1O</td>\n",
       "      <td>EtherOxPC</td>\n",
       "    </tr>\n",
       "    <tr>\n",
       "      <th>387</th>\n",
       "      <td>8210</td>\n",
       "      <td>EtherPC</td>\n",
       "      <td>EtherPC:1.0</td>\n",
       "      <td>1</td>\n",
       "      <td>PC O-31:1;1O|PC O-16:0_15:1;1O</td>\n",
       "      <td>EtherOxPC</td>\n",
       "    </tr>\n",
       "    <tr>\n",
       "      <th>399</th>\n",
       "      <td>8492</td>\n",
       "      <td>EtherPC</td>\n",
       "      <td>EtherPC:1.0</td>\n",
       "      <td>1</td>\n",
       "      <td>PC O-33:1;1O|PC O-18:0_15:1;1O</td>\n",
       "      <td>EtherOxPC</td>\n",
       "    </tr>\n",
       "  </tbody>\n",
       "</table>\n",
       "</div>"
      ],
      "text/plain": [
       "       ID pred_1class   pred_class  pred_number  \\\n",
       "262  5366     EtherPC  EtherPC:1.0            1   \n",
       "387  8210     EtherPC  EtherPC:1.0            1   \n",
       "399  8492     EtherPC  EtherPC:1.0            1   \n",
       "\n",
       "                     Metabolitename   Ontology  \n",
       "262  PC O-33:1;1O|PC O-18:0_15:1;1O  EtherOxPC  \n",
       "387  PC O-31:1;1O|PC O-16:0_15:1;1O  EtherOxPC  \n",
       "399  PC O-33:1;1O|PC O-18:0_15:1;1O  EtherOxPC  "
      ]
     },
     "execution_count": 69,
     "metadata": {},
     "output_type": "execute_result"
    }
   ],
   "source": [
    "df_pred_result.merge(df_neg2[['ID','Metabolitename','Ontology']],how='inner',on='ID').query('Ontology == \"EtherOxPC\"')"
   ]
  },
  {
   "cell_type": "code",
   "execution_count": 83,
   "id": "b28406d0",
   "metadata": {},
   "outputs": [
    {
     "data": {
      "text/plain": [
       "Index([   70,    71,    72,    73,    74,    75,    76,    77,    78,    79,\n",
       "       ...\n",
       "       -1241, -1242, -1243, -1244, -1245, -1246, -1247, -1248, -1249, -1250],\n",
       "      dtype='object', length=2422)"
      ]
     },
     "execution_count": 83,
     "metadata": {},
     "output_type": "execute_result"
    }
   ],
   "source": [
    "df_neg_data_posint.columns"
   ]
  },
  {
   "cell_type": "code",
   "execution_count": 93,
   "id": "50c31ec7-411c-4b98-8d22-afb9951ee0f0",
   "metadata": {},
   "outputs": [],
   "source": [
    "df_neg_data_posint = df_neg_data.set_index('ID').drop(columns=['AverageMz', 'Metabolitename', 'Ontology', 'div2', 'modnum', 'MSMSspectrum'])\n",
    "df_neg_data_posint = pd.DataFrame(df_neg_data_posint.T).reset_index().query('index > 0').set_index('index').T"
   ]
  },
  {
   "cell_type": "code",
   "execution_count": 94,
   "id": "6c049e0f-2911-4132-91d6-022d4ae66a33",
   "metadata": {},
   "outputs": [
    {
     "data": {
      "image/png": "[encoded data removed]",
      "text/plain": [
       "<Figure size 400x300 with 1 Axes>"
      ]
     },
     "metadata": {},
     "output_type": "display_data"
    }
   ],
   "source": [
    "import matplotlib.pyplot as plt\n",
    "\n",
    "Alignmnentid = 8492\n",
    "df1= pd.DataFrame(df_neg_data_posint.loc[Alignmnentid]).reset_index().rename(columns={'index':'mz',Alignmnentid:'exp'}).astype('float')\n",
    "\n",
    "fig, axs = plt.subplots(1, 1, figsize=(4, 3))\n",
    "\n",
    "axs.plot(df1['mz'], df1['exp'], color='black')\n",
    "axs.set_xlabel('M/Z', fontsize=12)\n",
    "axs.set_ylabel('Intensity', fontsize=12)\n",
    "axs.set_title('Alignment ID: ' + str(Alignmnentid), fontsize=12)\n",
    "axs.set_xlim(0, 1250)\n",
    "\n",
    "plt.savefig('Data/svg/model/result/neg/data_id8492_etheroxpc.svg', format='svg', bbox_inches='tight')\n",
    "\n",
    "plt.show()"
   ]
  },
  {
   "cell_type": "code",
   "execution_count": 95,
   "id": "8adfee45-d299-46d4-9e35-41fdc839538f",
   "metadata": {},
   "outputs": [
    {
     "data": {
      "text/html": [
       "<div>\n",
       "<style scoped>\n",
       "    .dataframe tbody tr th:only-of-type {\n",
       "        vertical-align: middle;\n",
       "    }\n",
       "\n",
       "    .dataframe tbody tr th {\n",
       "        vertical-align: top;\n",
       "    }\n",
       "\n",
       "    .dataframe thead th {\n",
       "        text-align: right;\n",
       "    }\n",
       "</style>\n",
       "<table border=\"1\" class=\"dataframe\">\n",
       "  <thead>\n",
       "    <tr style=\"text-align: right;\">\n",
       "      <th></th>\n",
       "      <th>ID</th>\n",
       "      <th>Ontology</th>\n",
       "      <th>Metabolitename</th>\n",
       "      <th>MSMSspectrum</th>\n",
       "      <th>AverageMz</th>\n",
       "    </tr>\n",
       "  </thead>\n",
       "  <tbody>\n",
       "    <tr>\n",
       "      <th>8492</th>\n",
       "      <td>8492</td>\n",
       "      <td>EtherOxPC</td>\n",
       "      <td>PC O-33:1;1O|PC O-18:0_15:1;1O</td>\n",
       "      <td>150.45016:12 254.44296:12 255.23:517 281.23108...</td>\n",
       "      <td>806.591</td>\n",
       "    </tr>\n",
       "  </tbody>\n",
       "</table>\n",
       "</div>"
      ],
      "text/plain": [
       "        ID   Ontology                  Metabolitename  \\\n",
       "8492  8492  EtherOxPC  PC O-33:1;1O|PC O-18:0_15:1;1O   \n",
       "\n",
       "                                           MSMSspectrum  AverageMz  \n",
       "8492  150.45016:12 254.44296:12 255.23:517 281.23108...    806.591  "
      ]
     },
     "execution_count": 95,
     "metadata": {},
     "output_type": "execute_result"
    }
   ],
   "source": [
    "df_neg.query('ID == 8492')"
   ]
  },
  {
   "cell_type": "code",
   "execution_count": 96,
   "id": "e29c1323-b961-4a1d-a3c2-e457d828698c",
   "metadata": {},
   "outputs": [
    {
     "data": {
      "text/html": [
       "<div>\n",
       "<style scoped>\n",
       "    .dataframe tbody tr th:only-of-type {\n",
       "        vertical-align: middle;\n",
       "    }\n",
       "\n",
       "    .dataframe tbody tr th {\n",
       "        vertical-align: top;\n",
       "    }\n",
       "\n",
       "    .dataframe thead th {\n",
       "        text-align: right;\n",
       "    }\n",
       "</style>\n",
       "<table border=\"1\" class=\"dataframe\">\n",
       "  <thead>\n",
       "    <tr style=\"text-align: right;\">\n",
       "      <th></th>\n",
       "      <th>mz</th>\n",
       "      <th>int</th>\n",
       "    </tr>\n",
       "  </thead>\n",
       "  <tbody>\n",
       "    <tr>\n",
       "      <th>0</th>\n",
       "      <td>150.45016</td>\n",
       "      <td>12.0</td>\n",
       "    </tr>\n",
       "    <tr>\n",
       "      <th>1</th>\n",
       "      <td>254.44296</td>\n",
       "      <td>12.0</td>\n",
       "    </tr>\n",
       "    <tr>\n",
       "      <th>2</th>\n",
       "      <td>255.23000</td>\n",
       "      <td>517.0</td>\n",
       "    </tr>\n",
       "    <tr>\n",
       "      <th>3</th>\n",
       "      <td>281.23108</td>\n",
       "      <td>12.0</td>\n",
       "    </tr>\n",
       "    <tr>\n",
       "      <th>4</th>\n",
       "      <td>476.30865</td>\n",
       "      <td>36.0</td>\n",
       "    </tr>\n",
       "    <tr>\n",
       "      <th>5</th>\n",
       "      <td>494.32233</td>\n",
       "      <td>48.0</td>\n",
       "    </tr>\n",
       "    <tr>\n",
       "      <th>6</th>\n",
       "      <td>732.55090</td>\n",
       "      <td>319.0</td>\n",
       "    </tr>\n",
       "    <tr>\n",
       "      <th>7</th>\n",
       "      <td>806.56995</td>\n",
       "      <td>24.0</td>\n",
       "    </tr>\n",
       "    <tr>\n",
       "      <th>8</th>\n",
       "      <td>806.58850</td>\n",
       "      <td>24.0</td>\n",
       "    </tr>\n",
       "  </tbody>\n",
       "</table>\n",
       "</div>"
      ],
      "text/plain": [
       "          mz    int\n",
       "0  150.45016   12.0\n",
       "1  254.44296   12.0\n",
       "2  255.23000  517.0\n",
       "3  281.23108   12.0\n",
       "4  476.30865   36.0\n",
       "5  494.32233   48.0\n",
       "6  732.55090  319.0\n",
       "7  806.56995   24.0\n",
       "8  806.58850   24.0"
      ]
     },
     "execution_count": 96,
     "metadata": {},
     "output_type": "execute_result"
    }
   ],
   "source": [
    "Alignmnentid = 8492\n",
    "\n",
    "element_list = df_neg[df_neg['ID'] == Alignmnentid]['MSMSspectrum'].str.split(' ')\n",
    "\n",
    "mz_list = []\n",
    "int_list = []\n",
    "\n",
    "for element in element_list:\n",
    "    for i in element:\n",
    "        i_div = i.split(':')\n",
    "        mz = i_div[0]\n",
    "        int_val = i_div[1]\n",
    "\n",
    "        mz_list.append(mz)\n",
    "        int_list.append(int_val)\n",
    "\n",
    "df = pd.DataFrame(list(zip(mz_list, int_list))).rename(columns={0:'mz',1:'int'}).astype(float)\n",
    "df#.query('int > ')"
   ]
  },
  {
   "cell_type": "code",
   "execution_count": null,
   "id": "a90415f9-1cb2-4e24-b0b1-5bd026aa4cf5",
   "metadata": {},
   "outputs": [],
   "source": []
  },
  {
   "cell_type": "markdown",
   "id": "7c1d1d13",
   "metadata": {},
   "source": [
    "EtherPC"
   ]
  },
  {
   "cell_type": "code",
   "execution_count": 104,
   "id": "7bf18724-00dc-4359-9c58-81e95b40d808",
   "metadata": {},
   "outputs": [
    {
     "data": {
      "text/html": [
       "<div>\n",
       "<style scoped>\n",
       "    .dataframe tbody tr th:only-of-type {\n",
       "        vertical-align: middle;\n",
       "    }\n",
       "\n",
       "    .dataframe tbody tr th {\n",
       "        vertical-align: top;\n",
       "    }\n",
       "\n",
       "    .dataframe thead th {\n",
       "        text-align: right;\n",
       "    }\n",
       "</style>\n",
       "<table border=\"1\" class=\"dataframe\">\n",
       "  <thead>\n",
       "    <tr style=\"text-align: right;\">\n",
       "      <th></th>\n",
       "      <th>ID</th>\n",
       "      <th>Ontology</th>\n",
       "      <th>Metabolitename</th>\n",
       "      <th>MSMSspectrum</th>\n",
       "      <th>AverageMz</th>\n",
       "    </tr>\n",
       "  </thead>\n",
       "  <tbody>\n",
       "    <tr>\n",
       "      <th>186</th>\n",
       "      <td>186</td>\n",
       "      <td>EtherPC</td>\n",
       "      <td>PC O-32:1|PC O-16:1_16:0</td>\n",
       "      <td>214.05402:10 224.06561:36 227.20271:36 236.177...</td>\n",
       "      <td>776.57532</td>\n",
       "    </tr>\n",
       "    <tr>\n",
       "      <th>923</th>\n",
       "      <td>923</td>\n",
       "      <td>EtherPC</td>\n",
       "      <td>PC O-32:1|PC O-16:1_16:0</td>\n",
       "      <td>78.95854:36 143.0993:24 152.99664:36 156.36185...</td>\n",
       "      <td>776.58258</td>\n",
       "    </tr>\n",
       "    <tr>\n",
       "      <th>1426</th>\n",
       "      <td>1426</td>\n",
       "      <td>EtherPC</td>\n",
       "      <td>PC O-32:1|PC O-16:1_16:0</td>\n",
       "      <td>119.03457:12 168.04399:24 224.06296:24 227.200...</td>\n",
       "      <td>776.58130</td>\n",
       "    </tr>\n",
       "    <tr>\n",
       "      <th>4178</th>\n",
       "      <td>4178</td>\n",
       "      <td>EtherPC</td>\n",
       "      <td>PC O-32:1|PC O-16:1_16:0</td>\n",
       "      <td>156.45561:5 224.05797:6 239.21527:6 239.2283:1...</td>\n",
       "      <td>776.58679</td>\n",
       "    </tr>\n",
       "    <tr>\n",
       "      <th>4988</th>\n",
       "      <td>4988</td>\n",
       "      <td>EtherPC</td>\n",
       "      <td>PC O-32:1|PC O-16:1_16:0</td>\n",
       "      <td>224.05461:12 227.19569:36 255.22812:999 329.23...</td>\n",
       "      <td>776.58112</td>\n",
       "    </tr>\n",
       "    <tr>\n",
       "      <th>5701</th>\n",
       "      <td>5701</td>\n",
       "      <td>EtherPC</td>\n",
       "      <td>PC O-32:1|PC O-16:1_16:0</td>\n",
       "      <td>163.64197:10 168.03917:24 224.05898:12 224.065...</td>\n",
       "      <td>776.58276</td>\n",
       "    </tr>\n",
       "    <tr>\n",
       "      <th>6029</th>\n",
       "      <td>6029</td>\n",
       "      <td>EtherPC</td>\n",
       "      <td>PC O-32:1|PC O-16:1_16:0</td>\n",
       "      <td>78.95984:18 168.03217:6 168.04308:18 224.06918...</td>\n",
       "      <td>776.58258</td>\n",
       "    </tr>\n",
       "    <tr>\n",
       "      <th>7282</th>\n",
       "      <td>7282</td>\n",
       "      <td>EtherPC</td>\n",
       "      <td>PC O-32:1|PC O-16:1_16:0</td>\n",
       "      <td>168.04744:24 224.0731:24 237.21976:12 253.2183...</td>\n",
       "      <td>776.58215</td>\n",
       "    </tr>\n",
       "    <tr>\n",
       "      <th>7454</th>\n",
       "      <td>7454</td>\n",
       "      <td>EtherPC</td>\n",
       "      <td>PC O-32:1|PC O-16:1_16:0</td>\n",
       "      <td>168.0412:7 217.52303:1 224.06915:13 227.20618:...</td>\n",
       "      <td>776.57971</td>\n",
       "    </tr>\n",
       "    <tr>\n",
       "      <th>7677</th>\n",
       "      <td>7677</td>\n",
       "      <td>EtherPC</td>\n",
       "      <td>PC O-32:1|PC O-16:1_16:0</td>\n",
       "      <td>168.04317:12 188.37491:12 224.06342:12 255.229...</td>\n",
       "      <td>776.57654</td>\n",
       "    </tr>\n",
       "    <tr>\n",
       "      <th>8207</th>\n",
       "      <td>8207</td>\n",
       "      <td>EtherPC</td>\n",
       "      <td>PC O-32:1|PC O-16:1_16:0</td>\n",
       "      <td>78.95986:6 109.18031:3 163.01198:6 163.69217:3...</td>\n",
       "      <td>776.58069</td>\n",
       "    </tr>\n",
       "    <tr>\n",
       "      <th>9007</th>\n",
       "      <td>9007</td>\n",
       "      <td>EtherPC</td>\n",
       "      <td>PC O-32:1|PC O-16:1_16:0</td>\n",
       "      <td>227.19415:36 253.20901:129 255.22717:203 269.2...</td>\n",
       "      <td>776.57648</td>\n",
       "    </tr>\n",
       "    <tr>\n",
       "      <th>9008</th>\n",
       "      <td>9008</td>\n",
       "      <td>EtherPC</td>\n",
       "      <td>PC O-32:1|PC O-16:1_16:0</td>\n",
       "      <td>148.84999:12 168.03593:12 224.06133:12 227.196...</td>\n",
       "      <td>776.58038</td>\n",
       "    </tr>\n",
       "  </tbody>\n",
       "</table>\n",
       "</div>"
      ],
      "text/plain": [
       "        ID Ontology            Metabolitename  \\\n",
       "186    186  EtherPC  PC O-32:1|PC O-16:1_16:0   \n",
       "923    923  EtherPC  PC O-32:1|PC O-16:1_16:0   \n",
       "1426  1426  EtherPC  PC O-32:1|PC O-16:1_16:0   \n",
       "4178  4178  EtherPC  PC O-32:1|PC O-16:1_16:0   \n",
       "4988  4988  EtherPC  PC O-32:1|PC O-16:1_16:0   \n",
       "5701  5701  EtherPC  PC O-32:1|PC O-16:1_16:0   \n",
       "6029  6029  EtherPC  PC O-32:1|PC O-16:1_16:0   \n",
       "7282  7282  EtherPC  PC O-32:1|PC O-16:1_16:0   \n",
       "7454  7454  EtherPC  PC O-32:1|PC O-16:1_16:0   \n",
       "7677  7677  EtherPC  PC O-32:1|PC O-16:1_16:0   \n",
       "8207  8207  EtherPC  PC O-32:1|PC O-16:1_16:0   \n",
       "9007  9007  EtherPC  PC O-32:1|PC O-16:1_16:0   \n",
       "9008  9008  EtherPC  PC O-32:1|PC O-16:1_16:0   \n",
       "\n",
       "                                           MSMSspectrum  AverageMz  \n",
       "186   214.05402:10 224.06561:36 227.20271:36 236.177...  776.57532  \n",
       "923   78.95854:36 143.0993:24 152.99664:36 156.36185...  776.58258  \n",
       "1426  119.03457:12 168.04399:24 224.06296:24 227.200...  776.58130  \n",
       "4178  156.45561:5 224.05797:6 239.21527:6 239.2283:1...  776.58679  \n",
       "4988  224.05461:12 227.19569:36 255.22812:999 329.23...  776.58112  \n",
       "5701  163.64197:10 168.03917:24 224.05898:12 224.065...  776.58276  \n",
       "6029  78.95984:18 168.03217:6 168.04308:18 224.06918...  776.58258  \n",
       "7282  168.04744:24 224.0731:24 237.21976:12 253.2183...  776.58215  \n",
       "7454  168.0412:7 217.52303:1 224.06915:13 227.20618:...  776.57971  \n",
       "7677  168.04317:12 188.37491:12 224.06342:12 255.229...  776.57654  \n",
       "8207  78.95986:6 109.18031:3 163.01198:6 163.69217:3...  776.58069  \n",
       "9007  227.19415:36 253.20901:129 255.22717:203 269.2...  776.57648  \n",
       "9008  148.84999:12 168.03593:12 224.06133:12 227.196...  776.58038  "
      ]
     },
     "execution_count": 104,
     "metadata": {},
     "output_type": "execute_result"
    }
   ],
   "source": [
    "df_neg2[df_neg2['Ontology'] == \"EtherPC\"].query('Metabolitename == \"PC O-32:1|PC O-16:1_16:0\"')"
   ]
  },
  {
   "cell_type": "code",
   "execution_count": 105,
   "id": "d5882593-e696-45fe-990f-ac951e4fd78f",
   "metadata": {},
   "outputs": [
    {
     "data": {
      "image/png": "[encoded data removed]",
      "text/plain": [
       "<Figure size 400x300 with 1 Axes>"
      ]
     },
     "metadata": {},
     "output_type": "display_data"
    }
   ],
   "source": [
    "import matplotlib.pyplot as plt\n",
    "\n",
    "Alignmnentid = 1426\n",
    "df1= pd.DataFrame(df_neg_data_posint.loc[Alignmnentid]).reset_index().rename(columns={'index':'mz',Alignmnentid:'exp'}).astype('float')\n",
    "\n",
    "fig, axs = plt.subplots(1, 1, figsize=(4, 3))\n",
    "\n",
    "axs.plot(df1['mz'], df1['exp'], color='black')\n",
    "axs.set_xlabel('M/Z', fontsize=12)\n",
    "axs.set_ylabel('Intensity', fontsize=12)\n",
    "axs.set_title('Alignment ID: ' + str(Alignmnentid), fontsize=12)\n",
    "axs.set_xlim(0, 1250)\n",
    "\n",
    "plt.savefig('Data/svg/model/result/neg/data_id4173_etherpc.svg', format='svg', bbox_inches='tight')\n",
    "plt.show()"
   ]
  },
  {
   "cell_type": "code",
   "execution_count": 109,
   "id": "8e73dcc6-e2f2-40f1-9a4a-f31ddbe77f21",
   "metadata": {},
   "outputs": [
    {
     "data": {
      "text/html": [
       "<div>\n",
       "<style scoped>\n",
       "    .dataframe tbody tr th:only-of-type {\n",
       "        vertical-align: middle;\n",
       "    }\n",
       "\n",
       "    .dataframe tbody tr th {\n",
       "        vertical-align: top;\n",
       "    }\n",
       "\n",
       "    .dataframe thead th {\n",
       "        text-align: right;\n",
       "    }\n",
       "</style>\n",
       "<table border=\"1\" class=\"dataframe\">\n",
       "  <thead>\n",
       "    <tr style=\"text-align: right;\">\n",
       "      <th></th>\n",
       "      <th>mz</th>\n",
       "      <th>exp</th>\n",
       "    </tr>\n",
       "  </thead>\n",
       "  <tbody>\n",
       "    <tr>\n",
       "      <th>49</th>\n",
       "      <td>119.0</td>\n",
       "      <td>0.008804</td>\n",
       "    </tr>\n",
       "    <tr>\n",
       "      <th>98</th>\n",
       "      <td>168.0</td>\n",
       "      <td>0.017608</td>\n",
       "    </tr>\n",
       "    <tr>\n",
       "      <th>154</th>\n",
       "      <td>224.0</td>\n",
       "      <td>0.017608</td>\n",
       "    </tr>\n",
       "    <tr>\n",
       "      <th>157</th>\n",
       "      <td>227.0</td>\n",
       "      <td>0.008804</td>\n",
       "    </tr>\n",
       "    <tr>\n",
       "      <th>169</th>\n",
       "      <td>239.0</td>\n",
       "      <td>0.026412</td>\n",
       "    </tr>\n",
       "    <tr>\n",
       "      <th>179</th>\n",
       "      <td>249.0</td>\n",
       "      <td>0.008804</td>\n",
       "    </tr>\n",
       "    <tr>\n",
       "      <th>181</th>\n",
       "      <td>251.0</td>\n",
       "      <td>0.008804</td>\n",
       "    </tr>\n",
       "    <tr>\n",
       "      <th>184</th>\n",
       "      <td>254.0</td>\n",
       "      <td>0.017608</td>\n",
       "    </tr>\n",
       "    <tr>\n",
       "      <th>185</th>\n",
       "      <td>255.0</td>\n",
       "      <td>1.000000</td>\n",
       "    </tr>\n",
       "    <tr>\n",
       "      <th>186</th>\n",
       "      <td>256.0</td>\n",
       "      <td>0.044021</td>\n",
       "    </tr>\n",
       "    <tr>\n",
       "      <th>189</th>\n",
       "      <td>259.0</td>\n",
       "      <td>0.008804</td>\n",
       "    </tr>\n",
       "    <tr>\n",
       "      <th>220</th>\n",
       "      <td>290.0</td>\n",
       "      <td>0.008804</td>\n",
       "    </tr>\n",
       "    <tr>\n",
       "      <th>233</th>\n",
       "      <td>303.0</td>\n",
       "      <td>0.008804</td>\n",
       "    </tr>\n",
       "    <tr>\n",
       "      <th>234</th>\n",
       "      <td>304.0</td>\n",
       "      <td>0.008804</td>\n",
       "    </tr>\n",
       "    <tr>\n",
       "      <th>235</th>\n",
       "      <td>305.0</td>\n",
       "      <td>0.008804</td>\n",
       "    </tr>\n",
       "    <tr>\n",
       "      <th>259</th>\n",
       "      <td>329.0</td>\n",
       "      <td>0.067498</td>\n",
       "    </tr>\n",
       "    <tr>\n",
       "      <th>260</th>\n",
       "      <td>330.0</td>\n",
       "      <td>0.008804</td>\n",
       "    </tr>\n",
       "    <tr>\n",
       "      <th>305</th>\n",
       "      <td>375.0</td>\n",
       "      <td>0.008804</td>\n",
       "    </tr>\n",
       "    <tr>\n",
       "      <th>376</th>\n",
       "      <td>446.0</td>\n",
       "      <td>0.072634</td>\n",
       "    </tr>\n",
       "    <tr>\n",
       "      <th>393</th>\n",
       "      <td>463.0</td>\n",
       "      <td>0.008804</td>\n",
       "    </tr>\n",
       "    <tr>\n",
       "      <th>394</th>\n",
       "      <td>464.0</td>\n",
       "      <td>0.119589</td>\n",
       "    </tr>\n",
       "    <tr>\n",
       "      <th>395</th>\n",
       "      <td>465.0</td>\n",
       "      <td>0.026412</td>\n",
       "    </tr>\n",
       "    <tr>\n",
       "      <th>561</th>\n",
       "      <td>631.0</td>\n",
       "      <td>0.008804</td>\n",
       "    </tr>\n",
       "    <tr>\n",
       "      <th>587</th>\n",
       "      <td>657.0</td>\n",
       "      <td>0.008804</td>\n",
       "    </tr>\n",
       "    <tr>\n",
       "      <th>633</th>\n",
       "      <td>703.0</td>\n",
       "      <td>0.387381</td>\n",
       "    </tr>\n",
       "    <tr>\n",
       "      <th>634</th>\n",
       "      <td>704.0</td>\n",
       "      <td>0.052825</td>\n",
       "    </tr>\n",
       "    <tr>\n",
       "      <th>637</th>\n",
       "      <td>707.0</td>\n",
       "      <td>0.008804</td>\n",
       "    </tr>\n",
       "    <tr>\n",
       "      <th>648</th>\n",
       "      <td>718.0</td>\n",
       "      <td>0.017608</td>\n",
       "    </tr>\n",
       "    <tr>\n",
       "      <th>707</th>\n",
       "      <td>777.0</td>\n",
       "      <td>0.088041</td>\n",
       "    </tr>\n",
       "  </tbody>\n",
       "</table>\n",
       "</div>"
      ],
      "text/plain": [
       "        mz       exp\n",
       "49   119.0  0.008804\n",
       "98   168.0  0.017608\n",
       "154  224.0  0.017608\n",
       "157  227.0  0.008804\n",
       "169  239.0  0.026412\n",
       "179  249.0  0.008804\n",
       "181  251.0  0.008804\n",
       "184  254.0  0.017608\n",
       "185  255.0  1.000000\n",
       "186  256.0  0.044021\n",
       "189  259.0  0.008804\n",
       "220  290.0  0.008804\n",
       "233  303.0  0.008804\n",
       "234  304.0  0.008804\n",
       "235  305.0  0.008804\n",
       "259  329.0  0.067498\n",
       "260  330.0  0.008804\n",
       "305  375.0  0.008804\n",
       "376  446.0  0.072634\n",
       "393  463.0  0.008804\n",
       "394  464.0  0.119589\n",
       "395  465.0  0.026412\n",
       "561  631.0  0.008804\n",
       "587  657.0  0.008804\n",
       "633  703.0  0.387381\n",
       "634  704.0  0.052825\n",
       "637  707.0  0.008804\n",
       "648  718.0  0.017608\n",
       "707  777.0  0.088041"
      ]
     },
     "execution_count": 109,
     "metadata": {},
     "output_type": "execute_result"
    }
   ],
   "source": [
    "df1[df1['exp'] != 0]"
   ]
  },
  {
   "cell_type": "code",
   "execution_count": 110,
   "id": "c31e505a-6c53-4f79-ba1c-037893a3c9ff",
   "metadata": {
    "scrolled": true
   },
   "outputs": [
    {
     "name": "stderr",
     "output_type": "stream",
     "text": [
      "/tmp/ipykernel_66922/2488287015.py:2: SettingWithCopyWarning: \n",
      "A value is trying to be set on a copy of a slice from a DataFrame.\n",
      "Try using .loc[row_indexer,col_indexer] = value instead\n",
      "\n",
      "See the caveats in the documentation: https://pandas.pydata.org/pandas-docs/stable/user_guide/indexing.html#returning-a-view-versus-a-copy\n",
      "  df_negx['modnum'] = base.cal_mod(df_negx['AverageMz'])\n"
     ]
    }
   ],
   "source": [
    "df_negx = df_neg[df_neg['Ontology'].isin(['EtherPC','EtherOxPC'])]\n",
    "df_negx['modnum'] = base.cal_mod(df_negx['AverageMz'])"
   ]
  },
  {
   "cell_type": "code",
   "execution_count": 111,
   "id": "48b0d5ec-bca7-4709-a672-0b8a93bf0fec",
   "metadata": {},
   "outputs": [
    {
     "name": "stderr",
     "output_type": "stream",
     "text": [
      "/tmp/ipykernel_66922/3716260937.py:3: SettingWithCopyWarning: \n",
      "A value is trying to be set on a copy of a slice from a DataFrame.\n",
      "Try using .loc[row_indexer,col_indexer] = value instead\n",
      "\n",
      "See the caveats in the documentation: https://pandas.pydata.org/pandas-docs/stable/user_guide/indexing.html#returning-a-view-versus-a-copy\n",
      "  df_negx.loc[:,'OntologyCode'] = pd.Categorical(df_negx.loc[:,'Ontology']).codes\n"
     ]
    },
    {
     "data": {
      "image/png": "[encoded data removed]",
      "text/plain": [
       "<Figure size 400x400 with 1 Axes>"
      ]
     },
     "metadata": {},
     "output_type": "display_data"
    }
   ],
   "source": [
    "fig, ax = plt.subplots(1,1,figsize=(4,4))\n",
    "\n",
    "df_negx.loc[:,'OntologyCode'] = pd.Categorical(df_negx.loc[:,'Ontology']).codes\n",
    "scatter = plt.scatter(df_negx['AverageMz'], df_negx['modnum'], c=df_negx['OntologyCode'], cmap='viridis', s=10)\n",
    "\n",
    "plt.xlabel('mz')\n",
    "plt.ylabel('value')\n",
    "plt.ylim(0, 0.1)\n",
    "\n",
    "legend_labels = df_negx['Ontology'].unique()\n",
    "legend_labels_numeric = df_negx['Ontology'].astype('category').cat.codes.unique()\n",
    "legend_handles = [plt.Line2D([0], [0], marker='o', color='w', markerfacecolor=scatter.cmap(scatter.norm(label)), markersize=10) for label in legend_labels_numeric]\n",
    "\n",
    "plt.legend(legend_handles, legend_labels, title='Ontology', loc='upper left', bbox_to_anchor=(1, 1), fontsize=9)\n",
    "\n",
    "plt.savefig('Data/svg/model/result/neg/o-value_etherpc_dist.svg', format='svg', bbox_inches='tight')\n"
   ]
  }
 ],
 "metadata": {
  "kernelspec": {
   "display_name": "Python 3 (ipykernel)",
   "language": "python",
   "name": "python3"
  },
  "language_info": {
   "codemirror_mode": {
    "name": "ipython",
    "version": 3
   },
   "file_extension": ".py",
   "mimetype": "text/x-python",
   "name": "python",
   "nbconvert_exporter": "python",
   "pygments_lexer": "ipython3",
   "version": "3.11.6"
  }
 },
 "nbformat": 4,
 "nbformat_minor": 5
}
