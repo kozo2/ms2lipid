{
 "cells": [
  {
   "cell_type": "code",
   "execution_count": 1,
   "id": "87dea673-a788-421e-97ec-8ace920b88d7",
   "metadata": {},
   "outputs": [
    {
     "name": "stderr",
     "output_type": "stream",
     "text": [
      "2024-01-05 04:49:18.192858: I tensorflow/core/util/port.cc:113] oneDNN custom operations are on. You may see slightly different numerical results due to floating-point round-off errors from different computation orders. To turn them off, set the environment variable `TF_ENABLE_ONEDNN_OPTS=0`.\n",
      "2024-01-05 04:49:18.229983: E external/local_xla/xla/stream_executor/cuda/cuda_dnn.cc:9261] Unable to register cuDNN factory: Attempting to register factory for plugin cuDNN when one has already been registered\n",
      "2024-01-05 04:49:18.230021: E external/local_xla/xla/stream_executor/cuda/cuda_fft.cc:607] Unable to register cuFFT factory: Attempting to register factory for plugin cuFFT when one has already been registered\n",
      "2024-01-05 04:49:18.230999: E external/local_xla/xla/stream_executor/cuda/cuda_blas.cc:1515] Unable to register cuBLAS factory: Attempting to register factory for plugin cuBLAS when one has already been registered\n",
      "2024-01-05 04:49:18.237305: I tensorflow/core/platform/cpu_feature_guard.cc:182] This TensorFlow binary is optimized to use available CPU instructions in performance-critical operations.\n",
      "To enable the following instructions: AVX2 AVX512F AVX512_VNNI FMA, in other operations, rebuild TensorFlow with the appropriate compiler flags.\n",
      "2024-01-05 04:49:19.065466: W tensorflow/compiler/tf2tensorrt/utils/py_utils.cc:38] TF-TRT Warning: Could not find TensorRT\n"
     ]
    }
   ],
   "source": [
    "import pandas as pd\n",
    "import base\n",
    "import os\n",
    "import re"
   ]
  },
  {
   "cell_type": "code",
   "execution_count": 2,
   "id": "9ecfbd86",
   "metadata": {
    "scrolled": true
   },
   "outputs": [],
   "source": [
    "SEED = 42\n",
    "base.fix_seed(SEED)\n",
    "\n",
    "desired_directory = '/home/jovyan/work/spectrum/'\n",
    "os.chdir(desired_directory)"
   ]
  },
  {
   "cell_type": "code",
   "execution_count": 40,
   "id": "04505074-a273-4c5c-99ae-644144f94912",
   "metadata": {},
   "outputs": [],
   "source": [
    "df_neg_ok_data2 = pd.read_csv('Data/02_basedata/neg/neg2.csv')"
   ]
  },
  {
   "cell_type": "code",
   "execution_count": 41,
   "id": "14de0b78-ea48-4f91-91aa-00b639616cb6",
   "metadata": {},
   "outputs": [],
   "source": [
    "df = pd.read_csv('Data/02_basedata/df.csv')\n",
    "df_neg = df[df['Adducttype'].str.contains('\\]\\-') | df['Adducttype'].str.contains('\\]2\\-')].drop('Unnamed: 0', axis=1)\n",
    "df_neg_select = df_neg.merge(df_neg_ok_data2[['Metabolitename', 'dataset', 'AlignmentID']].reset_index().rename(columns={'index':'index_ID'}),\n",
    "                             on=['Metabolitename', 'dataset', 'AlignmentID'])"
   ]
  },
  {
   "cell_type": "markdown",
   "id": "87a68f0f-9649-48b3-89b3-e541bc72e06f",
   "metadata": {},
   "source": [
    "\".ms\" fileの作成"
   ]
  },
  {
   "cell_type": "code",
   "execution_count": 3,
   "id": "fcd065b5-05b9-4d56-836a-62f4149e530a",
   "metadata": {},
   "outputs": [],
   "source": [
    "invalid_chars = r'[\\\\/:*?\"<>|]'\n",
    "\n",
    "for i in range(len(df_neg_select)):\n",
    "    compound = df_neg_select['Metabolitename'][i]\n",
    "    formula = df_neg_select['Formula'][i]\n",
    "    parentmass = df_neg_select['AverageMz'][i]\n",
    "    ionization = df_neg_select['Adducttype'][i]\n",
    "    \n",
    "    ms2_data = df_neg_select['MSMSspectrum'][i]\n",
    "    elements = ms2_data.split()  \n",
    "    id = df_neg_select.index.tolist()[i]\n",
    "    metabolite = re.sub(invalid_chars, '_', df_neg_select['Metabolitename'][i])\n",
    "    ontology = re.sub(invalid_chars, '_', df_neg_select['Ontology'][i])\n",
    "    name_ont = f\"{id}_{metabolite}_{ontology}\"\n",
    "\n",
    "    ms2_split_data = []\n",
    "    for element in elements:\n",
    "        parts = element.split(':')\n",
    "        ms2_split_data.append(f\"{parts[0]} {parts[1]}\")\n",
    "\n",
    "    output_file = f\"Data/04_canopus/neg/ms2_spectrum_ms_neg3/{name_ont}.ms\"\n",
    "    with open(output_file, 'w', newline='') as file:\n",
    "        \n",
    "        file.write(f\">compound {metabolite}_{ontology}\\n\")\n",
    "        file.write(f\">formula {formula}\\n\")\n",
    "        file.write(f\">parentmass {parentmass}\\n\")\n",
    "        file.write(f\">ionization {ionization}\\n\")\n",
    "        \n",
    "        file.write(\">ms2\\n\")\n",
    "        file.write('\\n'.join(ms2_split_data)) "
   ]
  },
  {
   "cell_type": "code",
   "execution_count": null,
   "id": "27537e88-6baf-45ec-a21d-08e582f66bc7",
   "metadata": {},
   "outputs": [],
   "source": [
    "import zipfile\n",
    "import os\n",
    "import re\n",
    "\n",
    "folder_path = 'Data/04_canopus/neg/s2_spectrum_ms_neg3'\n",
    "zip_filename = 'Data/04_canopus/neg/ms2_spectrum_ms_neg3.zip'\n",
    "\n",
    "with zipfile.ZipFile(zip_filename, 'w') as zipf:\n",
    "    for foldername, subfolders, filenames in os.walk(folder_path):\n",
    "        for filename in filenames:\n",
    "            if filename.endswith('.ms'):\n",
    "                file_path = os.path.join(foldername, filename)\n",
    "                arcname = os.path.relpath(file_path, folder_path)\n",
    "                zipf.write(file_path, arcname)"
   ]
  },
  {
   "cell_type": "markdown",
   "id": "9cda03d0-8b93-41e1-909f-929684bb35ae",
   "metadata": {},
   "source": [
    "Import::7918/8163"
   ]
  },
  {
   "cell_type": "markdown",
   "id": "3744705a-4ffd-48a2-a615-57f4e1375dc6",
   "metadata": {},
   "source": [
    "canopusでの予測結果の読み込み"
   ]
  },
  {
   "cell_type": "code",
   "execution_count": 43,
   "id": "0b963a31-faf7-4f31-abeb-210ae04f0097",
   "metadata": {
    "scrolled": true
   },
   "outputs": [
    {
     "name": "stderr",
     "output_type": "stream",
     "text": [
      "/tmp/ipykernel_1373877/3286587303.py:4: SettingWithCopyWarning: \n",
      "A value is trying to be set on a copy of a slice from a DataFrame.\n",
      "Try using .loc[row_indexer,col_indexer] = value instead\n",
      "\n",
      "See the caveats in the documentation: https://pandas.pydata.org/pandas-docs/stable/user_guide/indexing.html#returning-a-view-versus-a-copy\n",
      "  df_canopus_['index_id'] = df_canopus_['index_id'].astype(int)\n"
     ]
    }
   ],
   "source": [
    "df_canopus = pd.read_csv('Data/04_canopus/neg/canopus_compound_summary_neg2.tsv', sep=\"\\t\")\n",
    "df_canopus['index_id'] = df_canopus['id'].apply(lambda x: x.split(\"_\")[1])\n",
    "df_canopus_ = df_canopus[['id','ClassyFire#subclass','ClassyFire#level 5','index_id']]\n",
    "df_canopus_['index_id'] = df_canopus_['index_id'].astype(int)"
   ]
  },
  {
   "cell_type": "markdown",
   "id": "866b6d26-0cd9-4182-af81-56a6c936ce74",
   "metadata": {},
   "source": [
    "使うサブクラスの選択"
   ]
  },
  {
   "cell_type": "code",
   "execution_count": 47,
   "id": "c1787f79-c555-4630-84ef-52757dcde16c",
   "metadata": {},
   "outputs": [],
   "source": [
    "select_ont = pd.read_csv('Data/04_canopus/neg/subclass_ont_select_neg.csv')\n",
    "\n",
    "df_ytest = pd.read_csv('Data/04_canopus/neg/df_neg_ytest.csv').rename(columns={'Unnamed: 0':'index_ID'})\n",
    "df_ytest = df_ytest[df_ytest['Ontology'].isin(select_ont.Ontology.tolist())].merge(select_ont, how='left', on='Ontology')"
   ]
  },
  {
   "cell_type": "code",
   "execution_count": 48,
   "id": "a1b36439-881f-4ac1-b6c7-4c454bc99f13",
   "metadata": {},
   "outputs": [],
   "source": [
    "df_neg_select2 = df_neg_select.reset_index()[['index','index_ID']].rename(columns={'index':'index_id'}).astype(int)\n",
    "df_model_canopus = df_neg_select2.merge(df_ytest, how='right', on='index_ID').merge(df_canopus_, how='left', on='index_id').\\\n",
    "drop(columns='index_id').sort_values('index_ID')"
   ]
  },
  {
   "cell_type": "markdown",
   "id": "3ca7f4aa-4286-4266-bade-84c5c3b2b53e",
   "metadata": {},
   "source": [
    "サブクラスごとの正答数を整理"
   ]
  },
  {
   "cell_type": "code",
   "execution_count": 50,
   "id": "161fd597-d379-4bf2-a383-87ce029c190a",
   "metadata": {},
   "outputs": [],
   "source": [
    "subclasslist = ['Glycerophosphoethanolamines',\n",
    " 'Glycerophosphocholines',\n",
    " 'Ceramides',\n",
    " 'Glycerophosphoinositols',\n",
    " 'Glycerophosphoglycerols',\n",
    " 'Glycerophosphoserines',\n",
    " 'Phosphosphingolipids',\n",
    " 'Fatty acids and conjugates']\n",
    "\n",
    "df_neg_cano_class_pred = pd.DataFrame(columns=['Subclass','total', 'canopus_export','canopus_corpred', 'canopus_midpred'])\n",
    "\n",
    "for i in subclasslist:\n",
    "    df_model_canopus_i = df_model_canopus[df_model_canopus['subclass'] == i]\n",
    "    export_number = len(df_model_canopus_i) - len(df_model_canopus_i[df_model_canopus_i['ClassyFire#subclass'].isna()])\n",
    "    correct_predictions = len(df_model_canopus_i[df_model_canopus_i['ClassyFire#subclass'] == i])\n",
    "    mispred_number = export_number - correct_predictions\n",
    "    total_samples = len(df_model_canopus_i)\n",
    "\n",
    "    new_row = {'Subclass': i,\n",
    "               'total':total_samples,\n",
    "               'canopus_export': export_number,\n",
    "               'canopus_corpred': correct_predictions,\n",
    "               'canopus_midpred': mispred_number}\n",
    "    \n",
    "    df_neg_cano_class_pred = pd.concat([df_neg_cano_class_pred, pd.DataFrame([new_row])], ignore_index=True)\n",
    "    \n",
    "df_neg_cano_class_pred.to_csv('Data/04_canopus/neg/df_neg_canopus_subclass_pred.csv', index=False)"
   ]
  },
  {
   "cell_type": "markdown",
   "id": "a97c7b3c-3dff-4ab2-9387-2c70afb72de3",
   "metadata": {},
   "source": [
    "モデルの予測結果と並べる"
   ]
  },
  {
   "cell_type": "code",
   "execution_count": 51,
   "id": "3fd3d4b5-ca0e-4abd-ac3a-4a34357bf06c",
   "metadata": {},
   "outputs": [],
   "source": [
    "df_neg_model_subclass_pred = pd.read_csv('Data/04_canopus/neg/df_neg_subclass_pred.csv')"
   ]
  },
  {
   "cell_type": "code",
   "execution_count": 52,
   "id": "6d0f0c8c-f1ee-47fb-97ce-1cd3fcf96fb2",
   "metadata": {},
   "outputs": [
    {
     "data": {
      "text/html": [
       "<div>\n",
       "<style scoped>\n",
       "    .dataframe tbody tr th:only-of-type {\n",
       "        vertical-align: middle;\n",
       "    }\n",
       "\n",
       "    .dataframe tbody tr th {\n",
       "        vertical-align: top;\n",
       "    }\n",
       "\n",
       "    .dataframe thead th {\n",
       "        text-align: right;\n",
       "    }\n",
       "</style>\n",
       "<table border=\"1\" class=\"dataframe\">\n",
       "  <thead>\n",
       "    <tr style=\"text-align: right;\">\n",
       "      <th></th>\n",
       "      <th>Subclass</th>\n",
       "      <th>Correct_Predictions</th>\n",
       "      <th>Incorrect_Predictions</th>\n",
       "      <th>Total</th>\n",
       "      <th>canopus_export</th>\n",
       "      <th>canopus_corpred</th>\n",
       "      <th>canopus_midpred</th>\n",
       "    </tr>\n",
       "  </thead>\n",
       "  <tbody>\n",
       "    <tr>\n",
       "      <th>0</th>\n",
       "      <td>Glycerophosphoethanolamines</td>\n",
       "      <td>410</td>\n",
       "      <td>1</td>\n",
       "      <td>411</td>\n",
       "      <td>289</td>\n",
       "      <td>257</td>\n",
       "      <td>32</td>\n",
       "    </tr>\n",
       "    <tr>\n",
       "      <th>1</th>\n",
       "      <td>Glycerophosphocholines</td>\n",
       "      <td>415</td>\n",
       "      <td>2</td>\n",
       "      <td>417</td>\n",
       "      <td>216</td>\n",
       "      <td>210</td>\n",
       "      <td>6</td>\n",
       "    </tr>\n",
       "    <tr>\n",
       "      <th>2</th>\n",
       "      <td>Ceramides</td>\n",
       "      <td>193</td>\n",
       "      <td>1</td>\n",
       "      <td>194</td>\n",
       "      <td>154</td>\n",
       "      <td>154</td>\n",
       "      <td>0</td>\n",
       "    </tr>\n",
       "    <tr>\n",
       "      <th>3</th>\n",
       "      <td>Glycerophosphoinositols</td>\n",
       "      <td>147</td>\n",
       "      <td>1</td>\n",
       "      <td>148</td>\n",
       "      <td>72</td>\n",
       "      <td>72</td>\n",
       "      <td>0</td>\n",
       "    </tr>\n",
       "    <tr>\n",
       "      <th>4</th>\n",
       "      <td>Glycerophosphoglycerols</td>\n",
       "      <td>74</td>\n",
       "      <td>2</td>\n",
       "      <td>76</td>\n",
       "      <td>48</td>\n",
       "      <td>48</td>\n",
       "      <td>0</td>\n",
       "    </tr>\n",
       "    <tr>\n",
       "      <th>5</th>\n",
       "      <td>Glycerophosphoserines</td>\n",
       "      <td>76</td>\n",
       "      <td>3</td>\n",
       "      <td>79</td>\n",
       "      <td>71</td>\n",
       "      <td>70</td>\n",
       "      <td>1</td>\n",
       "    </tr>\n",
       "    <tr>\n",
       "      <th>6</th>\n",
       "      <td>Phosphosphingolipids</td>\n",
       "      <td>93</td>\n",
       "      <td>0</td>\n",
       "      <td>93</td>\n",
       "      <td>41</td>\n",
       "      <td>41</td>\n",
       "      <td>0</td>\n",
       "    </tr>\n",
       "    <tr>\n",
       "      <th>7</th>\n",
       "      <td>Fatty acids and conjugates</td>\n",
       "      <td>9</td>\n",
       "      <td>2</td>\n",
       "      <td>11</td>\n",
       "      <td>7</td>\n",
       "      <td>1</td>\n",
       "      <td>6</td>\n",
       "    </tr>\n",
       "  </tbody>\n",
       "</table>\n",
       "</div>"
      ],
      "text/plain": [
       "                      Subclass  Correct_Predictions  Incorrect_Predictions  \\\n",
       "0  Glycerophosphoethanolamines                  410                      1   \n",
       "1       Glycerophosphocholines                  415                      2   \n",
       "2                    Ceramides                  193                      1   \n",
       "3      Glycerophosphoinositols                  147                      1   \n",
       "4      Glycerophosphoglycerols                   74                      2   \n",
       "5        Glycerophosphoserines                   76                      3   \n",
       "6         Phosphosphingolipids                   93                      0   \n",
       "7   Fatty acids and conjugates                    9                      2   \n",
       "\n",
       "   Total canopus_export canopus_corpred canopus_midpred  \n",
       "0    411            289             257              32  \n",
       "1    417            216             210               6  \n",
       "2    194            154             154               0  \n",
       "3    148             72              72               0  \n",
       "4     76             48              48               0  \n",
       "5     79             71              70               1  \n",
       "6     93             41              41               0  \n",
       "7     11              7               1               6  "
      ]
     },
     "execution_count": 52,
     "metadata": {},
     "output_type": "execute_result"
    }
   ],
   "source": [
    "df_neg_model_subclass_pred2 = df_neg_model_subclass_pred.merge(df_neg_cano_class_pred, how='inner', on='Subclass').drop(columns='total')\n",
    "df_neg_model_subclass_pred2.to_csv('Data/04_canopus/neg/df_neg_model_canopus_subclass_pred.csv', index=False)\n",
    "df_neg_model_subclass_pred2"
   ]
  },
  {
   "cell_type": "markdown",
   "id": "cb85be30-2a3a-4fe8-85c4-acb7e3ef856d",
   "metadata": {},
   "source": [
    "level5での正答率"
   ]
  },
  {
   "cell_type": "code",
   "execution_count": 55,
   "id": "23464ee4-ea96-4063-8a8f-f909f89c374d",
   "metadata": {},
   "outputs": [],
   "source": [
    "df_model_canopus_level5 = df_model_canopus[['ClassyFire#subclass','ClassyFire#level 5']].drop_duplicates().dropna().sort_values('ClassyFire#subclass')\n",
    "\n",
    "subclasslist = pd.DataFrame(df_model_canopus_level5['ClassyFire#subclass'].value_counts()).reset_index().query('count > 1')['ClassyFire#subclass'].tolist()"
   ]
  },
  {
   "cell_type": "markdown",
   "id": "7ffe6555-5cc8-475b-9e95-bab37d9fef78",
   "metadata": {},
   "source": [
    "リゾ体との区別ができる PC/PE/PG/PS/PI だけを選択"
   ]
  },
  {
   "cell_type": "code",
   "execution_count": 57,
   "id": "46c3ee84-0ebc-48ac-a8cf-2bfa4934c228",
   "metadata": {},
   "outputs": [],
   "source": [
    "df_model_canopus_level5_s = df_model_canopus[df_model_canopus['subclass'].\\\n",
    "isin(['Glycerophosphoglycerols','Glycerophosphocholines','Glycerophosphoethanolamines','Glycerophosphoinositols','Glycerophosphoserines'])]\n",
    "df_model_canopus_level5_s = df_model_canopus_level5_s[~df_model_canopus_level5_s['Ontology'].isin(['HBMP','LNAPE'])]"
   ]
  },
  {
   "cell_type": "code",
   "execution_count": 58,
   "id": "a26a3c46-87d7-473e-8c0f-14aa031d33f3",
   "metadata": {},
   "outputs": [],
   "source": [
    "level5_to_class_dict = {\n",
    "'1-alkyl,2-acylglycero-3-phosphocholines':'PC',\n",
    "'Lysophosphatidylcholines':'LPC',\n",
    "'1-(1Z-alkenyl),2-acyl-glycerophosphocholines':'PC',\n",
    "'Phosphatidylcholines':'PC',\n",
    "'Phosphatidylethanolamines':'PE',\n",
    "'1-(1Z-alkenyl),2-acylglycerophosphoethanolamines':'PE',\n",
    "'Lysophosphatidylglycerols':'LPG',\n",
    "'Phosphatidylglycerols':'PG',\n",
    "'Lysophosphatidylinositols':'LPI',\n",
    "'Phosphatidylinositols':'PI',\n",
    "'Lysophosphatidylserines':'LPS',\n",
    "'Phosphatidylserines':'PS'\n",
    "}\n",
    "\n",
    "df_model_canopus_level5_s['level5_to_class'] = df_model_canopus_level5_s['ClassyFire#level 5'].map(level5_to_class_dict)\n",
    "df_model_canopus_level5_s['ontology_to_class'] = df_model_canopus_level5_s['Ontology'].str.replace('Ether', '')"
   ]
  },
  {
   "cell_type": "code",
   "execution_count": 59,
   "id": "88dd56e8-d634-4da9-82ec-995f5e76e0f1",
   "metadata": {},
   "outputs": [],
   "source": [
    "df_model_ont = pd.read_csv('Data/04_canopus/neg/df_neg_subclass_pred_ont.csv').rename(columns={'index':'index_ID'})[['index_ID','pred_ont']]"
   ]
  },
  {
   "cell_type": "code",
   "execution_count": 60,
   "id": "a9415c65-b671-468e-b17d-22da172564fa",
   "metadata": {},
   "outputs": [],
   "source": [
    "df_model_canopus_level5_s2 = df_model_canopus_level5_s.merge(df_model_ont, how='inner', on='index_ID')"
   ]
  },
  {
   "cell_type": "code",
   "execution_count": 61,
   "id": "418d37b8-ed20-40d7-a032-620349dfe67f",
   "metadata": {},
   "outputs": [],
   "source": [
    "df_model_canopus_level5_s2_cano = pd.DataFrame(df_model_canopus_level5_s2[['ontology_to_class','level5_to_class']].fillna('NA').value_counts()).reset_index().sort_values('ontology_to_class')\n",
    "df_model_canopus_level5_s2_model = pd.DataFrame(df_model_canopus_level5_s2[['ontology_to_class','pred_ont']].fillna('NA').value_counts()).reset_index().sort_values('ontology_to_class')"
   ]
  },
  {
   "cell_type": "code",
   "execution_count": 62,
   "id": "6888eb9b-a50c-448d-b434-898aea5fbd15",
   "metadata": {},
   "outputs": [],
   "source": [
    "import pandas as pd\n",
    "\n",
    "classlist = df_model_canopus_level5_s2['ontology_to_class'].drop_duplicates().tolist()\n",
    "\n",
    "df_model_canopus_level5_s2_cano_result = pd.DataFrame(columns=['class', 'correct_pred', 'non_pred', 'mis_pred', 'total_number'])\n",
    "\n",
    "\n",
    "for i in classlist:\n",
    "    df_model_canopus_level5_s2_i = df_model_canopus_level5_s2_cano[df_model_canopus_level5_s2_cano['ontology_to_class'] == i]\n",
    "    \n",
    "    if not df_model_canopus_level5_s2_i.empty:  # DataFrameが空でないことを確認\n",
    "        correct_pred_values = df_model_canopus_level5_s2_i[df_model_canopus_level5_s2_i['level5_to_class'] == i]['count'].values\n",
    "        non_pred_values = df_model_canopus_level5_s2_i[df_model_canopus_level5_s2_i['level5_to_class'] == \"NA\"]['count'].values\n",
    "        mis_pred_values = df_model_canopus_level5_s2_i[~df_model_canopus_level5_s2_i['level5_to_class'].isin([i, \"NA\"])]['count'].values\n",
    "      \n",
    "        if len(correct_pred_values) > 0:\n",
    "            correct_pred = correct_pred_values[0]\n",
    "        else:\n",
    "            correct_pred = 0\n",
    "\n",
    "        if len(non_pred_values) > 0:\n",
    "            non_pred = non_pred_values[0]\n",
    "        else:\n",
    "            non_pred = 0\n",
    "\n",
    "        if len(mis_pred_values) > 0:\n",
    "            mis_pred = mis_pred_values[0]\n",
    "        else:\n",
    "            mis_pred = 0\n",
    "\n",
    "        number = correct_pred + non_pred + mis_pred\n",
    "\n",
    "        df_model_canopus_level5_s2_cano_result = pd.concat([df_model_canopus_level5_s2_cano_result,\\\n",
    "                                                       pd.DataFrame({'class': [i], 'correct_pred': [correct_pred], 'non_pred': [non_pred], 'mis_pred': [mis_pred], 'total_number': [number]})])\n",
    "\n",
    "df_model_canopus_level5_s2_cano_result = df_model_canopus_level5_s2_cano_result.reset_index(drop=True)\n",
    "\n",
    "df_model_canopus_level5_s2_cano_resultratio = df_model_canopus_level5_s2_cano_result.copy()\n",
    "df_model_canopus_level5_s2_cano_resultratio['subclass'] = ['Glycerophosphocholines','Glycerophosphoethanolamines','Glycerophosphoglycerols','Glycerophosphoinositols','Glycerophosphoserines','Glycerophosphocholines','Glycerophosphoethanolamines','Glycerophosphoglycerols','Glycerophosphoinositols','Glycerophosphoserines']\n",
    "df_model_canopus_level5_s2_cano_resultratio['correct_pred'] = df_model_canopus_level5_s2_cano_resultratio['correct_pred'] / df_model_canopus_level5_s2_cano_resultratio['total_number']\n",
    "df_model_canopus_level5_s2_cano_resultratio['non_pred'] = df_model_canopus_level5_s2_cano_resultratio['non_pred'] / df_model_canopus_level5_s2_cano_resultratio['total_number']\n",
    "df_model_canopus_level5_s2_cano_resultratio['mis_pred'] = df_model_canopus_level5_s2_cano_resultratio['mis_pred'] / df_model_canopus_level5_s2_cano_resultratio['total_number']"
   ]
  },
  {
   "cell_type": "code",
   "execution_count": 63,
   "id": "fecac872-8056-4d0e-8fd9-f66ca7cecfd7",
   "metadata": {},
   "outputs": [],
   "source": [
    "df_model_canopus_level5_s2_model_result = pd.DataFrame(columns=['class', 'correct_pred', 'non_pred', 'mis_pred', 'total_number'])\n",
    "\n",
    "for i in classlist:\n",
    "    df_model_canopus_level5_s2_i = df_model_canopus_level5_s2_model[df_model_canopus_level5_s2_model['ontology_to_class'] == i]\n",
    "    \n",
    "    if not df_model_canopus_level5_s2_i.empty:  # DataFrameが空でないことを確認\n",
    "        correct_pred_values = df_model_canopus_level5_s2_i[df_model_canopus_level5_s2_i['pred_ont'] == i]['count'].values\n",
    "        non_pred_values = df_model_canopus_level5_s2_i[df_model_canopus_level5_s2_i['pred_ont'] == \"NA\"]['count'].values\n",
    "        mis_pred_values = df_model_canopus_level5_s2_i[~df_model_canopus_level5_s2_i['pred_ont'].isin([i, \"NA\"])]['count'].values\n",
    "      \n",
    "        if len(correct_pred_values) > 0:\n",
    "            correct_pred = correct_pred_values[0]\n",
    "        else:\n",
    "            correct_pred = 0\n",
    "\n",
    "        if len(non_pred_values) > 0:\n",
    "            non_pred = non_pred_values[0]\n",
    "        else:\n",
    "            non_pred = 0\n",
    "\n",
    "        if len(mis_pred_values) > 0:\n",
    "            mis_pred = mis_pred_values[0]\n",
    "        else:\n",
    "            mis_pred = 0\n",
    "\n",
    "        number = correct_pred + non_pred + mis_pred\n",
    "\n",
    "        df_model_canopus_level5_s2_model_result = pd.concat([df_model_canopus_level5_s2_model_result,\\\n",
    "                                                       pd.DataFrame({'class': [i], 'correct_pred': [correct_pred], 'non_pred': [non_pred], 'mis_pred': [mis_pred], 'total_number': [number]})])\n",
    "\n",
    "df_model_canopus_level5_s2_model_result = df_model_canopus_level5_s2_model_result.reset_index(drop=True)\n",
    "\n",
    "df_model_canopus_level5_s2_model_resultratio = df_model_canopus_level5_s2_model_result.copy()\n",
    "df_model_canopus_level5_s2_model_resultratio['subclass'] = ['Glycerophosphocholines','Glycerophosphoethanolamines','Glycerophosphoglycerols','Glycerophosphoinositols','Glycerophosphoserines','Glycerophosphocholines','Glycerophosphoethanolamines','Glycerophosphoglycerols','Glycerophosphoinositols','Glycerophosphoserines']\n",
    "df_model_canopus_level5_s2_model_resultratio['correct_pred'] = df_model_canopus_level5_s2_model_resultratio['correct_pred'] / df_model_canopus_level5_s2_model_resultratio['total_number']\n",
    "df_model_canopus_level5_s2_model_resultratio['non_pred'] = df_model_canopus_level5_s2_model_resultratio['non_pred'] / df_model_canopus_level5_s2_model_resultratio['total_number']\n",
    "df_model_canopus_level5_s2_model_resultratio['mis_pred'] = df_model_canopus_level5_s2_model_resultratio['mis_pred'] / df_model_canopus_level5_s2_model_resultratio['total_number']"
   ]
  },
  {
   "cell_type": "code",
   "execution_count": 64,
   "id": "2e4835ba-5665-4b64-8c3e-f8aa0c8ceb72",
   "metadata": {},
   "outputs": [],
   "source": [
    "df_model_canopus_level5_s2_cano_resultratio = df_model_canopus_level5_s2_cano_resultratio.sort_values('class')"
   ]
  },
  {
   "cell_type": "code",
   "execution_count": 65,
   "id": "137e5c62-77ba-458c-bca1-62e68e7df4b7",
   "metadata": {},
   "outputs": [
    {
     "data": {
      "image/png": "[encoded data removed]",
      "text/plain": [
       "<Figure size 900x600 with 1 Axes>"
      ]
     },
     "metadata": {},
     "output_type": "display_data"
    }
   ],
   "source": [
    "import matplotlib.pyplot as plt\n",
    "import numpy as np\n",
    "\n",
    "df_neg_cano = df_model_canopus_level5_s2_cano_resultratio.copy()\n",
    "df_neg_cano[['correct_pred','non_pred','mis_pred']] = df_neg_cano[['correct_pred','non_pred','mis_pred']] *100\n",
    "\n",
    "df_neg_model =  df_model_canopus_level5_s2_model_resultratio.copy()\n",
    "df_neg_model[['correct_pred','mis_pred']] = df_neg_model[['correct_pred','mis_pred']] *100\n",
    "\n",
    "# Create a bar chart for model data\n",
    "fig, ax = plt.subplots(figsize=(9, 6))\n",
    "width = 0.35  # Width of each bar\n",
    "\n",
    "y = np.arange(len(df_neg_cano['class']))\n",
    "custom_colors = ['#ff8787','#0e5e6f','#ff8787','#0e5e6f','#607274']  \n",
    "\n",
    "# Plot model_1st_correct and model_mispredict bars\n",
    "ax.barh(y + width/2, df_neg_cano['correct_pred'], width, label='canopus_pred', color=custom_colors[2])\n",
    "ax.barh(y + width/2, df_neg_cano['mis_pred'], width, label='canopus_midpred', color=custom_colors[3], left=df_neg_cano['correct_pred'])\n",
    "ax.barh(y + width/2, df_neg_cano['non_pred'], width, label='canopus_nonpred', color=custom_colors[4], left=df_neg_cano['correct_pred']+df_neg_cano['mis_pred'])\n",
    "ax.barh(y - width/2, df_neg_model['correct_pred'], width, label='model_pred', color=custom_colors[0])\n",
    "ax.barh(y - width/2, df_neg_model['mis_pred'], width, label='model_midpred', color=custom_colors[1], left=df_neg_model['correct_pred'])\n",
    "\n",
    "ax.set_ylabel('Class')\n",
    "ax.set_xlabel('')\n",
    "ax.set_ylabel('')\n",
    "ax.set_title('Negative ion mode Prediction rate', fontsize=16)\n",
    "ax.set_yticks(y)\n",
    "ax.set_yticklabels(df_neg_cano['class'])\n",
    "ax.legend(loc='upper left', bbox_to_anchor=(1.2, 1))\n",
    "\n",
    "bars1= df_neg_cano[['correct_pred','mis_pred','non_pred']]\n",
    "bars2= df_neg_model[['correct_pred','mis_pred','non_pred']]\n",
    "\n",
    "  \n",
    "for n in bars1:\n",
    "    for i, (cs, ab, pc, sn) in enumerate(zip(bars1.iloc[:, 0:].cumsum(1)[n],\n",
    "                                          bars1[n], bars1[n],df_neg_cano['total_number'])):\n",
    "        if pc > 5.0:  # 0.0% のとき表示しない\n",
    "            plt.text(cs - ab / 2, i + width/2, str(np.round(pc, 1)) + '%',\n",
    "                     va='center', ha='center', rotation=0, fontsize=10)\n",
    "        plt.text(100 + 2, i, f'n={int(sn)}', va='center', ha='left', fontsize=12, alpha=0.8)\n",
    "\n",
    "for n in bars2:\n",
    "    for i, (cs, ab, pc) in enumerate(zip(bars2.iloc[:, 0:].cumsum(1)[n],\n",
    "                                          bars2[n], bars2[n])):\n",
    "        if pc > 5.0:  # 0.0% のとき表示しない\n",
    "            plt.text(cs - ab / 2, i - width/2, str(np.round(pc, 1)) + '%',\n",
    "                     va='center', ha='center', rotation=0, fontsize=10)\n",
    "            \n",
    "\n",
    "for i in range(len(df_neg_cano)):\n",
    "    plt.axhline(i, color='black', linewidth=0.7)\n",
    "\n",
    "ax.spines['top'].set_visible(False)\n",
    "ax.spines['right'].set_visible(False)\n",
    "\n",
    "plt.gca().invert_yaxis()\n",
    "plt.yticks(size = 14)\n",
    "plt.tight_layout()\n",
    "plt.savefig('Data/svg/test/canopus/neg_canopus-vs-model_selectclass.svg', format='svg', dpi=300, bbox_inches='tight')\n",
    "plt.show()"
   ]
  },
  {
   "cell_type": "code",
   "execution_count": null,
   "id": "d1fc7cab-8db7-4b6f-bbcb-96aeada987e9",
   "metadata": {},
   "outputs": [],
   "source": []
  }
 ],
 "metadata": {
  "kernelspec": {
   "display_name": "Python 3 (ipykernel)",
   "language": "python",
   "name": "python3"
  },
  "language_info": {
   "codemirror_mode": {
    "name": "ipython",
    "version": 3
   },
   "file_extension": ".py",
   "mimetype": "text/x-python",
   "name": "python",
   "nbconvert_exporter": "python",
   "pygments_lexer": "ipython3",
   "version": "3.11.6"
  }
 },
 "nbformat": 4,
 "nbformat_minor": 5
}
