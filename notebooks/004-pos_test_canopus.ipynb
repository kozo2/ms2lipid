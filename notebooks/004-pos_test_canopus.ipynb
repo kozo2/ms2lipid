{
 "cells": [
  {
   "cell_type": "code",
   "execution_count": 1,
   "id": "50ae3848-8f64-492b-aa05-920260a9d854",
   "metadata": {},
   "outputs": [
    {
     "name": "stderr",
     "output_type": "stream",
     "text": [
      "2024-01-05 04:52:43.991008: I tensorflow/core/util/port.cc:113] oneDNN custom operations are on. You may see slightly different numerical results due to floating-point round-off errors from different computation orders. To turn them off, set the environment variable `TF_ENABLE_ONEDNN_OPTS=0`.\n",
      "2024-01-05 04:52:44.034042: E external/local_xla/xla/stream_executor/cuda/cuda_dnn.cc:9261] Unable to register cuDNN factory: Attempting to register factory for plugin cuDNN when one has already been registered\n",
      "2024-01-05 04:52:44.034084: E external/local_xla/xla/stream_executor/cuda/cuda_fft.cc:607] Unable to register cuFFT factory: Attempting to register factory for plugin cuFFT when one has already been registered\n",
      "2024-01-05 04:52:44.035051: E external/local_xla/xla/stream_executor/cuda/cuda_blas.cc:1515] Unable to register cuBLAS factory: Attempting to register factory for plugin cuBLAS when one has already been registered\n",
      "2024-01-05 04:52:44.041393: I tensorflow/core/platform/cpu_feature_guard.cc:182] This TensorFlow binary is optimized to use available CPU instructions in performance-critical operations.\n",
      "To enable the following instructions: AVX2 AVX512F AVX512_VNNI FMA, in other operations, rebuild TensorFlow with the appropriate compiler flags.\n",
      "2024-01-05 04:52:44.910690: W tensorflow/compiler/tf2tensorrt/utils/py_utils.cc:38] TF-TRT Warning: Could not find TensorRT\n"
     ]
    }
   ],
   "source": [
    "import pandas as pd\n",
    "import base\n",
    "import os\n",
    "import re"
   ]
  },
  {
   "cell_type": "code",
   "execution_count": 2,
   "id": "f374fb47",
   "metadata": {},
   "outputs": [],
   "source": [
    "SEED = 42\n",
    "base.fix_seed(SEED)\n",
    "\n",
    "desired_directory = '/home/jovyan/work/spectrum/'\n",
    "os.chdir(desired_directory)"
   ]
  },
  {
   "cell_type": "code",
   "execution_count": 3,
   "id": "758a2245-7a54-409d-b710-202ca0f8dc6c",
   "metadata": {
    "scrolled": true
   },
   "outputs": [],
   "source": [
    "df_pos_ok_data2 =  pd.read_csv('Data/02_basedata/pos/pos2.csv')"
   ]
  },
  {
   "cell_type": "code",
   "execution_count": 4,
   "id": "d30a6415-9bda-47eb-8251-6475febd0106",
   "metadata": {},
   "outputs": [],
   "source": [
    "df = pd.read_csv('Data/02_basedata/df.csv')\n",
    "df_pos = df[df['Adducttype'].str.contains('\\]\\+') | df['Adducttype'].str.contains('\\]2\\+')].drop('Unnamed: 0', axis=1)\n",
    "df_pos_select = df_pos.merge(df_pos_ok_data2[['Metabolitename', 'dataset', 'AlignmentID']].reset_index().rename(columns={'index':'index_ID'}),\n",
    "                             on=['Metabolitename', 'dataset', 'AlignmentID'])"
   ]
  },
  {
   "cell_type": "markdown",
   "id": "f5dd8b71-630a-4a11-97ef-4b039febe279",
   "metadata": {},
   "source": [
    "\".ms\" fileの作成"
   ]
  },
  {
   "cell_type": "code",
   "execution_count": 118,
   "id": "f844543c-a2a4-4679-b570-ac9e9f4fc844",
   "metadata": {},
   "outputs": [],
   "source": [
    "invalid_chars = r'[\\\\/:*?\"<>|]'\n",
    "\n",
    "for i in range(len(df_pos_select)):\n",
    "    compound = df_pos_select['Metabolitename'][i]\n",
    "    formula = df_pos_select['Formula'][i]\n",
    "    parentmass = df_pos_select['AverageMz'][i]\n",
    "    ionization = df_pos_select['Adducttype'][i]\n",
    "    \n",
    "    ms2_data = df_pos_select['MSMSspectrum'][i]\n",
    "    elements = ms2_data.split()  \n",
    "    id = df_pos_select.index.tolist()[i]\n",
    "    \n",
    "    metabolite = re.sub(invalid_chars, '_', df_pos_select['Metabolitename'][i])\n",
    "    ontology = re.sub(invalid_chars, '_', df_pos_select['Ontology'][i])\n",
    "    name_ont = f\"{id}_{metabolite}_{ontology}\"\n",
    "\n",
    "    ms2_split_data = []\n",
    "    for element in elements:\n",
    "        parts = element.split(':')\n",
    "        ms2_split_data.append(f\"{parts[0]} {parts[1]}\")\n",
    "\n",
    "    output_file = f\"Data/04_canopus/pos/ms2_spectrum_ms_pos3/{name_ont}.ms\"\n",
    "    with open(output_file, 'w', newline='') as file:\n",
    "        file.write(f\">compound {metabolite}_{ontology}\\n\")\n",
    "        file.write(f\">formula {formula}\\n\")\n",
    "        file.write(f\">parentmass {parentmass}\\n\")\n",
    "        file.write(f\">ionization {ionization}\\n\")\n",
    "        \n",
    "        file.write(\">ms2\\n\")\n",
    "        file.write('\\n'.join(ms2_split_data)) "
   ]
  },
  {
   "cell_type": "code",
   "execution_count": 119,
   "id": "30457c6c-a727-4265-a517-6f0f2295980b",
   "metadata": {},
   "outputs": [],
   "source": [
    "import zipfile\n",
    "import os\n",
    "import re\n",
    "\n",
    "folder_path = 'Data/04_canopus/pos/ms2_spectrum_ms_pos3'\n",
    "zip_filename = 'Data/04_canopus/pos/ms2_spectrum_ms_pos3.zip'\n",
    "\n",
    "with zipfile.ZipFile(zip_filename, 'w') as zipf:\n",
    "    for foldername, subfolders, filenames in os.walk(folder_path):\n",
    "        for filename in filenames:\n",
    "            if filename.endswith('.ms'):\n",
    "                file_path = os.path.join(foldername, filename)\n",
    "                arcname = os.path.relpath(file_path, folder_path)\n",
    "                zipf.write(file_path, arcname)"
   ]
  },
  {
   "cell_type": "markdown",
   "id": "47454126-52c4-48a2-92e7-15b87404649e",
   "metadata": {},
   "source": [
    "#### 読み込めた数:8400/8451"
   ]
  },
  {
   "cell_type": "markdown",
   "id": "bf4accc3-1d8c-4449-bc26-b2159e9e5fb5",
   "metadata": {},
   "source": [
    "canopus resultの読み込み"
   ]
  },
  {
   "cell_type": "code",
   "execution_count": 9,
   "id": "54b47c9d-f1ba-4d6a-98a7-1ad90c119f9c",
   "metadata": {
    "scrolled": true
   },
   "outputs": [
    {
     "name": "stderr",
     "output_type": "stream",
     "text": [
      "/tmp/ipykernel_1375061/2445995084.py:4: SettingWithCopyWarning: \n",
      "A value is trying to be set on a copy of a slice from a DataFrame.\n",
      "Try using .loc[row_indexer,col_indexer] = value instead\n",
      "\n",
      "See the caveats in the documentation: https://pandas.pydata.org/pandas-docs/stable/user_guide/indexing.html#returning-a-view-versus-a-copy\n",
      "  df_canopus_['index_id'] = df_canopus_['index_id'].astype(int)\n"
     ]
    }
   ],
   "source": [
    "df_canopus = pd.read_csv('Data/04_canopus/pos/canopus_compound_summary_pos2.tsv', sep=\"\\t\")\n",
    "df_canopus['index_id'] = df_canopus['id'].apply(lambda x: x.split(\"_\")[1])\n",
    "df_canopus_ = df_canopus[['id','ClassyFire#subclass','ClassyFire#level 5','index_id']]\n",
    "df_canopus_['index_id'] = df_canopus_['index_id'].astype(int)"
   ]
  },
  {
   "cell_type": "markdown",
   "id": "829fdbd4-d69c-400c-ac66-4f79cbb5549e",
   "metadata": {},
   "source": [
    "使うサブクラスの選択"
   ]
  },
  {
   "cell_type": "code",
   "execution_count": 5,
   "id": "06c2a487",
   "metadata": {},
   "outputs": [],
   "source": [
    "select_ont = pd.read_csv('Data/04_canopus/pos/subclass_ont_select_pos.csv')"
   ]
  },
  {
   "cell_type": "code",
   "execution_count": 6,
   "id": "a3458f9a-97b9-4213-81b6-8fb5822addd6",
   "metadata": {},
   "outputs": [],
   "source": [
    "df_ytest = pd.read_csv('Data/04_canopus/pos/df_pos_ytest.csv').rename(columns={'Unnamed: 0':'index_ID'})\n",
    "df_ytest = df_ytest[df_ytest['Ontology'].isin(select_ont.Ontology.tolist())].merge(select_ont, how='left', on='Ontology')"
   ]
  },
  {
   "cell_type": "code",
   "execution_count": 10,
   "id": "e7b7d394",
   "metadata": {},
   "outputs": [],
   "source": [
    "df_pos_select2 = df_pos_select.reset_index()[['index','index_ID']].rename(columns={'index':'index_id'}).astype(int)\n",
    "df_model_canopus = df_pos_select2.merge(df_ytest, how='right', on='index_ID').merge(df_canopus_, how='left', on='index_id').\\\n",
    "drop(columns='index_id').sort_values('index_ID')"
   ]
  },
  {
   "cell_type": "markdown",
   "id": "d5661560-8255-48f7-b00b-87ee3aa68b97",
   "metadata": {},
   "source": [
    "サブクラスごとの正答数を整理"
   ]
  },
  {
   "cell_type": "code",
   "execution_count": 11,
   "id": "9c1c3b6f",
   "metadata": {},
   "outputs": [],
   "source": [
    "subclasslist = ['Monoradylglycerols',\n",
    " 'Ceramides',\n",
    " 'Diradylglycerols',\n",
    " 'Glycerophosphocholines',\n",
    " 'Triradylglycerols',\n",
    " 'Phosphosphingolipids',\n",
    " 'Glycosphingolipids',\n",
    " 'Glycerophosphoethanolamines',\n",
    " 'Glycerophosphoglycerols']\n",
    "\n",
    "df_pos_cano_class_pred = pd.DataFrame(columns=['Subclass','total', 'canopus_export','canopus_corpred', 'canopus_midpred'])\n",
    "\n",
    "for i in subclasslist:\n",
    "    df_model_canopus_i = df_model_canopus[df_model_canopus['subclass'] == i]\n",
    "    export_number = len(df_model_canopus_i) - len(df_model_canopus_i[df_model_canopus_i['ClassyFire#subclass'].isna()])\n",
    "    correct_predictions = len(df_model_canopus_i[df_model_canopus_i['subclass'] == df_model_canopus_i['ClassyFire#subclass']])\n",
    "    mispred_number = export_number - correct_predictions\n",
    "    total_samples = len(df_model_canopus_i)\n",
    "\n",
    "    new_row = {'Subclass': i,\n",
    "               'total':total_samples,\n",
    "               'canopus_export': export_number,\n",
    "               'canopus_corpred': correct_predictions,\n",
    "               'canopus_midpred': mispred_number}\n",
    "    \n",
    "    df_pos_cano_class_pred = pd.concat([df_pos_cano_class_pred, pd.DataFrame([new_row])], ignore_index=True)\n",
    "    \n",
    "df_pos_cano_class_pred.to_csv('Data/04_canopus/pos/df_pos_canopus_subclass_pred.csv', index=False)"
   ]
  },
  {
   "cell_type": "markdown",
   "id": "b4122539-439c-454f-b4ae-111383bd98a2",
   "metadata": {},
   "source": [
    "モデルの予測結果と並べる"
   ]
  },
  {
   "cell_type": "code",
   "execution_count": 12,
   "id": "861bcb8f-5050-4f36-9264-08473f9e1241",
   "metadata": {},
   "outputs": [],
   "source": [
    "df_pos_model_subclass_pred = pd.read_csv('Data/04_canopus/pos/df_pos_subclass_pred.csv')"
   ]
  },
  {
   "cell_type": "code",
   "execution_count": 13,
   "id": "bc1ebf96-406d-4d05-b7da-1e5d4fc68c8b",
   "metadata": {},
   "outputs": [
    {
     "data": {
      "text/html": [
       "<div>\n",
       "<style scoped>\n",
       "    .dataframe tbody tr th:only-of-type {\n",
       "        vertical-align: middle;\n",
       "    }\n",
       "\n",
       "    .dataframe tbody tr th {\n",
       "        vertical-align: top;\n",
       "    }\n",
       "\n",
       "    .dataframe thead th {\n",
       "        text-align: right;\n",
       "    }\n",
       "</style>\n",
       "<table border=\"1\" class=\"dataframe\">\n",
       "  <thead>\n",
       "    <tr style=\"text-align: right;\">\n",
       "      <th></th>\n",
       "      <th>Subclass</th>\n",
       "      <th>Correct_Predictions</th>\n",
       "      <th>Incorrect_Predictions</th>\n",
       "      <th>Total</th>\n",
       "      <th>canopus_export</th>\n",
       "      <th>canopus_corpred</th>\n",
       "      <th>canopus_midpred</th>\n",
       "    </tr>\n",
       "  </thead>\n",
       "  <tbody>\n",
       "    <tr>\n",
       "      <th>0</th>\n",
       "      <td>Monoradylglycerols</td>\n",
       "      <td>32</td>\n",
       "      <td>0</td>\n",
       "      <td>32</td>\n",
       "      <td>3</td>\n",
       "      <td>0</td>\n",
       "      <td>3</td>\n",
       "    </tr>\n",
       "    <tr>\n",
       "      <th>1</th>\n",
       "      <td>Ceramides</td>\n",
       "      <td>109</td>\n",
       "      <td>2</td>\n",
       "      <td>111</td>\n",
       "      <td>5</td>\n",
       "      <td>4</td>\n",
       "      <td>1</td>\n",
       "    </tr>\n",
       "    <tr>\n",
       "      <th>2</th>\n",
       "      <td>Diradylglycerols</td>\n",
       "      <td>207</td>\n",
       "      <td>5</td>\n",
       "      <td>212</td>\n",
       "      <td>15</td>\n",
       "      <td>12</td>\n",
       "      <td>3</td>\n",
       "    </tr>\n",
       "    <tr>\n",
       "      <th>3</th>\n",
       "      <td>Glycerophosphocholines</td>\n",
       "      <td>249</td>\n",
       "      <td>9</td>\n",
       "      <td>258</td>\n",
       "      <td>0</td>\n",
       "      <td>0</td>\n",
       "      <td>0</td>\n",
       "    </tr>\n",
       "    <tr>\n",
       "      <th>4</th>\n",
       "      <td>Triradylglycerols</td>\n",
       "      <td>410</td>\n",
       "      <td>7</td>\n",
       "      <td>417</td>\n",
       "      <td>23</td>\n",
       "      <td>0</td>\n",
       "      <td>23</td>\n",
       "    </tr>\n",
       "    <tr>\n",
       "      <th>5</th>\n",
       "      <td>Phosphosphingolipids</td>\n",
       "      <td>82</td>\n",
       "      <td>2</td>\n",
       "      <td>84</td>\n",
       "      <td>21</td>\n",
       "      <td>16</td>\n",
       "      <td>5</td>\n",
       "    </tr>\n",
       "    <tr>\n",
       "      <th>6</th>\n",
       "      <td>Glycosphingolipids</td>\n",
       "      <td>101</td>\n",
       "      <td>3</td>\n",
       "      <td>104</td>\n",
       "      <td>8</td>\n",
       "      <td>8</td>\n",
       "      <td>0</td>\n",
       "    </tr>\n",
       "    <tr>\n",
       "      <th>7</th>\n",
       "      <td>Glycerophosphoethanolamines</td>\n",
       "      <td>110</td>\n",
       "      <td>5</td>\n",
       "      <td>115</td>\n",
       "      <td>1</td>\n",
       "      <td>1</td>\n",
       "      <td>0</td>\n",
       "    </tr>\n",
       "    <tr>\n",
       "      <th>8</th>\n",
       "      <td>Glycerophosphoglycerols</td>\n",
       "      <td>12</td>\n",
       "      <td>0</td>\n",
       "      <td>12</td>\n",
       "      <td>1</td>\n",
       "      <td>1</td>\n",
       "      <td>0</td>\n",
       "    </tr>\n",
       "  </tbody>\n",
       "</table>\n",
       "</div>"
      ],
      "text/plain": [
       "                      Subclass  Correct_Predictions  Incorrect_Predictions  \\\n",
       "0           Monoradylglycerols                   32                      0   \n",
       "1                    Ceramides                  109                      2   \n",
       "2             Diradylglycerols                  207                      5   \n",
       "3       Glycerophosphocholines                  249                      9   \n",
       "4            Triradylglycerols                  410                      7   \n",
       "5         Phosphosphingolipids                   82                      2   \n",
       "6           Glycosphingolipids                  101                      3   \n",
       "7  Glycerophosphoethanolamines                  110                      5   \n",
       "8      Glycerophosphoglycerols                   12                      0   \n",
       "\n",
       "   Total canopus_export canopus_corpred canopus_midpred  \n",
       "0     32              3               0               3  \n",
       "1    111              5               4               1  \n",
       "2    212             15              12               3  \n",
       "3    258              0               0               0  \n",
       "4    417             23               0              23  \n",
       "5     84             21              16               5  \n",
       "6    104              8               8               0  \n",
       "7    115              1               1               0  \n",
       "8     12              1               1               0  "
      ]
     },
     "execution_count": 13,
     "metadata": {},
     "output_type": "execute_result"
    }
   ],
   "source": [
    "df_pos_model_subclass_pred2 = df_pos_model_subclass_pred.merge(df_pos_cano_class_pred, how='inner', on='Subclass').drop(columns='total')\n",
    "df_pos_model_subclass_pred2.to_csv('Data/04_canopus/pos/df_pos_model_canopus_subclass_pred.csv', index=False)\n",
    "df_pos_model_subclass_pred2"
   ]
  }
 ],
 "metadata": {
  "kernelspec": {
   "display_name": "Python 3 (ipykernel)",
   "language": "python",
   "name": "python3"
  },
  "language_info": {
   "codemirror_mode": {
    "name": "ipython",
    "version": 3
   },
   "file_extension": ".py",
   "mimetype": "text/x-python",
   "name": "python",
   "nbconvert_exporter": "python",
   "pygments_lexer": "ipython3",
   "version": "3.11.6"
  }
 },
 "nbformat": 4,
 "nbformat_minor": 5
}
