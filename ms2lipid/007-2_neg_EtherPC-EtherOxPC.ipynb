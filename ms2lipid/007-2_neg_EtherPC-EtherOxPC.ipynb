{
 "cells": [
  {
   "cell_type": "code",
   "execution_count": 1,
   "id": "8c9f76a1",
   "metadata": {},
   "outputs": [
    {
     "name": "stderr",
     "output_type": "stream",
     "text": [
      "2024-01-05 06:03:27.985362: I tensorflow/core/util/port.cc:113] oneDNN custom operations are on. You may see slightly different numerical results due to floating-point round-off errors from different computation orders. To turn them off, set the environment variable `TF_ENABLE_ONEDNN_OPTS=0`.\n",
      "2024-01-05 06:03:28.023225: E external/local_xla/xla/stream_executor/cuda/cuda_dnn.cc:9261] Unable to register cuDNN factory: Attempting to register factory for plugin cuDNN when one has already been registered\n",
      "2024-01-05 06:03:28.023262: E external/local_xla/xla/stream_executor/cuda/cuda_fft.cc:607] Unable to register cuFFT factory: Attempting to register factory for plugin cuFFT when one has already been registered\n",
      "2024-01-05 06:03:28.024253: E external/local_xla/xla/stream_executor/cuda/cuda_blas.cc:1515] Unable to register cuBLAS factory: Attempting to register factory for plugin cuBLAS when one has already been registered\n",
      "2024-01-05 06:03:28.030457: I tensorflow/core/platform/cpu_feature_guard.cc:182] This TensorFlow binary is optimized to use available CPU instructions in performance-critical operations.\n",
      "To enable the following instructions: AVX2 AVX512F AVX512_VNNI FMA, in other operations, rebuild TensorFlow with the appropriate compiler flags.\n",
      "2024-01-05 06:03:28.849661: W tensorflow/compiler/tf2tensorrt/utils/py_utils.cc:38] TF-TRT Warning: Could not find TensorRT\n"
     ]
    }
   ],
   "source": [
    "import pandas as pd\n",
    "import base\n",
    "import os\n",
    "\n",
    "SEED = 42\n",
    "base.fix_seed(SEED)\n",
    "\n",
    "desired_directory = '/home/jovyan/work/spectrum/'\n",
    "os.chdir(desired_directory)"
   ]
  },
  {
   "cell_type": "code",
   "execution_count": 2,
   "id": "5943d86f-90e3-4f4e-8fa1-e5e693e4fd7e",
   "metadata": {},
   "outputs": [],
   "source": [
    "df_etherpc  = base.read_MSP('Data/result_pos_etherpc.msp')\n",
    "df_etherpc['Class'] = 'EtherPC'\n",
    "\n",
    "df_etheroxpc  = base.read_MSP('Data/result_pos_etheroxpc.msp')\n",
    "df_etheroxpc['Class'] = 'EtherOxPC'"
   ]
  },
  {
   "cell_type": "code",
   "execution_count": 3,
   "id": "42f3e65a-8694-4057-8a0b-f057b5fac685",
   "metadata": {},
   "outputs": [],
   "source": [
    "df = pd.concat([df_etherpc, df_etheroxpc], axis=0)"
   ]
  },
  {
   "cell_type": "code",
   "execution_count": 8,
   "id": "c20bcf52-d7a4-49e0-bc84-a60b0bd5b9d2",
   "metadata": {},
   "outputs": [],
   "source": [
    "df['MZ'] = df['MZ'].astype(float)\n",
    "df['modnum'] = base.cal_mod(df['MZ'])"
   ]
  },
  {
   "cell_type": "code",
   "execution_count": 9,
   "id": "d11656c4-a349-47c5-9f20-2062b39f4ef4",
   "metadata": {},
   "outputs": [],
   "source": [
    "def extract_o_number(formula):\n",
    "    o_index = formula.find('O')\n",
    "    if o_index != -1:\n",
    "        o_before = formula[:o_index]\n",
    "        o_after = formula[o_index + 1:]\n",
    "        return o_after.split('P')[0]\n",
    "    return None\n",
    "\n",
    "df['O'] = df['Formula'].apply(extract_o_number).astype(float)"
   ]
  },
  {
   "cell_type": "code",
   "execution_count": 10,
   "id": "c9dbd2b6-aa92-430c-8403-1d08b848d04e",
   "metadata": {},
   "outputs": [],
   "source": [
    "df['addO'] = df.apply(lambda row: row['O'] - 7 if 'EtherPC' in row['Class'] else row['O'] - 8, axis=1)"
   ]
  },
  {
   "cell_type": "code",
   "execution_count": 11,
   "id": "1a354a14",
   "metadata": {},
   "outputs": [],
   "source": [
    "df = df.query('addO == 0')"
   ]
  },
  {
   "cell_type": "code",
   "execution_count": 12,
   "id": "c59a8eee-a1d9-456f-99b3-34412142a27b",
   "metadata": {},
   "outputs": [],
   "source": [
    "import matplotlib.pyplot as plt"
   ]
  },
  {
   "cell_type": "code",
   "execution_count": 13,
   "id": "4268e96c-e790-498e-93f9-a6c9326529fb",
   "metadata": {},
   "outputs": [
    {
     "name": "stderr",
     "output_type": "stream",
     "text": [
      "/tmp/ipykernel_59323/1012590849.py:4: SettingWithCopyWarning: \n",
      "A value is trying to be set on a copy of a slice from a DataFrame.\n",
      "Try using .loc[row_indexer,col_indexer] = value instead\n",
      "\n",
      "See the caveats in the documentation: https://pandas.pydata.org/pandas-docs/stable/user_guide/indexing.html#returning-a-view-versus-a-copy\n",
      "  df['OntologyCode'] = pd.Categorical(df['Class']).codes\n"
     ]
    },
    {
     "data": {
      "image/png": "[encoded data removed]",
      "text/plain": [
       "<Figure size 400x400 with 1 Axes>"
      ]
     },
     "metadata": {},
     "output_type": "display_data"
    }
   ],
   "source": [
    "fig, ax = plt.subplots(1,1,figsize=(4,4))\n",
    "\n",
    "\n",
    "df['OntologyCode'] = pd.Categorical(df['Class']).codes\n",
    "scatter = plt.scatter(df['MZ'], df['modnum'], c=df['OntologyCode'], cmap='viridis', s=10)\n",
    "\n",
    "plt.xlabel('mz')\n",
    "plt.ylabel('num')\n",
    "\n",
    "plt.ylim(0, 0.1)\n",
    "\n",
    "legend_labels = df['Class'].unique()\n",
    "legend_labels_numeric = df['Class'].astype('category').cat.codes.unique()\n",
    "legend_handles = [plt.Line2D([0], [0], marker='o', color='w', markerfacecolor=scatter.cmap(scatter.norm(label)), markersize=10) for label in legend_labels_numeric]\n",
    "plt.legend(legend_handles, legend_labels, title='Ontology', loc='upper left', bbox_to_anchor=(1, 1), fontsize=9)\n",
    "\n",
    "plt.savefig('Data/svg/model/result/neg/rvalue_o-value_etherpc_dist.svg', format='svg', bbox_inches='tight')\n",
    "#plt.grid()"
   ]
  }
 ],
 "metadata": {
  "kernelspec": {
   "display_name": "Python 3 (ipykernel)",
   "language": "python",
   "name": "python3"
  },
  "language_info": {
   "codemirror_mode": {
    "name": "ipython",
    "version": 3
   },
   "file_extension": ".py",
   "mimetype": "text/x-python",
   "name": "python",
   "nbconvert_exporter": "python",
   "pygments_lexer": "ipython3",
   "version": "3.11.6"
  }
 },
 "nbformat": 4,
 "nbformat_minor": 5
}
