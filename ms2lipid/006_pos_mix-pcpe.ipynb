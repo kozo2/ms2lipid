{
 "cells": [
  {
   "cell_type": "code",
   "execution_count": 1,
   "id": "a73f5a2a",
   "metadata": {},
   "outputs": [
    {
     "name": "stderr",
     "output_type": "stream",
     "text": [
      "2024-01-05 06:25:58.221397: I tensorflow/core/util/port.cc:113] oneDNN custom operations are on. You may see slightly different numerical results due to floating-point round-off errors from different computation orders. To turn them off, set the environment variable `TF_ENABLE_ONEDNN_OPTS=0`.\n",
      "2024-01-05 06:25:58.257179: E external/local_xla/xla/stream_executor/cuda/cuda_dnn.cc:9261] Unable to register cuDNN factory: Attempting to register factory for plugin cuDNN when one has already been registered\n",
      "2024-01-05 06:25:58.257233: E external/local_xla/xla/stream_executor/cuda/cuda_fft.cc:607] Unable to register cuFFT factory: Attempting to register factory for plugin cuFFT when one has already been registered\n",
      "2024-01-05 06:25:58.258230: E external/local_xla/xla/stream_executor/cuda/cuda_blas.cc:1515] Unable to register cuBLAS factory: Attempting to register factory for plugin cuBLAS when one has already been registered\n",
      "2024-01-05 06:25:58.264579: I tensorflow/core/platform/cpu_feature_guard.cc:182] This TensorFlow binary is optimized to use available CPU instructions in performance-critical operations.\n",
      "To enable the following instructions: AVX2 AVX512F AVX512_VNNI FMA, in other operations, rebuild TensorFlow with the appropriate compiler flags.\n",
      "2024-01-05 06:25:59.081982: W tensorflow/compiler/tf2tensorrt/utils/py_utils.cc:38] TF-TRT Warning: Could not find TensorRT\n"
     ]
    }
   ],
   "source": [
    "import pandas as pd\n",
    "import base\n",
    "import os\n",
    "import pickle\n",
    "from keras.models import load_model\n",
    "import numpy as np"
   ]
  },
  {
   "cell_type": "code",
   "execution_count": 2,
   "id": "c128c323",
   "metadata": {},
   "outputs": [],
   "source": [
    "SEED = 42\n",
    "base.fix_seed(SEED)\n",
    "\n",
    "desired_directory = '/home/jovyan/work/spectrum/'\n",
    "os.chdir(desired_directory)"
   ]
  },
  {
   "cell_type": "code",
   "execution_count": 3,
   "id": "7f084f8e-daa6-4509-a27a-b73b5be8704a",
   "metadata": {},
   "outputs": [],
   "source": [
    "loaded_posmodel = load_model(\"Data/03_model/pos/pos_class_model_3\")\n",
    "    \n",
    "with open('Data/03_model/pos/posmodelcolumn_all.pkl', 'rb') as file:\n",
    "    loaded_poscolumns = pickle.load(file)\n",
    "        \n",
    "with open('Data/03_model/pos/pos_replacement_dict_all.pkl', 'rb') as file:\n",
    "    replacement_dict = pickle.load(file)"
   ]
  },
  {
   "cell_type": "code",
   "execution_count": 4,
   "id": "f4ebefaf",
   "metadata": {},
   "outputs": [],
   "source": [
    "df1 = base.import_sqlite3_data('Data/01_sqlite_data/ms2_lipid2.db')\n",
    "df_pos = df1.query('Comment.str.contains(\"Mix\")').query('Ontology.isin([\"PC\",\"PE\",\"EtherPC\",\"EtherPE\"])').query('Adducttype.str.contains(\"\\+\")')[['Ontology','Metabolitename','MSMSspectrum','AverageMz']].\\\n",
    "    reset_index().rename(columns={'index':'ID'})"
   ]
  },
  {
   "cell_type": "code",
   "execution_count": 5,
   "id": "dcddcde9-5323-4ceb-9219-6feec8e7eb54",
   "metadata": {},
   "outputs": [],
   "source": [
    "df_pos = pd.read_csv('Data/02_basedata/pos/df_pos.csv')[['Unnamed: 0','Ontology','Metabolitename','MSMSspectrum','AverageMz']].rename(columns={'Unnamed: 0':'ID'})"
   ]
  },
  {
   "cell_type": "code",
   "execution_count": 7,
   "id": "c876f40e-2abd-456f-a304-2bc92943e635",
   "metadata": {},
   "outputs": [],
   "source": [
    "df_rep = pd.DataFrame(list(replacement_dict.items()), columns=['Ontology', 'Value'])"
   ]
  },
  {
   "cell_type": "code",
   "execution_count": 8,
   "id": "59019087-c512-4a9b-8548-4af9a3967215",
   "metadata": {},
   "outputs": [],
   "source": [
    "df_pos2 = df_pos[df_pos['Ontology'].isin(df_pos[df_pos['Ontology'].isin(df_rep.Ontology.tolist())].Ontology.drop_duplicates().tolist())]"
   ]
  },
  {
   "cell_type": "code",
   "execution_count": 9,
   "id": "4ba2d95c-ada2-48c8-8564-4ad6e5343049",
   "metadata": {},
   "outputs": [],
   "source": [
    "df_pos_exp_ = base.spectrum_tidy_f(df_pos2)\n",
    "df_pos_neuloss_ = base.neutralloss_tidy_f(df_pos2)\n",
    "df_pos_data = base.spectrum_neutralloss_table(df_pos_exp_, df_pos_neuloss_)\n",
    "\n",
    "df_pos_data['div2'] = df_pos_data['AverageMz'].round().astype(int) % 2\n",
    "df_pos_data['modnum'] = base.cal_mod(df_pos_data['AverageMz'])"
   ]
  },
  {
   "cell_type": "code",
   "execution_count": 10,
   "id": "4a6a7500-7ae8-45d2-a492-4eda03e6f8ed",
   "metadata": {},
   "outputs": [
    {
     "name": "stdout",
     "output_type": "stream",
     "text": [
      "265/265 [==============================] - 2s 7ms/step\n"
     ]
    }
   ],
   "source": [
    "columns_to_drop = ['ID', 'AverageMz', 'Metabolitename', 'Ontology']\n",
    "df_pos_data.columns = df_pos_data.columns.astype('str')\n",
    "X1_test = df_pos_data[loaded_poscolumns]\n",
    "y_pred_test = loaded_posmodel.predict(X1_test)"
   ]
  },
  {
   "cell_type": "code",
   "execution_count": 12,
   "id": "2e8ce90e-8e0a-45c4-b287-96ef122e77fc",
   "metadata": {},
   "outputs": [],
   "source": [
    "replacement_dict_reversed = {value: key for key, value in replacement_dict.items()}\n",
    "\n",
    "df_replacement_dict_reversed = pd.DataFrame(columns=['replaced_num', 'replaced_name'])\n",
    "for replacement, original in replacement_dict_reversed.items():\n",
    "    df_replacement_dict_reversed = pd.concat([df_replacement_dict_reversed, pd.DataFrame({'replaced_num': [replacement], 'replaced_name': [original]})], ignore_index=True)"
   ]
  },
  {
   "cell_type": "code",
   "execution_count": 13,
   "id": "0787167d-bc2f-4295-85b2-15a6ff98aa2d",
   "metadata": {},
   "outputs": [],
   "source": [
    "df_pred_test = pd.DataFrame(y_pred_test).rename(columns=df_replacement_dict_reversed['replaced_name'])\n",
    "df_pred_test = pd.concat([df_pred_test, df_pos2.reset_index(drop=True)[['ID']]], axis=1).set_index('ID')\n",
    "\n",
    "y_pred_test_max = np.argmax(y_pred_test, axis=1)\n",
    "y_pred_test_max_ = np.vectorize(base.apply_replacement)(y_pred_test_max, replacement_dict_reversed)\n",
    "\n",
    "df_pred_test['pred_1class'] = y_pred_test_max_\n",
    "df_pred_test['pred_class'] = df_pred_test.drop('pred_1class', axis=1).apply(base.create_pred_class, axis=1)\n",
    "df_pred_test['pred_number'] = df_pred_test['pred_class'].apply(lambda x: len(x.split(',')))"
   ]
  },
  {
   "cell_type": "code",
   "execution_count": 14,
   "id": "d48013ee-e1b1-47e8-945f-a61821fa27c4",
   "metadata": {},
   "outputs": [],
   "source": [
    "df_pred_result = df_pred_test[['pred_1class','pred_class','pred_number']].reset_index()"
   ]
  },
  {
   "cell_type": "code",
   "execution_count": 15,
   "id": "94d77ccb-372d-49ed-834a-9e6278e175c4",
   "metadata": {},
   "outputs": [],
   "source": [
    "df_pred_resultx = df_pred_result.merge(df_pos2[['ID','Metabolitename','Ontology']],how='inner',on='ID')#.query('Ontology == \"MLCL\"')"
   ]
  },
  {
   "cell_type": "code",
   "execution_count": 16,
   "id": "acc03ee4-1aff-4807-946c-7d7c0892e820",
   "metadata": {},
   "outputs": [
    {
     "data": {
      "text/html": [
       "<div>\n",
       "<style scoped>\n",
       "    .dataframe tbody tr th:only-of-type {\n",
       "        vertical-align: middle;\n",
       "    }\n",
       "\n",
       "    .dataframe tbody tr th {\n",
       "        vertical-align: top;\n",
       "    }\n",
       "\n",
       "    .dataframe thead th {\n",
       "        text-align: right;\n",
       "    }\n",
       "</style>\n",
       "<table border=\"1\" class=\"dataframe\">\n",
       "  <thead>\n",
       "    <tr style=\"text-align: right;\">\n",
       "      <th></th>\n",
       "      <th>ID</th>\n",
       "      <th>pred_1class</th>\n",
       "      <th>pred_class</th>\n",
       "      <th>pred_number</th>\n",
       "      <th>Metabolitename</th>\n",
       "      <th>Ontology</th>\n",
       "    </tr>\n",
       "  </thead>\n",
       "  <tbody>\n",
       "    <tr>\n",
       "      <th>567</th>\n",
       "      <td>3538</td>\n",
       "      <td>PE</td>\n",
       "      <td>PE:0.959,PC:0.022,EtherPC:0.015</td>\n",
       "      <td>3</td>\n",
       "      <td>PE 35:2</td>\n",
       "      <td>PE</td>\n",
       "    </tr>\n",
       "    <tr>\n",
       "      <th>569</th>\n",
       "      <td>3540</td>\n",
       "      <td>PE</td>\n",
       "      <td>PE:0.766,PC:0.157,EtherPC:0.062</td>\n",
       "      <td>3</td>\n",
       "      <td>PC O-33:2</td>\n",
       "      <td>EtherPC</td>\n",
       "    </tr>\n",
       "    <tr>\n",
       "      <th>674</th>\n",
       "      <td>3684</td>\n",
       "      <td>EtherPC</td>\n",
       "      <td>EtherPC:0.908,PC:0.061,PE:0.023</td>\n",
       "      <td>3</td>\n",
       "      <td>PC O-37:6</td>\n",
       "      <td>EtherPC</td>\n",
       "    </tr>\n",
       "    <tr>\n",
       "      <th>863</th>\n",
       "      <td>3948</td>\n",
       "      <td>PE</td>\n",
       "      <td>PE:0.548,PC:0.194,SM:0.133,TG:0.041,EtherPC:0....</td>\n",
       "      <td>6</td>\n",
       "      <td>PE 46:1</td>\n",
       "      <td>PE</td>\n",
       "    </tr>\n",
       "    <tr>\n",
       "      <th>895</th>\n",
       "      <td>3993</td>\n",
       "      <td>EtherPC</td>\n",
       "      <td>EtherPC:0.647,PE:0.173,PC:0.133,SM:0.036</td>\n",
       "      <td>4</td>\n",
       "      <td>PC 45:2</td>\n",
       "      <td>PC</td>\n",
       "    </tr>\n",
       "    <tr>\n",
       "      <th>927</th>\n",
       "      <td>4041</td>\n",
       "      <td>PC</td>\n",
       "      <td>PC:0.218,EtherPC:0.217,SM:0.184,TG:0.079,PI:0....</td>\n",
       "      <td>9</td>\n",
       "      <td>PC 48:2|PC 18:1_30:1</td>\n",
       "      <td>PC</td>\n",
       "    </tr>\n",
       "    <tr>\n",
       "      <th>6070</th>\n",
       "      <td>32385</td>\n",
       "      <td>EtherPC</td>\n",
       "      <td>EtherPC:0.627,PE:0.371</td>\n",
       "      <td>2</td>\n",
       "      <td>PC O-34:4</td>\n",
       "      <td>EtherPC</td>\n",
       "    </tr>\n",
       "    <tr>\n",
       "      <th>6100</th>\n",
       "      <td>32424</td>\n",
       "      <td>EtherPC</td>\n",
       "      <td>EtherPC:0.886,PE:0.076,PC:0.033</td>\n",
       "      <td>3</td>\n",
       "      <td>PC O-36:7</td>\n",
       "      <td>EtherPC</td>\n",
       "    </tr>\n",
       "    <tr>\n",
       "      <th>6863</th>\n",
       "      <td>34149</td>\n",
       "      <td>PC</td>\n",
       "      <td>PC:0.637,PE:0.278,TG:0.028,EtherPC:0.013,PG:0.01</td>\n",
       "      <td>5</td>\n",
       "      <td>PG 34:0|PG 16:0_18:0</td>\n",
       "      <td>PG</td>\n",
       "    </tr>\n",
       "    <tr>\n",
       "      <th>7228</th>\n",
       "      <td>34638</td>\n",
       "      <td>EtherPC</td>\n",
       "      <td>EtherPC:0.777,EtherPE:0.106,PE:0.043,PC:0.02</td>\n",
       "      <td>4</td>\n",
       "      <td>PE P-38:6|PE P-18:1_20:5</td>\n",
       "      <td>EtherPE</td>\n",
       "    </tr>\n",
       "    <tr>\n",
       "      <th>7865</th>\n",
       "      <td>36122</td>\n",
       "      <td>PC</td>\n",
       "      <td>PC:0.369,EtherPC:0.336,PE:0.187,EtherPE:0.079</td>\n",
       "      <td>4</td>\n",
       "      <td>PE 40:4</td>\n",
       "      <td>PE</td>\n",
       "    </tr>\n",
       "  </tbody>\n",
       "</table>\n",
       "</div>"
      ],
      "text/plain": [
       "         ID pred_1class                                         pred_class  \\\n",
       "567    3538          PE                    PE:0.959,PC:0.022,EtherPC:0.015   \n",
       "569    3540          PE                    PE:0.766,PC:0.157,EtherPC:0.062   \n",
       "674    3684     EtherPC                    EtherPC:0.908,PC:0.061,PE:0.023   \n",
       "863    3948          PE  PE:0.548,PC:0.194,SM:0.133,TG:0.041,EtherPC:0....   \n",
       "895    3993     EtherPC           EtherPC:0.647,PE:0.173,PC:0.133,SM:0.036   \n",
       "927    4041          PC  PC:0.218,EtherPC:0.217,SM:0.184,TG:0.079,PI:0....   \n",
       "6070  32385     EtherPC                             EtherPC:0.627,PE:0.371   \n",
       "6100  32424     EtherPC                    EtherPC:0.886,PE:0.076,PC:0.033   \n",
       "6863  34149          PC   PC:0.637,PE:0.278,TG:0.028,EtherPC:0.013,PG:0.01   \n",
       "7228  34638     EtherPC       EtherPC:0.777,EtherPE:0.106,PE:0.043,PC:0.02   \n",
       "7865  36122          PC      PC:0.369,EtherPC:0.336,PE:0.187,EtherPE:0.079   \n",
       "\n",
       "      pred_number            Metabolitename Ontology  \n",
       "567             3                   PE 35:2       PE  \n",
       "569             3                 PC O-33:2  EtherPC  \n",
       "674             3                 PC O-37:6  EtherPC  \n",
       "863             6                   PE 46:1       PE  \n",
       "895             4                   PC 45:2       PC  \n",
       "927             9      PC 48:2|PC 18:1_30:1       PC  \n",
       "6070            2                 PC O-34:4  EtherPC  \n",
       "6100            3                 PC O-36:7  EtherPC  \n",
       "6863            5      PG 34:0|PG 16:0_18:0       PG  \n",
       "7228            4  PE P-38:6|PE P-18:1_20:5  EtherPE  \n",
       "7865            4                   PE 40:4       PE  "
      ]
     },
     "execution_count": 16,
     "metadata": {},
     "output_type": "execute_result"
    }
   ],
   "source": [
    "df_pred_resultx.query('pred_class.str.contains(\"PC\")').query('pred_class.str.contains(\"PE\")').query('pred_1class.isin([\"PC\",\"PE\",\"EtherPC\",\"EtherPE\"])')"
   ]
  },
  {
   "cell_type": "code",
   "execution_count": 17,
   "id": "c55678a7-0a08-4bff-9716-a4cf1679f0de",
   "metadata": {},
   "outputs": [],
   "source": [
    "df_pos_data_posint = df_pos_data.set_index('ID').drop(columns=['AverageMz', 'Metabolitename', 'Ontology', 'div2', 'modnum', 'MSMSspectrum'])\n",
    "df_pos_data_posint = df_pos_data_posint[[col for col in df_pos_data_posint.columns.astype(str) if '-' not in col]]"
   ]
  },
  {
   "cell_type": "code",
   "execution_count": 18,
   "id": "0b5705d2-13b3-4891-b681-85444f74bbf2",
   "metadata": {},
   "outputs": [
    {
     "data": {
      "image/png": "[encoded data removed]",
      "text/plain": [
       "<Figure size 400x300 with 1 Axes>"
      ]
     },
     "metadata": {},
     "output_type": "display_data"
    }
   ],
   "source": [
    "import matplotlib.pyplot as plt\n",
    "\n",
    "Alignmnentid = 3948 #3993 #36122#32385#34638\n",
    "df1= pd.DataFrame(df_pos_data_posint.loc[Alignmnentid]).reset_index().rename(columns={'index':'mz',Alignmnentid:'exp'}).astype('float')\n",
    "\n",
    "fig, axs = plt.subplots(1, 1, figsize=(4, 3))\n",
    "\n",
    "axs.plot(df1['mz'], df1['exp'], color='black')\n",
    "axs.set_xlabel('M/Z', fontsize=12)\n",
    "axs.set_ylabel('Intensity', fontsize=12)\n",
    "axs.set_title('Alignment ID: ' + str(Alignmnentid), fontsize=12)\n",
    "axs.set_xlim(0, 1250)\n",
    "\n",
    "plt.savefig('Data/svg/model/result/pos/data_id3948_pcpemix.svg', format='svg', bbox_inches='tight')\n",
    "plt.show()"
   ]
  },
  {
   "cell_type": "code",
   "execution_count": 20,
   "id": "d561459e-5b4b-4226-af8a-3e444ddf7e39",
   "metadata": {},
   "outputs": [
    {
     "data": {
      "text/html": [
       "<div>\n",
       "<style scoped>\n",
       "    .dataframe tbody tr th:only-of-type {\n",
       "        vertical-align: middle;\n",
       "    }\n",
       "\n",
       "    .dataframe tbody tr th {\n",
       "        vertical-align: top;\n",
       "    }\n",
       "\n",
       "    .dataframe thead th {\n",
       "        text-align: right;\n",
       "    }\n",
       "</style>\n",
       "<table border=\"1\" class=\"dataframe\">\n",
       "  <thead>\n",
       "    <tr style=\"text-align: right;\">\n",
       "      <th></th>\n",
       "      <th>mz</th>\n",
       "      <th>int</th>\n",
       "    </tr>\n",
       "  </thead>\n",
       "  <tbody>\n",
       "    <tr>\n",
       "      <th>1</th>\n",
       "      <td>86.09647</td>\n",
       "      <td>36.0</td>\n",
       "    </tr>\n",
       "    <tr>\n",
       "      <th>5</th>\n",
       "      <td>124.99915</td>\n",
       "      <td>60.0</td>\n",
       "    </tr>\n",
       "    <tr>\n",
       "      <th>14</th>\n",
       "      <td>184.07291</td>\n",
       "      <td>2062.0</td>\n",
       "    </tr>\n",
       "    <tr>\n",
       "      <th>15</th>\n",
       "      <td>185.07649</td>\n",
       "      <td>177.0</td>\n",
       "    </tr>\n",
       "    <tr>\n",
       "      <th>24</th>\n",
       "      <td>405.41019</td>\n",
       "      <td>80.0</td>\n",
       "    </tr>\n",
       "    <tr>\n",
       "      <th>31</th>\n",
       "      <td>479.45383</td>\n",
       "      <td>36.0</td>\n",
       "    </tr>\n",
       "    <tr>\n",
       "      <th>43</th>\n",
       "      <td>741.67511</td>\n",
       "      <td>590.0</td>\n",
       "    </tr>\n",
       "    <tr>\n",
       "      <th>44</th>\n",
       "      <td>742.68060</td>\n",
       "      <td>36.0</td>\n",
       "    </tr>\n",
       "    <tr>\n",
       "      <th>46</th>\n",
       "      <td>743.68164</td>\n",
       "      <td>139.0</td>\n",
       "    </tr>\n",
       "    <tr>\n",
       "      <th>47</th>\n",
       "      <td>744.68640</td>\n",
       "      <td>80.0</td>\n",
       "    </tr>\n",
       "    <tr>\n",
       "      <th>48</th>\n",
       "      <td>745.69031</td>\n",
       "      <td>463.0</td>\n",
       "    </tr>\n",
       "    <tr>\n",
       "      <th>53</th>\n",
       "      <td>886.73047</td>\n",
       "      <td>579.0</td>\n",
       "    </tr>\n",
       "    <tr>\n",
       "      <th>54</th>\n",
       "      <td>886.77466</td>\n",
       "      <td>556.0</td>\n",
       "    </tr>\n",
       "  </tbody>\n",
       "</table>\n",
       "</div>"
      ],
      "text/plain": [
       "           mz     int\n",
       "1    86.09647    36.0\n",
       "5   124.99915    60.0\n",
       "14  184.07291  2062.0\n",
       "15  185.07649   177.0\n",
       "24  405.41019    80.0\n",
       "31  479.45383    36.0\n",
       "43  741.67511   590.0\n",
       "44  742.68060    36.0\n",
       "46  743.68164   139.0\n",
       "47  744.68640    80.0\n",
       "48  745.69031   463.0\n",
       "53  886.73047   579.0\n",
       "54  886.77466   556.0"
      ]
     },
     "execution_count": 20,
     "metadata": {},
     "output_type": "execute_result"
    }
   ],
   "source": [
    "element_list = df_pos[df_pos['ID'] == Alignmnentid]['MSMSspectrum'].str.split(' ')\n",
    "\n",
    "mz_list = []\n",
    "int_list = []\n",
    "\n",
    "for element in element_list:\n",
    "    for i in element:\n",
    "        i_div = i.split(':')\n",
    "        mz = i_div[0]\n",
    "        int_val = i_div[1]\n",
    "\n",
    "        mz_list.append(mz)\n",
    "        int_list.append(int_val)\n",
    "\n",
    "df = pd.DataFrame(list(zip(mz_list, int_list))).rename(columns={0:'mz',1:'int'}).astype(float)\n",
    "df.query('int > 30')"
   ]
  },
  {
   "cell_type": "markdown",
   "id": "6db6f9e7",
   "metadata": {},
   "source": [
    "feces data"
   ]
  },
  {
   "cell_type": "code",
   "execution_count": 6,
   "id": "19c8b973",
   "metadata": {},
   "outputs": [],
   "source": [
    "df_replacement_dict = pd.DataFrame(columns=['replaced_name', 'replaced_num'])\n",
    "for replacement, original in replacement_dict.items():\n",
    "    df_replacement_dict = pd.concat([df_replacement_dict, pd.DataFrame({'replaced_name': [replacement], 'replaced_num': [original]})], ignore_index=True)"
   ]
  },
  {
   "cell_type": "code",
   "execution_count": 7,
   "id": "2a9aca1b",
   "metadata": {},
   "outputs": [],
   "source": [
    "df_pos_data2x = pd.read_csv('Data/02_basedata/pos/pos2.csv')\n",
    "df_ont_val = pd.DataFrame(df_pos_data2x.Ontology.value_counts()).reset_index().\\\n",
    "merge(df_replacement_dict, how='inner', left_on = 'Ontology', right_on = 'replaced_name').drop(columns='replaced_name')\n",
    "df_ont_val['val'] = 1 / df_ont_val['count']"
   ]
  },
  {
   "cell_type": "code",
   "execution_count": 8,
   "id": "d3dbd9ed",
   "metadata": {},
   "outputs": [],
   "source": [
    "df_pos_height = pd.read_csv('Data/07_projectohno/pos/pos_Height_0_2023_11_01_18_22_40.txt', sep='\\t',header=4, delimiter=None)\\\n",
    "[['Alignment ID','Average Mz', 'Metabolite name', 'Adduct type', 'MS/MS assigned','Ontology', 'INCHIKEY', 'SMILES', 'MS/MS spectrum', 'Comment']]"
   ]
  },
  {
   "cell_type": "markdown",
   "id": "9f538a22",
   "metadata": {},
   "source": [
    "MS2をもつすべてについての予測"
   ]
  },
  {
   "cell_type": "code",
   "execution_count": 9,
   "id": "2316e5e3",
   "metadata": {},
   "outputs": [],
   "source": [
    "df_pos_height['Alignment ID'] = df_pos_height['Alignment ID'].astype(int)\n",
    "df_pos_height_ms2 = df_pos_height[~df_pos_height['MS/MS spectrum'].isna()].reset_index(drop=True)\n",
    "\n",
    "df_pos_exp_ = base.spectrum_tidy_f2(df_pos_height_ms2)\n",
    "df_pos_neuloss_ = base.neutralloss_tidy_f2(df_pos_height_ms2)\n",
    "df_pos_data = base.spectrum_neutralloss_table_f2(df_pos_exp_, df_pos_neuloss_)\n",
    "\n",
    "df_pos_data['div2'] = df_pos_data['Average Mz'].round().astype(int) % 2\n",
    "df_pos_data['modnum'] = base.cal_mod(df_pos_data['Average Mz'])\n",
    "\n",
    "columns_to_drop = ['Alignment ID', 'Average Mz', 'Metabolite name', 'Ontology']\n",
    "df_pos_data.columns = df_pos_data.columns.astype('str')\n",
    "X1_test = df_pos_data[loaded_poscolumns]\n",
    "y_pred_test = loaded_posmodel.predict(X1_test)"
   ]
  },
  {
   "cell_type": "code",
   "execution_count": null,
   "id": "dfe0ad10",
   "metadata": {},
   "outputs": [],
   "source": [
    "replacement_dict_reversed = {value: key for key, value in replacement_dict.items()}\n",
    "\n",
    "df_replacement_dict_reversed = pd.DataFrame(columns=['replaced_num', 'replaced_name'])\n",
    "for replacement, original in replacement_dict_reversed.items():\n",
    "    df_replacement_dict_reversed = pd.concat([df_replacement_dict_reversed, pd.DataFrame({'replaced_num': [replacement], 'replaced_name': [original]})], ignore_index=True)\n",
    "\n",
    "df_pred_test = pd.DataFrame(y_pred_test).rename(columns=df_replacement_dict_reversed['replaced_name'])\n",
    "df_pred_test = pd.concat([df_pred_test, df_pos_height_ms2[['Alignment ID']]], axis=1).set_index('Alignment ID')"
   ]
  },
  {
   "cell_type": "code",
   "execution_count": null,
   "id": "ea7f96a0",
   "metadata": {},
   "outputs": [],
   "source": [
    "y_pred_test_max = np.argmax(y_pred_test, axis=1)\n",
    "y_pred_test_max_ = np.vectorize(base.apply_replacement)(y_pred_test_max, replacement_dict_reversed)\n",
    "\n",
    "df_pred_test['pred_1class'] = y_pred_test_max_\n",
    "df_pred_test['pred_class'] = df_pred_test.drop('pred_1class', axis=1).apply(base.create_pred_class, axis=1)\n",
    "df_pred_test['pred_number'] = df_pred_test['pred_class'].apply(lambda x: len(x.split(',')))\n",
    "\n",
    "df_pred_result_all = df_pred_test[['pred_1class','pred_class','pred_number']].reset_index()"
   ]
  },
  {
   "cell_type": "code",
   "execution_count": null,
   "id": "127a9f6f",
   "metadata": {},
   "outputs": [],
   "source": [
    "df_pred_result_all.query('pred_class.str.contains(\"PC\")').query('pred_class.str.contains(\"PE\")').query('pred_1class.isin([\"PC\", \"PE\"])')"
   ]
  },
  {
   "cell_type": "code",
   "execution_count": null,
   "id": "9cee40a4",
   "metadata": {},
   "outputs": [],
   "source": [
    "df_pred_result_all['Alignment ID'] = df_pred_result_all['Alignment ID'].astype(int)\n",
    "df_neg_data_x2 = df_pos_data[[col for col in df_pos_data.columns.astype(str) if '-' not in col]]\n",
    "df_pred_result_all_X = df_pos_height_ms2[['Alignment ID','Metabolite name','Ontology']].\\\n",
    "merge(df_pred_result_all, how='right', on='Alignment ID').\\\n",
    "      merge(df_neg_data_x2.reset_index(), how='inner', on='Alignment ID')"
   ]
  },
  {
   "cell_type": "code",
   "execution_count": null,
   "id": "a8473579",
   "metadata": {},
   "outputs": [],
   "source": [
    "df_pred_result_all2 = df_pred_result_all.merge(df_pos_height_ms2[['Alignment ID','Average Mz','Metabolite name','Ontology','SMILES','MS/MS spectrum']], how='left', on='Alignment ID')"
   ]
  },
  {
   "cell_type": "code",
   "execution_count": null,
   "id": "fb509b7f",
   "metadata": {},
   "outputs": [],
   "source": [
    "df_pos_data_all = df_pos_data.set_index('Alignment ID').drop(columns=['Average Mz', 'Metabolite name', 'Ontology', 'div2', 'modnum'])\n",
    "df_pos_data_all = df_pos_data_all[[col for col in df_pos_data_all.columns.astype(str) if '-' not in col]]"
   ]
  },
  {
   "cell_type": "code",
   "execution_count": null,
   "id": "5d45c286",
   "metadata": {},
   "outputs": [],
   "source": [
    "import matplotlib.pyplot as plt\n",
    "\n",
    "Alignmnentid = 11330\n",
    "\n",
    "df1= pd.DataFrame(df_pos_data_all.loc[Alignmnentid]).reset_index().rename(columns={'index':'mz',Alignmnentid:'exp'}).astype('float')\n",
    "\n",
    "fig, axs = plt.subplots(1, 1, figsize=(4, 3))\n",
    "\n",
    "axs.plot(df1['mz'], df1['exp'], color='black')\n",
    "axs.set_xlabel('M/Z', fontsize=12)\n",
    "axs.set_ylabel('Intensity', fontsize=12)\n",
    "axs.set_title('Alignment ID: ' + str(Alignmnentid), fontsize=12)\n",
    "axs.set_xlim(0, 1250)\n",
    "\n",
    "plt.savefig('Data/svg/model/result/pos/feces_id12871_gdcae.svg', format='svg', bbox_inches='tight')\n",
    "\n",
    "plt.show()"
   ]
  },
  {
   "cell_type": "code",
   "execution_count": null,
   "id": "96cd3d01",
   "metadata": {},
   "outputs": [],
   "source": [
    "element_list = df_pos_height_ms2[df_pos_height_ms2['Alignment ID']==11330]['MS/MS spectrum'].str.split(' ')\n",
    "\n",
    "mz_list = []\n",
    "int_list = []\n",
    "\n",
    "for element in element_list:\n",
    "    for i in element:\n",
    "        i_div = i.split(':')\n",
    "        mz = i_div[0]\n",
    "        int_val = i_div[1]\n",
    "\n",
    "        mz_list.append(mz)\n",
    "        int_list.append(int_val)\n",
    "\n",
    "df = pd.DataFrame(list(zip(mz_list, int_list))).rename(columns={0:'mz',1:'int'}).astype(float)\n",
    "df.query('int >= 40')"
   ]
  }
 ],
 "metadata": {
  "kernelspec": {
   "display_name": "Python 3 (ipykernel)",
   "language": "python",
   "name": "python3"
  },
  "language_info": {
   "codemirror_mode": {
    "name": "ipython",
    "version": 3
   },
   "file_extension": ".py",
   "mimetype": "text/x-python",
   "name": "python",
   "nbconvert_exporter": "python",
   "pygments_lexer": "ipython3",
   "version": "3.11.6"
  }
 },
 "nbformat": 4,
 "nbformat_minor": 5
}
